{
 "cells": [
  {
   "cell_type": "markdown",
   "metadata": {},
   "source": [
    "## 📋 Table of Contents\n",
    "\n",
    "This notebook covers the following sections:\n",
    "\n",
    "1. **Image Classification with LLM (Images + Prompt)**: Leverage GPT-4 Omni for classification tasks through prompt engineering, directly processing images (document scans).\n",
    "2. **Image Classification with MaaS (SLM) (Images + Prompt)**: Utilize the Phi-3 Vision version of MaaS for classification, directly processing images (document scans)."
   ]
  },
  {
   "cell_type": "code",
   "execution_count": 1,
   "metadata": {},
   "outputs": [
    {
     "name": "stdout",
     "output_type": "stream",
     "text": [
      "Directory changed to C:\\Users\\pablosal\\Desktop\\gbb-ai-smart-document-processing\n"
     ]
    }
   ],
   "source": [
    "import os\n",
    "\n",
    "# Define the target directory\n",
    "target_directory = r\"C:\\Users\\pablosal\\Desktop\\gbb-ai-smart-document-processing\"  # change your directory here\n",
    "\n",
    "# Check if the directory exists\n",
    "if os.path.exists(target_directory):\n",
    "    # Change the current working directory\n",
    "    os.chdir(target_directory)\n",
    "    print(f\"Directory changed to {os.getcwd()}\")\n",
    "else:\n",
    "    print(f\"Directory {target_directory} does not exist.\")\n",
    "\n",
    "from utils.ml_logging import get_logger\n",
    "\n",
    "logger = get_logger()"
   ]
  },
  {
   "cell_type": "markdown",
   "metadata": {},
   "source": [
    "## Image Classification with LLM (Images + Prompt)\n",
    "\n",
    "Leverage GPT-4 Omni for classification tasks through prompt engineering, directly processing images (document scans).\n"
   ]
  },
  {
   "cell_type": "code",
   "execution_count": 2,
   "metadata": {},
   "outputs": [
    {
     "data": {
      "text/html": [
       "<div>\n",
       "<style scoped>\n",
       "    .dataframe tbody tr th:only-of-type {\n",
       "        vertical-align: middle;\n",
       "    }\n",
       "\n",
       "    .dataframe tbody tr th {\n",
       "        vertical-align: top;\n",
       "    }\n",
       "\n",
       "    .dataframe thead th {\n",
       "        text-align: right;\n",
       "    }\n",
       "</style>\n",
       "<table border=\"1\" class=\"dataframe\">\n",
       "  <thead>\n",
       "    <tr style=\"text-align: right;\">\n",
       "      <th></th>\n",
       "      <th>location</th>\n",
       "      <th>label</th>\n",
       "      <th>set</th>\n",
       "    </tr>\n",
       "  </thead>\n",
       "  <tbody>\n",
       "    <tr>\n",
       "      <th>70</th>\n",
       "      <td>utils\\data\\scanned\\test\\scientific report\\scie...</td>\n",
       "      <td>scientific report</td>\n",
       "      <td>test</td>\n",
       "    </tr>\n",
       "    <tr>\n",
       "      <th>71</th>\n",
       "      <td>utils\\data\\scanned\\test\\scientific report\\scie...</td>\n",
       "      <td>scientific report</td>\n",
       "      <td>test</td>\n",
       "    </tr>\n",
       "    <tr>\n",
       "      <th>72</th>\n",
       "      <td>utils\\data\\scanned\\test\\scientific report\\scie...</td>\n",
       "      <td>scientific report</td>\n",
       "      <td>test</td>\n",
       "    </tr>\n",
       "    <tr>\n",
       "      <th>73</th>\n",
       "      <td>utils\\data\\scanned\\test\\scientific report\\scie...</td>\n",
       "      <td>scientific report</td>\n",
       "      <td>test</td>\n",
       "    </tr>\n",
       "    <tr>\n",
       "      <th>74</th>\n",
       "      <td>utils\\data\\scanned\\test\\scientific report\\scie...</td>\n",
       "      <td>scientific report</td>\n",
       "      <td>test</td>\n",
       "    </tr>\n",
       "  </tbody>\n",
       "</table>\n",
       "</div>"
      ],
      "text/plain": [
       "                                             location              label   set\n",
       "70  utils\\data\\scanned\\test\\scientific report\\scie...  scientific report  test\n",
       "71  utils\\data\\scanned\\test\\scientific report\\scie...  scientific report  test\n",
       "72  utils\\data\\scanned\\test\\scientific report\\scie...  scientific report  test\n",
       "73  utils\\data\\scanned\\test\\scientific report\\scie...  scientific report  test\n",
       "74  utils\\data\\scanned\\test\\scientific report\\scie...  scientific report  test"
      ]
     },
     "execution_count": 2,
     "metadata": {},
     "output_type": "execute_result"
    }
   ],
   "source": [
    "import pandas as pd\n",
    "\n",
    "df_test = pd.read_csv(r\"utils\\data\\scanned\\image_data.csv\")\n",
    "df_test = df_test[df_test['set'] == 'test']\n",
    "filtered_df = df_test.groupby('label').head(10)\n",
    "filtered_df.head()"
   ]
  },
  {
   "cell_type": "code",
   "execution_count": 3,
   "metadata": {},
   "outputs": [],
   "source": [
    "CLASSIFICATION_PROMPT = \"\"\"\n",
    "### Task: Document Classification\n",
    "\n",
    "#### Inputs:\n",
    "- **IMAGE**: An image of the document to be classified.\n",
    "\n",
    "#### Instructions:\n",
    "You are required to classify the document based on the provided scanned text. The document should be categorized into the most appropriate category from the list below. If the document does not fit neatly into one category, choose the category that best matches the majority of its characteristics.\n",
    "\n",
    "1. **letter**:\n",
    "    - **Description**: A written or printed message addressed to a specific person or organization.\n",
    "    - **Common Characteristics**:\n",
    "        - Contains salutations and closings.\n",
    "        - Often addressed to a specific person or entity.\n",
    "        - Includes date, sender's and recipient's addresses.\n",
    "\n",
    "2. **form**:\n",
    "    - **Description**: A document with blank fields for the user to fill out with specific information.\n",
    "    - **Common Characteristics**:\n",
    "        - Contains predefined fields and labels.\n",
    "        - Includes spaces for user input.\n",
    "        - Often used for data collection, applications, and surveys.\n",
    "\n",
    "3. **email**:\n",
    "    - **Description**: An electronic message exchanged between people using electronic devices.\n",
    "    - **Common Characteristics**:\n",
    "        - Contains email headers such as \"From\", \"To\", \"Subject\", and \"Date\".\n",
    "        - Includes conversational text.\n",
    "        - May include attachments or references to other documents.\n",
    "\n",
    "4. **handwritten**:\n",
    "    - **Description**: Any document written manually by hand.\n",
    "    - **Common Characteristics**:\n",
    "        - Contains handwritten text.\n",
    "        - May include various writing styles and penmanship.\n",
    "        - Often lacks formal structure.\n",
    "\n",
    "5. **advertisement**:\n",
    "    - **Description**: A public notice promoting a product, service, or event.\n",
    "    - **Common Characteristics**:\n",
    "        - Contains promotional language and visuals.\n",
    "        - Includes information about a product, service, or event.\n",
    "        - Often designed to attract attention.\n",
    "\n",
    "6. **scientific report**:\n",
    "    - **Description**: A detailed account of a scientific study or experiment.\n",
    "    - **Common Characteristics**:\n",
    "        - Includes sections such as introduction, methods, results, and conclusion.\n",
    "        - Contains data, graphs, and references.\n",
    "        - Written in a formal and structured manner.\n",
    "\n",
    "7. **scientific publication**:\n",
    "    - **Description**: An article published in a scientific journal.\n",
    "    - **Common Characteristics**:\n",
    "        - Includes abstract, introduction, methodology, results, and discussion.\n",
    "        - Contains citations and references.\n",
    "        - Peer-reviewed and follows academic standards.\n",
    "\n",
    "8. **specification**:\n",
    "    - **Description**: A detailed description of the requirements, design, or performance of a product or system.\n",
    "    - **Common Characteristics**:\n",
    "        - Includes technical details and standards.\n",
    "        - Structured format with headings and subheadings.\n",
    "        - Often used in engineering and manufacturing.\n",
    "\n",
    "9. **file folder**:\n",
    "    - **Description**: A document that serves as a cover or holder for other documents.\n",
    "    - **Common Characteristics**:\n",
    "        - Contains a label or title indicating the contents.\n",
    "        - Often used for organizing and storing multiple related documents.\n",
    "        - May include a table of contents or summary.\n",
    "\n",
    "10. **news article**:\n",
    "    - **Description**: A written piece reporting on current events or topics of interest.\n",
    "    - **Common Characteristics**:\n",
    "        - Contains headlines and bylines.\n",
    "        - Includes factual reporting and quotes.\n",
    "        - Published in newspapers, magazines, or online platforms.\n",
    "\n",
    "11. **budget**:\n",
    "    - **Description**: A financial plan outlining expected income and expenses.\n",
    "    - **Common Characteristics**:\n",
    "        - Includes numerical data and tables.\n",
    "        - Details various categories of income and expenditure.\n",
    "        - Often used for financial planning and analysis.\n",
    "\n",
    "12. **invoice**:\n",
    "    - **Description**: A commercial document issued by a seller to a buyer, indicating the products, quantities, and agreed prices for products or services.\n",
    "    - **Common Characteristics**:\n",
    "        - Contains the term \"Invoice\".\n",
    "        - Includes seller and buyer information, invoice number, date, and payment terms.\n",
    "        - Lists products or services provided, quantities, unit prices, and total amount due.\n",
    "        - May include tax details and payment instructions.\n",
    "\n",
    "13. **presentation**:\n",
    "    - **Description**: A document used to communicate information visually, often as slides.\n",
    "    - **Common Characteristics**:\n",
    "        - Includes slides with text, images, and graphs.\n",
    "        - Organized in a structured format.\n",
    "        - Often used in meetings and lectures.\n",
    "\n",
    "14. **questionnaire**:\n",
    "    - **Description**: A set of questions designed to gather information from respondents.\n",
    "    - **Common Characteristics**:\n",
    "        - Contains multiple questions.\n",
    "        - May include multiple-choice, open-ended, or scale-based questions.\n",
    "        - Used for surveys and research.\n",
    "\n",
    "15. **resume**:\n",
    "    - **Description**: A document summarizing an individual's education, work experience, and skills.\n",
    "    - **Common Characteristics**:\n",
    "        - Includes sections such as contact information, work experience, education, and skills.\n",
    "        - Written in a concise and structured format.\n",
    "        - Used for job applications.\n",
    "\n",
    "16. **memo**:\n",
    "    - **Description**: A brief written message used for internal communication within an organization.\n",
    "    - **Common Characteristics**:\n",
    "        - Contains a header with the recipient, sender, date, and subject.\n",
    "        - Includes concise information or instructions.\n",
    "        - Often used for announcements and updates.\n",
    "\n",
    "#### Steps to Classify the Document:\n",
    "1. Carefully examine the text provided in markdown format, which includes the OCR output of the scanned document.\n",
    "2. Identify key elements and details within the document that match the descriptions of the categories listed above.\n",
    "3. Select the category that best fits the document based on its content and purpose. If the document seems to fit into more than one category, choose the one that matches the majority of its characteristics.\n",
    "4. Provide the name of the category as a single word (e.g., letter, form, email) based on your analysis of the document content.\n",
    "\n",
    "#### Output:\n",
    "- Return only the chosen category as a plain string without any additional characters. Remember the categories are: \"letter\", \"form\", \"email\", \"handwritten\", \"advertisement\", \"scientific report\", \"scientific publication\", \"specification\", \"file folder\", \"news article\", \"budget\", \"invoice\", \"presentation\", \"questionnaire\", \"resume\", \"memo\" Do not add any additional characters.\"\"\""
   ]
  },
  {
   "cell_type": "code",
   "execution_count": 4,
   "metadata": {},
   "outputs": [],
   "source": [
    "from src.aoai.azure_openai import AzureOpenAIManager\n",
    "\n",
    "az_manager = AzureOpenAIManager(\n",
    "    azure_endpoint=os.getenv(\"AZURE_OPENAI_ENDPOINT\"),\n",
    "    chat_model_name=os.getenv(\"DEPLOYMENT_ID\"),\n",
    "    api_key=os.getenv(\"OPENAI_API_KEY\"),\n",
    "    api_version=os.getenv(\"DEPLOYMENT_VERSION\"),\n",
    ")"
   ]
  },
  {
   "cell_type": "code",
   "execution_count": 5,
   "metadata": {},
   "outputs": [
    {
     "name": "stderr",
     "output_type": "stream",
     "text": [
      "2024-08-14 10:35:45,535 - micro - MainProcess - INFO     Processing row 70: Full Path: utils\\data\\scanned\\test\\scientific report\\scientific report_0.png, Document Type: scientific report (3751155626.py:process_row:31)\n",
      "2024-08-14 10:35:45,551 - micro - MainProcess - INFO     Processing row 71: Full Path: utils\\data\\scanned\\test\\scientific report\\scientific report_1.png, Document Type: scientific report (3751155626.py:process_row:31)\n",
      "2024-08-14 10:35:45,555 - micro - MainProcess - INFO     Processing row 72: Full Path: utils\\data\\scanned\\test\\scientific report\\scientific report_2.png, Document Type: scientific report (3751155626.py:process_row:31)\n",
      "2024-08-14 10:35:45,559 - micro - MainProcess - INFO     Processing row 73: Full Path: utils\\data\\scanned\\test\\scientific report\\scientific report_3.png, Document Type: scientific report (3751155626.py:process_row:31)\n",
      "2024-08-14 10:35:45,584 - micro - MainProcess - INFO     Processing row 74: Full Path: utils\\data\\scanned\\test\\scientific report\\scientific report_4.png, Document Type: scientific report (3751155626.py:process_row:31)\n",
      "2024-08-14 10:35:47,218 - micro - MainProcess - INFO     Successfully processed row 73 in 1.6588 seconds. (3751155626.py:process_row:53)\n",
      "2024-08-14 10:35:47,223 - micro - MainProcess - INFO     Processing row 75: Full Path: utils\\data\\scanned\\test\\scientific report\\scientific report_5.png, Document Type: scientific report (3751155626.py:process_row:31)\n",
      "2024-08-14 10:35:47,369 - micro - MainProcess - INFO     Successfully processed row 70 in 1.8346 seconds. (3751155626.py:process_row:53)\n",
      "2024-08-14 10:35:47,372 - micro - MainProcess - INFO     Processing row 76: Full Path: utils\\data\\scanned\\test\\scientific report\\scientific report_6.png, Document Type: scientific report (3751155626.py:process_row:31)\n",
      "2024-08-14 10:35:47,445 - micro - MainProcess - INFO     Successfully processed row 74 in 1.8617 seconds. (3751155626.py:process_row:53)\n",
      "2024-08-14 10:35:47,447 - micro - MainProcess - INFO     Processing row 77: Full Path: utils\\data\\scanned\\test\\scientific report\\scientific report_7.png, Document Type: scientific report (3751155626.py:process_row:31)\n",
      "2024-08-14 10:35:47,719 - micro - MainProcess - INFO     Successfully processed row 71 in 2.1685 seconds. (3751155626.py:process_row:53)\n",
      "2024-08-14 10:35:47,721 - micro - MainProcess - INFO     Processing row 78: Full Path: utils\\data\\scanned\\test\\scientific report\\scientific report_8.png, Document Type: scientific report (3751155626.py:process_row:31)\n",
      "2024-08-14 10:35:48,920 - micro - MainProcess - INFO     Successfully processed row 72 in 3.3652 seconds. (3751155626.py:process_row:53)\n",
      "2024-08-14 10:35:48,923 - micro - MainProcess - INFO     Processing row 79: Full Path: utils\\data\\scanned\\test\\scientific report\\scientific report_9.png, Document Type: scientific report (3751155626.py:process_row:31)\n",
      "2024-08-14 10:35:49,734 - micro - MainProcess - INFO     Successfully processed row 77 in 2.2870 seconds. (3751155626.py:process_row:53)\n",
      "2024-08-14 10:35:49,739 - micro - MainProcess - INFO     Processing row 170: Full Path: utils\\data\\scanned\\test\\form\\form_0.png, Document Type: form (3751155626.py:process_row:31)\n",
      "2024-08-14 10:35:50,253 - micro - MainProcess - INFO     Successfully processed row 76 in 2.8801 seconds. (3751155626.py:process_row:53)\n",
      "2024-08-14 10:35:50,255 - micro - MainProcess - INFO     Processing row 171: Full Path: utils\\data\\scanned\\test\\form\\form_1.png, Document Type: form (3751155626.py:process_row:31)\n",
      "2024-08-14 10:35:50,919 - micro - MainProcess - INFO     Successfully processed row 79 in 1.9959 seconds. (3751155626.py:process_row:53)\n",
      "2024-08-14 10:35:50,925 - micro - MainProcess - INFO     Processing row 172: Full Path: utils\\data\\scanned\\test\\form\\form_2.png, Document Type: form (3751155626.py:process_row:31)\n",
      "2024-08-14 10:35:50,952 - micro - MainProcess - INFO     Successfully processed row 75 in 3.7292 seconds. (3751155626.py:process_row:53)\n",
      "2024-08-14 10:35:50,954 - micro - MainProcess - INFO     Processing row 173: Full Path: utils\\data\\scanned\\test\\form\\form_3.png, Document Type: form (3751155626.py:process_row:31)\n",
      "2024-08-14 10:35:51,249 - micro - MainProcess - INFO     Successfully processed row 78 in 3.5283 seconds. (3751155626.py:process_row:53)\n",
      "2024-08-14 10:35:51,251 - micro - MainProcess - INFO     Processing row 174: Full Path: utils\\data\\scanned\\test\\form\\form_4.png, Document Type: form (3751155626.py:process_row:31)\n",
      "2024-08-14 10:35:51,313 - micro - MainProcess - INFO     Successfully processed row 170 in 1.5742 seconds. (3751155626.py:process_row:53)\n",
      "2024-08-14 10:35:51,316 - micro - MainProcess - INFO     Processing row 175: Full Path: utils\\data\\scanned\\test\\form\\form_5.png, Document Type: form (3751155626.py:process_row:31)\n",
      "2024-08-14 10:35:52,831 - micro - MainProcess - INFO     Successfully processed row 171 in 2.5759 seconds. (3751155626.py:process_row:53)\n",
      "2024-08-14 10:35:52,842 - micro - MainProcess - INFO     Processing row 176: Full Path: utils\\data\\scanned\\test\\form\\form_6.png, Document Type: form (3751155626.py:process_row:31)\n",
      "2024-08-14 10:35:52,915 - micro - MainProcess - INFO     Successfully processed row 172 in 1.9896 seconds. (3751155626.py:process_row:53)\n",
      "2024-08-14 10:35:52,918 - micro - MainProcess - INFO     Processing row 177: Full Path: utils\\data\\scanned\\test\\form\\form_7.png, Document Type: form (3751155626.py:process_row:31)\n",
      "2024-08-14 10:35:53,015 - micro - MainProcess - INFO     Successfully processed row 174 in 1.7636 seconds. (3751155626.py:process_row:53)\n",
      "2024-08-14 10:35:53,019 - micro - MainProcess - INFO     Processing row 178: Full Path: utils\\data\\scanned\\test\\form\\form_8.png, Document Type: form (3751155626.py:process_row:31)\n",
      "2024-08-14 10:35:53,160 - micro - MainProcess - INFO     Successfully processed row 175 in 1.8442 seconds. (3751155626.py:process_row:53)\n",
      "2024-08-14 10:35:53,250 - micro - MainProcess - INFO     Processing row 179: Full Path: utils\\data\\scanned\\test\\form\\form_9.png, Document Type: form (3751155626.py:process_row:31)\n",
      "2024-08-14 10:35:54,383 - micro - MainProcess - INFO     Successfully processed row 173 in 3.4292 seconds. (3751155626.py:process_row:53)\n",
      "2024-08-14 10:35:54,383 - micro - MainProcess - INFO     Processing row 270: Full Path: utils\\data\\scanned\\test\\resume\\resume_0.png, Document Type: resume (3751155626.py:process_row:31)\n",
      "2024-08-14 10:35:54,676 - micro - MainProcess - INFO     Successfully processed row 179 in 1.4256 seconds. (3751155626.py:process_row:53)\n",
      "2024-08-14 10:35:54,680 - micro - MainProcess - INFO     Processing row 271: Full Path: utils\\data\\scanned\\test\\resume\\resume_1.png, Document Type: resume (3751155626.py:process_row:31)\n",
      "2024-08-14 10:35:54,758 - micro - MainProcess - INFO     Successfully processed row 177 in 1.8406 seconds. (3751155626.py:process_row:53)\n",
      "2024-08-14 10:35:54,760 - micro - MainProcess - INFO     Processing row 272: Full Path: utils\\data\\scanned\\test\\resume\\resume_2.png, Document Type: resume (3751155626.py:process_row:31)\n",
      "2024-08-14 10:35:54,824 - micro - MainProcess - INFO     Successfully processed row 178 in 1.8051 seconds. (3751155626.py:process_row:53)\n",
      "2024-08-14 10:35:54,827 - micro - MainProcess - INFO     Processing row 273: Full Path: utils\\data\\scanned\\test\\resume\\resume_3.png, Document Type: resume (3751155626.py:process_row:31)\n",
      "2024-08-14 10:35:54,900 - micro - MainProcess - INFO     Successfully processed row 176 in 2.0577 seconds. (3751155626.py:process_row:53)\n",
      "2024-08-14 10:35:54,903 - micro - MainProcess - INFO     Processing row 274: Full Path: utils\\data\\scanned\\test\\resume\\resume_4.png, Document Type: resume (3751155626.py:process_row:31)\n",
      "2024-08-14 10:35:56,549 - micro - MainProcess - INFO     Successfully processed row 270 in 2.1660 seconds. (3751155626.py:process_row:53)\n",
      "2024-08-14 10:35:56,553 - micro - MainProcess - INFO     Processing row 275: Full Path: utils\\data\\scanned\\test\\resume\\resume_5.png, Document Type: resume (3751155626.py:process_row:31)\n",
      "2024-08-14 10:35:56,778 - micro - MainProcess - INFO     Successfully processed row 274 in 1.8744 seconds. (3751155626.py:process_row:53)\n",
      "2024-08-14 10:35:56,779 - micro - MainProcess - INFO     Processing row 276: Full Path: utils\\data\\scanned\\test\\resume\\resume_6.png, Document Type: resume (3751155626.py:process_row:31)\n",
      "2024-08-14 10:35:57,024 - micro - MainProcess - INFO     Successfully processed row 272 in 2.2641 seconds. (3751155626.py:process_row:53)\n",
      "2024-08-14 10:35:57,026 - micro - MainProcess - INFO     Processing row 277: Full Path: utils\\data\\scanned\\test\\resume\\resume_7.png, Document Type: resume (3751155626.py:process_row:31)\n",
      "2024-08-14 10:35:57,035 - micro - MainProcess - INFO     Successfully processed row 273 in 2.2082 seconds. (3751155626.py:process_row:53)\n",
      "2024-08-14 10:35:57,056 - micro - MainProcess - INFO     Processing row 278: Full Path: utils\\data\\scanned\\test\\resume\\resume_8.png, Document Type: resume (3751155626.py:process_row:31)\n",
      "2024-08-14 10:35:57,674 - micro - MainProcess - INFO     Successfully processed row 271 in 2.9947 seconds. (3751155626.py:process_row:53)\n",
      "2024-08-14 10:35:57,677 - micro - MainProcess - INFO     Processing row 279: Full Path: utils\\data\\scanned\\test\\resume\\resume_9.png, Document Type: resume (3751155626.py:process_row:31)\n",
      "2024-08-14 10:35:58,914 - micro - MainProcess - INFO     Successfully processed row 275 in 2.3609 seconds. (3751155626.py:process_row:53)\n",
      "2024-08-14 10:35:58,917 - micro - MainProcess - INFO     Processing row 370: Full Path: utils\\data\\scanned\\test\\invoice\\invoice_0.png, Document Type: invoice (3751155626.py:process_row:31)\n",
      "2024-08-14 10:35:59,124 - micro - MainProcess - INFO     Successfully processed row 276 in 2.3443 seconds. (3751155626.py:process_row:53)\n",
      "2024-08-14 10:35:59,126 - micro - MainProcess - INFO     Processing row 371: Full Path: utils\\data\\scanned\\test\\invoice\\invoice_1.png, Document Type: invoice (3751155626.py:process_row:31)\n",
      "2024-08-14 10:35:59,274 - micro - MainProcess - INFO     Successfully processed row 278 in 2.2201 seconds. (3751155626.py:process_row:53)\n",
      "2024-08-14 10:35:59,277 - micro - MainProcess - INFO     Processing row 372: Full Path: utils\\data\\scanned\\test\\invoice\\invoice_2.png, Document Type: invoice (3751155626.py:process_row:31)\n",
      "2024-08-14 10:35:59,581 - micro - MainProcess - INFO     Successfully processed row 279 in 1.9055 seconds. (3751155626.py:process_row:53)\n",
      "2024-08-14 10:35:59,583 - micro - MainProcess - INFO     Processing row 373: Full Path: utils\\data\\scanned\\test\\invoice\\invoice_3.png, Document Type: invoice (3751155626.py:process_row:31)\n",
      "2024-08-14 10:35:59,745 - micro - MainProcess - INFO     Successfully processed row 277 in 2.7182 seconds. (3751155626.py:process_row:53)\n",
      "2024-08-14 10:35:59,747 - micro - MainProcess - INFO     Processing row 374: Full Path: utils\\data\\scanned\\test\\invoice\\invoice_4.png, Document Type: invoice (3751155626.py:process_row:31)\n",
      "2024-08-14 10:36:00,461 - micro - MainProcess - INFO     Successfully processed row 370 in 1.5452 seconds. (3751155626.py:process_row:53)\n",
      "2024-08-14 10:36:00,463 - micro - MainProcess - INFO     Processing row 375: Full Path: utils\\data\\scanned\\test\\invoice\\invoice_5.png, Document Type: invoice (3751155626.py:process_row:31)\n",
      "2024-08-14 10:36:00,848 - micro - MainProcess - INFO     Successfully processed row 371 in 1.7232 seconds. (3751155626.py:process_row:53)\n",
      "2024-08-14 10:36:00,852 - micro - MainProcess - INFO     Processing row 376: Full Path: utils\\data\\scanned\\test\\invoice\\invoice_6.png, Document Type: invoice (3751155626.py:process_row:31)\n",
      "2024-08-14 10:36:01,056 - micro - MainProcess - INFO     Successfully processed row 372 in 1.7789 seconds. (3751155626.py:process_row:53)\n",
      "2024-08-14 10:36:01,163 - micro - MainProcess - INFO     Processing row 377: Full Path: utils\\data\\scanned\\test\\invoice\\invoice_7.png, Document Type: invoice (3751155626.py:process_row:31)\n",
      "2024-08-14 10:36:01,591 - micro - MainProcess - INFO     Successfully processed row 373 in 2.0079 seconds. (3751155626.py:process_row:53)\n",
      "2024-08-14 10:36:01,593 - micro - MainProcess - INFO     Processing row 378: Full Path: utils\\data\\scanned\\test\\invoice\\invoice_8.png, Document Type: invoice (3751155626.py:process_row:31)\n",
      "2024-08-14 10:36:01,757 - micro - MainProcess - INFO     Successfully processed row 375 in 1.2941 seconds. (3751155626.py:process_row:53)\n",
      "2024-08-14 10:36:01,760 - micro - MainProcess - INFO     Processing row 379: Full Path: utils\\data\\scanned\\test\\invoice\\invoice_9.png, Document Type: invoice (3751155626.py:process_row:31)\n",
      "2024-08-14 10:36:01,972 - micro - MainProcess - INFO     Successfully processed row 374 in 2.2249 seconds. (3751155626.py:process_row:53)\n",
      "2024-08-14 10:36:01,974 - micro - MainProcess - INFO     Processing row 470: Full Path: utils\\data\\scanned\\test\\file folder\\file folder_0.png, Document Type: file folder (3751155626.py:process_row:31)\n",
      "2024-08-14 10:36:03,130 - micro - MainProcess - INFO     Successfully processed row 378 in 1.5366 seconds. (3751155626.py:process_row:53)\n",
      "2024-08-14 10:36:03,133 - micro - MainProcess - INFO     Processing row 471: Full Path: utils\\data\\scanned\\test\\file folder\\file folder_1.png, Document Type: file folder (3751155626.py:process_row:31)\n",
      "2024-08-14 10:36:03,275 - micro - MainProcess - INFO     Successfully processed row 377 in 2.1131 seconds. (3751155626.py:process_row:53)\n",
      "2024-08-14 10:36:03,279 - micro - MainProcess - INFO     Processing row 472: Full Path: utils\\data\\scanned\\test\\file folder\\file folder_2.png, Document Type: file folder (3751155626.py:process_row:31)\n",
      "2024-08-14 10:36:03,466 - micro - MainProcess - INFO     Successfully processed row 376 in 2.6137 seconds. (3751155626.py:process_row:53)\n",
      "2024-08-14 10:36:03,470 - micro - MainProcess - INFO     Processing row 473: Full Path: utils\\data\\scanned\\test\\file folder\\file folder_3.png, Document Type: file folder (3751155626.py:process_row:31)\n",
      "2024-08-14 10:36:03,616 - micro - MainProcess - INFO     Successfully processed row 379 in 1.8558 seconds. (3751155626.py:process_row:53)\n",
      "2024-08-14 10:36:03,619 - micro - MainProcess - INFO     Processing row 474: Full Path: utils\\data\\scanned\\test\\file folder\\file folder_4.png, Document Type: file folder (3751155626.py:process_row:31)\n",
      "2024-08-14 10:36:03,668 - micro - MainProcess - INFO     Successfully processed row 470 in 1.6939 seconds. (3751155626.py:process_row:53)\n",
      "2024-08-14 10:36:03,675 - micro - MainProcess - INFO     Processing row 475: Full Path: utils\\data\\scanned\\test\\file folder\\file folder_5.png, Document Type: file folder (3751155626.py:process_row:31)\n",
      "2024-08-14 10:36:04,758 - micro - MainProcess - INFO     Successfully processed row 471 in 1.6251 seconds. (3751155626.py:process_row:53)\n",
      "2024-08-14 10:36:04,761 - micro - MainProcess - INFO     Processing row 476: Full Path: utils\\data\\scanned\\test\\file folder\\file folder_6.png, Document Type: file folder (3751155626.py:process_row:31)\n",
      "2024-08-14 10:36:04,835 - micro - MainProcess - INFO     Successfully processed row 472 in 1.5562 seconds. (3751155626.py:process_row:53)\n",
      "2024-08-14 10:36:04,846 - micro - MainProcess - INFO     Processing row 477: Full Path: utils\\data\\scanned\\test\\file folder\\file folder_7.png, Document Type: file folder (3751155626.py:process_row:31)\n",
      "2024-08-14 10:36:05,616 - micro - MainProcess - INFO     Successfully processed row 474 in 1.9976 seconds. (3751155626.py:process_row:53)\n",
      "2024-08-14 10:36:05,620 - micro - MainProcess - INFO     Processing row 478: Full Path: utils\\data\\scanned\\test\\file folder\\file folder_8.png, Document Type: file folder (3751155626.py:process_row:31)\n",
      "2024-08-14 10:36:05,668 - micro - MainProcess - INFO     Successfully processed row 475 in 1.9941 seconds. (3751155626.py:process_row:53)\n",
      "2024-08-14 10:36:05,672 - micro - MainProcess - INFO     Processing row 479: Full Path: utils\\data\\scanned\\test\\file folder\\file folder_9.png, Document Type: file folder (3751155626.py:process_row:31)\n",
      "2024-08-14 10:36:06,125 - micro - MainProcess - INFO     Successfully processed row 476 in 1.3627 seconds. (3751155626.py:process_row:53)\n",
      "2024-08-14 10:36:06,127 - micro - MainProcess - INFO     Processing row 570: Full Path: utils\\data\\scanned\\test\\questionnaire\\questionnaire_0.png, Document Type: questionnaire (3751155626.py:process_row:31)\n",
      "2024-08-14 10:36:06,433 - micro - MainProcess - INFO     Successfully processed row 473 in 2.9631 seconds. (3751155626.py:process_row:53)\n",
      "2024-08-14 10:36:06,436 - micro - MainProcess - INFO     Processing row 571: Full Path: utils\\data\\scanned\\test\\questionnaire\\questionnaire_1.png, Document Type: questionnaire (3751155626.py:process_row:31)\n",
      "2024-08-14 10:36:07,008 - micro - MainProcess - INFO     Successfully processed row 477 in 2.1619 seconds. (3751155626.py:process_row:53)\n",
      "2024-08-14 10:36:07,010 - micro - MainProcess - INFO     Processing row 572: Full Path: utils\\data\\scanned\\test\\questionnaire\\questionnaire_2.png, Document Type: questionnaire (3751155626.py:process_row:31)\n",
      "2024-08-14 10:36:07,632 - micro - MainProcess - INFO     Successfully processed row 570 in 1.5061 seconds. (3751155626.py:process_row:53)\n",
      "2024-08-14 10:36:07,636 - micro - MainProcess - INFO     Processing row 573: Full Path: utils\\data\\scanned\\test\\questionnaire\\questionnaire_3.png, Document Type: questionnaire (3751155626.py:process_row:31)\n",
      "2024-08-14 10:36:07,666 - micro - MainProcess - INFO     Successfully processed row 479 in 1.9939 seconds. (3751155626.py:process_row:53)\n",
      "2024-08-14 10:36:07,668 - micro - MainProcess - INFO     Processing row 574: Full Path: utils\\data\\scanned\\test\\questionnaire\\questionnaire_4.png, Document Type: questionnaire (3751155626.py:process_row:31)\n",
      "2024-08-14 10:36:08,092 - micro - MainProcess - INFO     Successfully processed row 571 in 1.6564 seconds. (3751155626.py:process_row:53)\n",
      "2024-08-14 10:36:08,094 - micro - MainProcess - INFO     Processing row 575: Full Path: utils\\data\\scanned\\test\\questionnaire\\questionnaire_5.png, Document Type: questionnaire (3751155626.py:process_row:31)\n",
      "2024-08-14 10:36:08,841 - micro - MainProcess - INFO     Successfully processed row 478 in 3.2224 seconds. (3751155626.py:process_row:53)\n",
      "2024-08-14 10:36:08,843 - micro - MainProcess - INFO     Processing row 576: Full Path: utils\\data\\scanned\\test\\questionnaire\\questionnaire_6.png, Document Type: questionnaire (3751155626.py:process_row:31)\n",
      "2024-08-14 10:36:09,129 - micro - MainProcess - INFO     Successfully processed row 572 in 2.1196 seconds. (3751155626.py:process_row:53)\n",
      "2024-08-14 10:36:09,131 - micro - MainProcess - INFO     Processing row 577: Full Path: utils\\data\\scanned\\test\\questionnaire\\questionnaire_7.png, Document Type: questionnaire (3751155626.py:process_row:31)\n",
      "2024-08-14 10:36:09,466 - micro - MainProcess - INFO     Successfully processed row 573 in 1.8309 seconds. (3751155626.py:process_row:53)\n",
      "2024-08-14 10:36:09,469 - micro - MainProcess - INFO     Processing row 578: Full Path: utils\\data\\scanned\\test\\questionnaire\\questionnaire_8.png, Document Type: questionnaire (3751155626.py:process_row:31)\n",
      "2024-08-14 10:36:10,153 - micro - MainProcess - INFO     Successfully processed row 575 in 2.0588 seconds. (3751155626.py:process_row:53)\n",
      "2024-08-14 10:36:10,155 - micro - MainProcess - INFO     Processing row 579: Full Path: utils\\data\\scanned\\test\\questionnaire\\questionnaire_9.png, Document Type: questionnaire (3751155626.py:process_row:31)\n",
      "2024-08-14 10:36:10,727 - micro - MainProcess - INFO     Successfully processed row 577 in 1.5953 seconds. (3751155626.py:process_row:53)\n",
      "2024-08-14 10:36:10,730 - micro - MainProcess - INFO     Processing row 670: Full Path: utils\\data\\scanned\\test\\handwritten\\handwritten_0.png, Document Type: handwritten (3751155626.py:process_row:31)\n",
      "2024-08-14 10:36:11,119 - micro - MainProcess - INFO     Successfully processed row 574 in 3.4507 seconds. (3751155626.py:process_row:53)\n",
      "2024-08-14 10:36:11,121 - micro - MainProcess - INFO     Processing row 671: Full Path: utils\\data\\scanned\\test\\handwritten\\handwritten_1.png, Document Type: handwritten (3751155626.py:process_row:31)\n",
      "2024-08-14 10:36:11,224 - micro - MainProcess - INFO     Successfully processed row 576 in 2.3808 seconds. (3751155626.py:process_row:53)\n",
      "2024-08-14 10:36:11,226 - micro - MainProcess - INFO     Processing row 672: Full Path: utils\\data\\scanned\\test\\handwritten\\handwritten_2.png, Document Type: handwritten (3751155626.py:process_row:31)\n",
      "2024-08-14 10:36:11,564 - micro - MainProcess - INFO     Successfully processed row 578 in 2.0950 seconds. (3751155626.py:process_row:53)\n",
      "2024-08-14 10:36:11,566 - micro - MainProcess - INFO     Processing row 673: Full Path: utils\\data\\scanned\\test\\handwritten\\handwritten_3.png, Document Type: handwritten (3751155626.py:process_row:31)\n",
      "2024-08-14 10:36:12,155 - micro - MainProcess - INFO     Successfully processed row 579 in 1.9994 seconds. (3751155626.py:process_row:53)\n",
      "2024-08-14 10:36:12,157 - micro - MainProcess - INFO     Processing row 674: Full Path: utils\\data\\scanned\\test\\handwritten\\handwritten_4.png, Document Type: handwritten (3751155626.py:process_row:31)\n",
      "2024-08-14 10:36:12,443 - micro - MainProcess - INFO     Successfully processed row 670 in 1.7128 seconds. (3751155626.py:process_row:53)\n",
      "2024-08-14 10:36:12,445 - micro - MainProcess - INFO     Processing row 675: Full Path: utils\\data\\scanned\\test\\handwritten\\handwritten_5.png, Document Type: handwritten (3751155626.py:process_row:31)\n",
      "2024-08-14 10:36:13,188 - micro - MainProcess - INFO     Successfully processed row 672 in 1.9636 seconds. (3751155626.py:process_row:53)\n",
      "2024-08-14 10:36:13,193 - micro - MainProcess - INFO     Processing row 676: Full Path: utils\\data\\scanned\\test\\handwritten\\handwritten_6.png, Document Type: handwritten (3751155626.py:process_row:31)\n",
      "2024-08-14 10:36:13,268 - micro - MainProcess - INFO     Successfully processed row 673 in 1.7020 seconds. (3751155626.py:process_row:53)\n",
      "2024-08-14 10:36:13,270 - micro - MainProcess - INFO     Processing row 677: Full Path: utils\\data\\scanned\\test\\handwritten\\handwritten_7.png, Document Type: handwritten (3751155626.py:process_row:31)\n",
      "2024-08-14 10:36:13,279 - micro - MainProcess - INFO     Successfully processed row 671 in 2.1571 seconds. (3751155626.py:process_row:53)\n",
      "2024-08-14 10:36:13,283 - micro - MainProcess - INFO     Processing row 678: Full Path: utils\\data\\scanned\\test\\handwritten\\handwritten_8.png, Document Type: handwritten (3751155626.py:process_row:31)\n",
      "2024-08-14 10:36:13,727 - micro - MainProcess - INFO     Successfully processed row 674 in 1.5703 seconds. (3751155626.py:process_row:53)\n",
      "2024-08-14 10:36:13,730 - micro - MainProcess - INFO     Processing row 679: Full Path: utils\\data\\scanned\\test\\handwritten\\handwritten_9.png, Document Type: handwritten (3751155626.py:process_row:31)\n",
      "2024-08-14 10:36:13,988 - micro - MainProcess - INFO     Successfully processed row 675 in 1.5435 seconds. (3751155626.py:process_row:53)\n",
      "2024-08-14 10:36:13,990 - micro - MainProcess - INFO     Processing row 770: Full Path: utils\\data\\scanned\\test\\news article\\news article_0.png, Document Type: news article (3751155626.py:process_row:31)\n",
      "2024-08-14 10:36:15,082 - micro - MainProcess - INFO     Successfully processed row 678 in 1.7994 seconds. (3751155626.py:process_row:53)\n",
      "2024-08-14 10:36:15,084 - micro - MainProcess - INFO     Processing row 771: Full Path: utils\\data\\scanned\\test\\news article\\news article_1.png, Document Type: news article (3751155626.py:process_row:31)\n",
      "2024-08-14 10:36:15,446 - micro - MainProcess - INFO     Successfully processed row 679 in 1.7162 seconds. (3751155626.py:process_row:53)\n",
      "2024-08-14 10:36:15,448 - micro - MainProcess - INFO     Processing row 772: Full Path: utils\\data\\scanned\\test\\news article\\news article_2.png, Document Type: news article (3751155626.py:process_row:31)\n",
      "2024-08-14 10:36:15,709 - micro - MainProcess - INFO     Successfully processed row 770 in 1.7186 seconds. (3751155626.py:process_row:53)\n",
      "2024-08-14 10:36:15,711 - micro - MainProcess - INFO     Processing row 773: Full Path: utils\\data\\scanned\\test\\news article\\news article_3.png, Document Type: news article (3751155626.py:process_row:31)\n",
      "2024-08-14 10:36:17,312 - micro - MainProcess - INFO     Successfully processed row 771 in 2.2277 seconds. (3751155626.py:process_row:53)\n",
      "2024-08-14 10:36:17,314 - micro - MainProcess - INFO     Processing row 774: Full Path: utils\\data\\scanned\\test\\news article\\news article_4.png, Document Type: news article (3751155626.py:process_row:31)\n",
      "2024-08-14 10:36:17,433 - micro - MainProcess - INFO     Successfully processed row 676 in 4.2409 seconds. (3751155626.py:process_row:53)\n",
      "2024-08-14 10:36:17,437 - micro - MainProcess - INFO     Processing row 775: Full Path: utils\\data\\scanned\\test\\news article\\news article_5.png, Document Type: news article (3751155626.py:process_row:31)\n",
      "2024-08-14 10:36:17,787 - micro - MainProcess - INFO     Successfully processed row 772 in 2.3385 seconds. (3751155626.py:process_row:53)\n",
      "2024-08-14 10:36:17,792 - micro - MainProcess - INFO     Processing row 776: Full Path: utils\\data\\scanned\\test\\news article\\news article_6.png, Document Type: news article (3751155626.py:process_row:31)\n",
      "2024-08-14 10:36:18,630 - micro - MainProcess - INFO     Successfully processed row 677 in 5.3600 seconds. (3751155626.py:process_row:53)\n",
      "2024-08-14 10:36:18,633 - micro - MainProcess - INFO     Processing row 777: Full Path: utils\\data\\scanned\\test\\news article\\news article_7.png, Document Type: news article (3751155626.py:process_row:31)\n",
      "2024-08-14 10:36:18,735 - micro - MainProcess - INFO     Successfully processed row 773 in 3.0247 seconds. (3751155626.py:process_row:53)\n",
      "2024-08-14 10:36:18,739 - micro - MainProcess - INFO     Processing row 778: Full Path: utils\\data\\scanned\\test\\news article\\news article_8.png, Document Type: news article (3751155626.py:process_row:31)\n",
      "2024-08-14 10:36:19,813 - micro - MainProcess - INFO     Successfully processed row 774 in 2.4990 seconds. (3751155626.py:process_row:53)\n",
      "2024-08-14 10:36:19,815 - micro - MainProcess - INFO     Processing row 779: Full Path: utils\\data\\scanned\\test\\news article\\news article_9.png, Document Type: news article (3751155626.py:process_row:31)\n",
      "2024-08-14 10:36:20,355 - micro - MainProcess - INFO     Successfully processed row 777 in 1.7226 seconds. (3751155626.py:process_row:53)\n",
      "2024-08-14 10:36:20,357 - micro - MainProcess - INFO     Processing row 870: Full Path: utils\\data\\scanned\\test\\budget\\budget_0.png, Document Type: budget (3751155626.py:process_row:31)\n",
      "2024-08-14 10:36:20,595 - micro - MainProcess - INFO     Successfully processed row 776 in 2.8042 seconds. (3751155626.py:process_row:53)\n",
      "2024-08-14 10:36:20,599 - micro - MainProcess - INFO     Processing row 871: Full Path: utils\\data\\scanned\\test\\budget\\budget_1.png, Document Type: budget (3751155626.py:process_row:31)\n",
      "2024-08-14 10:36:20,697 - micro - MainProcess - INFO     Successfully processed row 778 in 1.9580 seconds. (3751155626.py:process_row:53)\n",
      "2024-08-14 10:36:20,701 - micro - MainProcess - INFO     Processing row 872: Full Path: utils\\data\\scanned\\test\\budget\\budget_2.png, Document Type: budget (3751155626.py:process_row:31)\n",
      "2024-08-14 10:36:20,876 - micro - MainProcess - INFO     Successfully processed row 775 in 3.4391 seconds. (3751155626.py:process_row:53)\n",
      "2024-08-14 10:36:20,879 - micro - MainProcess - INFO     Processing row 873: Full Path: utils\\data\\scanned\\test\\budget\\budget_3.png, Document Type: budget (3751155626.py:process_row:31)\n",
      "2024-08-14 10:36:22,216 - micro - MainProcess - INFO     Successfully processed row 870 in 1.8590 seconds. (3751155626.py:process_row:53)\n",
      "2024-08-14 10:36:22,219 - micro - MainProcess - INFO     Processing row 874: Full Path: utils\\data\\scanned\\test\\budget\\budget_4.png, Document Type: budget (3751155626.py:process_row:31)\n",
      "2024-08-14 10:36:22,627 - micro - MainProcess - INFO     Successfully processed row 871 in 2.0282 seconds. (3751155626.py:process_row:53)\n",
      "2024-08-14 10:36:22,630 - micro - MainProcess - INFO     Processing row 875: Full Path: utils\\data\\scanned\\test\\budget\\budget_5.png, Document Type: budget (3751155626.py:process_row:31)\n",
      "2024-08-14 10:36:22,955 - micro - MainProcess - INFO     Successfully processed row 779 in 3.1402 seconds. (3751155626.py:process_row:53)\n",
      "2024-08-14 10:36:22,957 - micro - MainProcess - INFO     Processing row 876: Full Path: utils\\data\\scanned\\test\\budget\\budget_6.png, Document Type: budget (3751155626.py:process_row:31)\n",
      "2024-08-14 10:36:23,118 - micro - MainProcess - INFO     Successfully processed row 873 in 2.2375 seconds. (3751155626.py:process_row:53)\n",
      "2024-08-14 10:36:23,120 - micro - MainProcess - INFO     Processing row 877: Full Path: utils\\data\\scanned\\test\\budget\\budget_7.png, Document Type: budget (3751155626.py:process_row:31)\n",
      "2024-08-14 10:36:23,531 - micro - MainProcess - INFO     Successfully processed row 872 in 2.8298 seconds. (3751155626.py:process_row:53)\n",
      "2024-08-14 10:36:23,534 - micro - MainProcess - INFO     Processing row 878: Full Path: utils\\data\\scanned\\test\\budget\\budget_8.png, Document Type: budget (3751155626.py:process_row:31)\n",
      "2024-08-14 10:36:24,681 - micro - MainProcess - INFO     Successfully processed row 876 in 1.7235 seconds. (3751155626.py:process_row:53)\n",
      "2024-08-14 10:36:24,684 - micro - MainProcess - INFO     Processing row 879: Full Path: utils\\data\\scanned\\test\\budget\\budget_9.png, Document Type: budget (3751155626.py:process_row:31)\n",
      "2024-08-14 10:36:24,723 - micro - MainProcess - INFO     Successfully processed row 877 in 1.6021 seconds. (3751155626.py:process_row:53)\n",
      "2024-08-14 10:36:24,727 - micro - MainProcess - INFO     Processing row 970: Full Path: utils\\data\\scanned\\test\\scientific publication\\scientific publication_0.png, Document Type: scientific publication (3751155626.py:process_row:31)\n",
      "2024-08-14 10:36:24,872 - micro - MainProcess - INFO     Successfully processed row 875 in 2.2420 seconds. (3751155626.py:process_row:53)\n",
      "2024-08-14 10:36:24,875 - micro - MainProcess - INFO     Processing row 971: Full Path: utils\\data\\scanned\\test\\scientific publication\\scientific publication_1.png, Document Type: scientific publication (3751155626.py:process_row:31)\n",
      "2024-08-14 10:36:25,270 - micro - MainProcess - INFO     Successfully processed row 874 in 3.0517 seconds. (3751155626.py:process_row:53)\n",
      "2024-08-14 10:36:25,273 - micro - MainProcess - INFO     Processing row 972: Full Path: utils\\data\\scanned\\test\\scientific publication\\scientific publication_2.png, Document Type: scientific publication (3751155626.py:process_row:31)\n",
      "2024-08-14 10:36:25,355 - micro - MainProcess - INFO     Successfully processed row 878 in 1.8206 seconds. (3751155626.py:process_row:53)\n",
      "2024-08-14 10:36:25,357 - micro - MainProcess - INFO     Processing row 973: Full Path: utils\\data\\scanned\\test\\scientific publication\\scientific publication_3.png, Document Type: scientific publication (3751155626.py:process_row:31)\n",
      "2024-08-14 10:36:26,467 - micro - MainProcess - INFO     Successfully processed row 879 in 1.7826 seconds. (3751155626.py:process_row:53)\n",
      "2024-08-14 10:36:26,469 - micro - MainProcess - INFO     Processing row 974: Full Path: utils\\data\\scanned\\test\\scientific publication\\scientific publication_4.png, Document Type: scientific publication (3751155626.py:process_row:31)\n",
      "2024-08-14 10:36:27,329 - micro - MainProcess - INFO     Successfully processed row 970 in 2.6014 seconds. (3751155626.py:process_row:53)\n",
      "2024-08-14 10:36:27,332 - micro - MainProcess - INFO     Processing row 975: Full Path: utils\\data\\scanned\\test\\scientific publication\\scientific publication_5.png, Document Type: scientific publication (3751155626.py:process_row:31)\n",
      "2024-08-14 10:36:27,654 - micro - MainProcess - INFO     Successfully processed row 972 in 2.3819 seconds. (3751155626.py:process_row:53)\n",
      "2024-08-14 10:36:27,657 - micro - MainProcess - INFO     Processing row 976: Full Path: utils\\data\\scanned\\test\\scientific publication\\scientific publication_6.png, Document Type: scientific publication (3751155626.py:process_row:31)\n",
      "2024-08-14 10:36:27,703 - micro - MainProcess - INFO     Successfully processed row 973 in 2.3462 seconds. (3751155626.py:process_row:53)\n",
      "2024-08-14 10:36:27,707 - micro - MainProcess - INFO     Processing row 977: Full Path: utils\\data\\scanned\\test\\scientific publication\\scientific publication_7.png, Document Type: scientific publication (3751155626.py:process_row:31)\n",
      "2024-08-14 10:36:27,761 - micro - MainProcess - INFO     Successfully processed row 971 in 2.8854 seconds. (3751155626.py:process_row:53)\n",
      "2024-08-14 10:36:27,765 - micro - MainProcess - INFO     Processing row 978: Full Path: utils\\data\\scanned\\test\\scientific publication\\scientific publication_8.png, Document Type: scientific publication (3751155626.py:process_row:31)\n",
      "2024-08-14 10:36:28,204 - micro - MainProcess - INFO     Successfully processed row 974 in 1.7354 seconds. (3751155626.py:process_row:53)\n",
      "2024-08-14 10:36:28,207 - micro - MainProcess - INFO     Processing row 979: Full Path: utils\\data\\scanned\\test\\scientific publication\\scientific publication_9.png, Document Type: scientific publication (3751155626.py:process_row:31)\n",
      "2024-08-14 10:36:29,259 - micro - MainProcess - INFO     Successfully processed row 975 in 1.9262 seconds. (3751155626.py:process_row:53)\n",
      "2024-08-14 10:36:29,261 - micro - MainProcess - INFO     Processing row 1070: Full Path: utils\\data\\scanned\\test\\presentation\\presentation_0.png, Document Type: presentation (3751155626.py:process_row:31)\n",
      "2024-08-14 10:36:29,596 - micro - MainProcess - INFO     Successfully processed row 977 in 1.8889 seconds. (3751155626.py:process_row:53)\n",
      "2024-08-14 10:36:29,600 - micro - MainProcess - INFO     Processing row 1071: Full Path: utils\\data\\scanned\\test\\presentation\\presentation_1.png, Document Type: presentation (3751155626.py:process_row:31)\n",
      "2024-08-14 10:36:30,037 - micro - MainProcess - INFO     Successfully processed row 978 in 2.2731 seconds. (3751155626.py:process_row:53)\n",
      "2024-08-14 10:36:30,040 - micro - MainProcess - INFO     Processing row 1072: Full Path: utils\\data\\scanned\\test\\presentation\\presentation_2.png, Document Type: presentation (3751155626.py:process_row:31)\n",
      "2024-08-14 10:36:30,198 - micro - MainProcess - INFO     Successfully processed row 979 in 1.9920 seconds. (3751155626.py:process_row:53)\n",
      "2024-08-14 10:36:30,202 - micro - MainProcess - INFO     Processing row 1073: Full Path: utils\\data\\scanned\\test\\presentation\\presentation_3.png, Document Type: presentation (3751155626.py:process_row:31)\n",
      "2024-08-14 10:36:31,123 - micro - MainProcess - INFO     Successfully processed row 976 in 3.4662 seconds. (3751155626.py:process_row:53)\n",
      "2024-08-14 10:36:31,126 - micro - MainProcess - INFO     Processing row 1074: Full Path: utils\\data\\scanned\\test\\presentation\\presentation_4.png, Document Type: presentation (3751155626.py:process_row:31)\n",
      "2024-08-14 10:36:31,444 - micro - MainProcess - INFO     Successfully processed row 1070 in 2.1832 seconds. (3751155626.py:process_row:53)\n",
      "2024-08-14 10:36:31,446 - micro - MainProcess - INFO     Processing row 1075: Full Path: utils\\data\\scanned\\test\\presentation\\presentation_5.png, Document Type: presentation (3751155626.py:process_row:31)\n",
      "2024-08-14 10:36:31,817 - micro - MainProcess - INFO     Successfully processed row 1072 in 1.7771 seconds. (3751155626.py:process_row:53)\n",
      "2024-08-14 10:36:31,820 - micro - MainProcess - INFO     Processing row 1076: Full Path: utils\\data\\scanned\\test\\presentation\\presentation_6.png, Document Type: presentation (3751155626.py:process_row:31)\n",
      "2024-08-14 10:36:32,370 - micro - MainProcess - INFO     Successfully processed row 1073 in 2.1679 seconds. (3751155626.py:process_row:53)\n",
      "2024-08-14 10:36:32,372 - micro - MainProcess - INFO     Processing row 1077: Full Path: utils\\data\\scanned\\test\\presentation\\presentation_7.png, Document Type: presentation (3751155626.py:process_row:31)\n",
      "2024-08-14 10:36:32,446 - micro - MainProcess - INFO     Successfully processed row 1071 in 2.8463 seconds. (3751155626.py:process_row:53)\n",
      "2024-08-14 10:36:32,450 - micro - MainProcess - INFO     Processing row 1078: Full Path: utils\\data\\scanned\\test\\presentation\\presentation_8.png, Document Type: presentation (3751155626.py:process_row:31)\n",
      "2024-08-14 10:36:33,114 - micro - MainProcess - INFO     Successfully processed row 1074 in 1.9892 seconds. (3751155626.py:process_row:53)\n",
      "2024-08-14 10:36:33,118 - micro - MainProcess - INFO     Processing row 1079: Full Path: utils\\data\\scanned\\test\\presentation\\presentation_9.png, Document Type: presentation (3751155626.py:process_row:31)\n",
      "2024-08-14 10:36:33,773 - micro - MainProcess - INFO     Successfully processed row 1075 in 2.3263 seconds. (3751155626.py:process_row:53)\n",
      "2024-08-14 10:36:33,775 - micro - MainProcess - INFO     Processing row 1170: Full Path: utils\\data\\scanned\\test\\specification\\specification_0.png, Document Type: specification (3751155626.py:process_row:31)\n",
      "2024-08-14 10:36:33,852 - micro - MainProcess - INFO     Successfully processed row 1078 in 1.4026 seconds. (3751155626.py:process_row:53)\n",
      "2024-08-14 10:36:33,855 - micro - MainProcess - INFO     Processing row 1171: Full Path: utils\\data\\scanned\\test\\specification\\specification_1.png, Document Type: specification (3751155626.py:process_row:31)\n",
      "2024-08-14 10:36:34,101 - micro - MainProcess - INFO     Successfully processed row 1077 in 1.7283 seconds. (3751155626.py:process_row:53)\n",
      "2024-08-14 10:36:34,103 - micro - MainProcess - INFO     Processing row 1172: Full Path: utils\\data\\scanned\\test\\specification\\specification_2.png, Document Type: specification (3751155626.py:process_row:31)\n",
      "2024-08-14 10:36:34,579 - micro - MainProcess - INFO     Successfully processed row 1076 in 2.7590 seconds. (3751155626.py:process_row:53)\n",
      "2024-08-14 10:36:34,583 - micro - MainProcess - INFO     Processing row 1173: Full Path: utils\\data\\scanned\\test\\specification\\specification_3.png, Document Type: specification (3751155626.py:process_row:31)\n",
      "2024-08-14 10:36:34,694 - micro - MainProcess - INFO     Successfully processed row 1079 in 1.5766 seconds. (3751155626.py:process_row:53)\n",
      "2024-08-14 10:36:34,699 - micro - MainProcess - INFO     Processing row 1174: Full Path: utils\\data\\scanned\\test\\specification\\specification_4.png, Document Type: specification (3751155626.py:process_row:31)\n",
      "2024-08-14 10:36:35,482 - micro - MainProcess - INFO     Successfully processed row 1170 in 1.7067 seconds. (3751155626.py:process_row:53)\n",
      "2024-08-14 10:36:35,486 - micro - MainProcess - INFO     Processing row 1175: Full Path: utils\\data\\scanned\\test\\specification\\specification_5.png, Document Type: specification (3751155626.py:process_row:31)\n",
      "2024-08-14 10:36:35,802 - micro - MainProcess - INFO     Successfully processed row 1172 in 1.6990 seconds. (3751155626.py:process_row:53)\n",
      "2024-08-14 10:36:35,805 - micro - MainProcess - INFO     Processing row 1176: Full Path: utils\\data\\scanned\\test\\specification\\specification_6.png, Document Type: specification (3751155626.py:process_row:31)\n",
      "2024-08-14 10:36:36,147 - micro - MainProcess - INFO     Successfully processed row 1171 in 2.2920 seconds. (3751155626.py:process_row:53)\n",
      "2024-08-14 10:36:36,150 - micro - MainProcess - INFO     Processing row 1177: Full Path: utils\\data\\scanned\\test\\specification\\specification_7.png, Document Type: specification (3751155626.py:process_row:31)\n",
      "2024-08-14 10:36:36,905 - micro - MainProcess - INFO     Successfully processed row 1173 in 2.3219 seconds. (3751155626.py:process_row:53)\n",
      "2024-08-14 10:36:36,907 - micro - MainProcess - INFO     Processing row 1178: Full Path: utils\\data\\scanned\\test\\specification\\specification_8.png, Document Type: specification (3751155626.py:process_row:31)\n",
      "2024-08-14 10:36:37,063 - micro - MainProcess - INFO     Successfully processed row 1174 in 2.3648 seconds. (3751155626.py:process_row:53)\n",
      "2024-08-14 10:36:37,066 - micro - MainProcess - INFO     Processing row 1179: Full Path: utils\\data\\scanned\\test\\specification\\specification_9.png, Document Type: specification (3751155626.py:process_row:31)\n",
      "2024-08-14 10:36:37,357 - micro - MainProcess - INFO     Successfully processed row 1175 in 1.8709 seconds. (3751155626.py:process_row:53)\n",
      "2024-08-14 10:36:37,360 - micro - MainProcess - INFO     Processing row 1270: Full Path: utils\\data\\scanned\\test\\email\\email_0.png, Document Type: email (3751155626.py:process_row:31)\n",
      "2024-08-14 10:36:37,766 - micro - MainProcess - INFO     Successfully processed row 1176 in 1.9607 seconds. (3751155626.py:process_row:53)\n",
      "2024-08-14 10:36:37,768 - micro - MainProcess - INFO     Processing row 1271: Full Path: utils\\data\\scanned\\test\\email\\email_1.png, Document Type: email (3751155626.py:process_row:31)\n",
      "2024-08-14 10:36:38,315 - micro - MainProcess - INFO     Successfully processed row 1177 in 2.1634 seconds. (3751155626.py:process_row:53)\n",
      "2024-08-14 10:36:38,316 - micro - MainProcess - INFO     Processing row 1272: Full Path: utils\\data\\scanned\\test\\email\\email_2.png, Document Type: email (3751155626.py:process_row:31)\n",
      "2024-08-14 10:36:38,852 - micro - MainProcess - INFO     Successfully processed row 1178 in 1.9444 seconds. (3751155626.py:process_row:53)\n",
      "2024-08-14 10:36:38,854 - micro - MainProcess - INFO     Processing row 1273: Full Path: utils\\data\\scanned\\test\\email\\email_3.png, Document Type: email (3751155626.py:process_row:31)\n",
      "2024-08-14 10:36:39,219 - micro - MainProcess - INFO     Successfully processed row 1271 in 1.4509 seconds. (3751155626.py:process_row:53)\n",
      "2024-08-14 10:36:39,222 - micro - MainProcess - INFO     Processing row 1274: Full Path: utils\\data\\scanned\\test\\email\\email_4.png, Document Type: email (3751155626.py:process_row:31)\n",
      "2024-08-14 10:36:39,335 - micro - MainProcess - INFO     Successfully processed row 1270 in 1.9747 seconds. (3751155626.py:process_row:53)\n",
      "2024-08-14 10:36:39,337 - micro - MainProcess - INFO     Processing row 1275: Full Path: utils\\data\\scanned\\test\\email\\email_5.png, Document Type: email (3751155626.py:process_row:31)\n",
      "2024-08-14 10:36:39,774 - micro - MainProcess - INFO     Successfully processed row 1272 in 1.4584 seconds. (3751155626.py:process_row:53)\n",
      "2024-08-14 10:36:39,777 - micro - MainProcess - INFO     Processing row 1276: Full Path: utils\\data\\scanned\\test\\email\\email_6.png, Document Type: email (3751155626.py:process_row:31)\n",
      "2024-08-14 10:36:40,634 - micro - MainProcess - INFO     Successfully processed row 1273 in 1.7807 seconds. (3751155626.py:process_row:53)\n",
      "2024-08-14 10:36:40,637 - micro - MainProcess - INFO     Processing row 1277: Full Path: utils\\data\\scanned\\test\\email\\email_7.png, Document Type: email (3751155626.py:process_row:31)\n",
      "2024-08-14 10:36:40,805 - micro - MainProcess - INFO     Successfully processed row 1275 in 1.4687 seconds. (3751155626.py:process_row:53)\n",
      "2024-08-14 10:36:40,807 - micro - MainProcess - INFO     Processing row 1278: Full Path: utils\\data\\scanned\\test\\email\\email_8.png, Document Type: email (3751155626.py:process_row:31)\n",
      "2024-08-14 10:36:41,203 - micro - MainProcess - INFO     Successfully processed row 1274 in 1.9814 seconds. (3751155626.py:process_row:53)\n",
      "2024-08-14 10:36:41,207 - micro - MainProcess - INFO     Processing row 1279: Full Path: utils\\data\\scanned\\test\\email\\email_9.png, Document Type: email (3751155626.py:process_row:31)\n",
      "2024-08-14 10:36:41,891 - micro - MainProcess - INFO     Successfully processed row 1276 in 2.1144 seconds. (3751155626.py:process_row:53)\n",
      "2024-08-14 10:36:41,894 - micro - MainProcess - INFO     Processing row 1370: Full Path: utils\\data\\scanned\\test\\letter\\letter_0.png, Document Type: letter (3751155626.py:process_row:31)\n",
      "2024-08-14 10:36:42,503 - micro - MainProcess - INFO     Successfully processed row 1277 in 1.8657 seconds. (3751155626.py:process_row:53)\n",
      "2024-08-14 10:36:42,506 - micro - MainProcess - INFO     Processing row 1371: Full Path: utils\\data\\scanned\\test\\letter\\letter_1.png, Document Type: letter (3751155626.py:process_row:31)\n",
      "2024-08-14 10:36:42,623 - micro - MainProcess - INFO     Successfully processed row 1278 in 1.8154 seconds. (3751155626.py:process_row:53)\n",
      "2024-08-14 10:36:42,624 - micro - MainProcess - INFO     Processing row 1372: Full Path: utils\\data\\scanned\\test\\letter\\letter_2.png, Document Type: letter (3751155626.py:process_row:31)\n",
      "2024-08-14 10:36:43,162 - micro - MainProcess - INFO     Successfully processed row 1279 in 1.9552 seconds. (3751155626.py:process_row:53)\n",
      "2024-08-14 10:36:43,164 - micro - MainProcess - INFO     Processing row 1373: Full Path: utils\\data\\scanned\\test\\letter\\letter_3.png, Document Type: letter (3751155626.py:process_row:31)\n",
      "2024-08-14 10:36:44,220 - micro - MainProcess - INFO     Successfully processed row 1371 in 1.7144 seconds. (3751155626.py:process_row:53)\n",
      "2024-08-14 10:36:44,223 - micro - MainProcess - INFO     Processing row 1374: Full Path: utils\\data\\scanned\\test\\letter\\letter_4.png, Document Type: letter (3751155626.py:process_row:31)\n",
      "2024-08-14 10:36:44,976 - micro - MainProcess - INFO     Successfully processed row 1370 in 3.0813 seconds. (3751155626.py:process_row:53)\n",
      "2024-08-14 10:36:44,979 - micro - MainProcess - INFO     Processing row 1375: Full Path: utils\\data\\scanned\\test\\letter\\letter_5.png, Document Type: letter (3751155626.py:process_row:31)\n",
      "2024-08-14 10:36:45,282 - micro - MainProcess - INFO     Successfully processed row 1373 in 2.1175 seconds. (3751155626.py:process_row:53)\n",
      "2024-08-14 10:36:45,285 - micro - MainProcess - INFO     Processing row 1376: Full Path: utils\\data\\scanned\\test\\letter\\letter_6.png, Document Type: letter (3751155626.py:process_row:31)\n",
      "2024-08-14 10:36:45,976 - micro - MainProcess - INFO     Successfully processed row 1372 in 3.3526 seconds. (3751155626.py:process_row:53)\n",
      "2024-08-14 10:36:45,980 - micro - MainProcess - INFO     Processing row 1377: Full Path: utils\\data\\scanned\\test\\letter\\letter_7.png, Document Type: letter (3751155626.py:process_row:31)\n",
      "2024-08-14 10:36:46,569 - micro - MainProcess - INFO     Successfully processed row 1374 in 2.3464 seconds. (3751155626.py:process_row:53)\n",
      "2024-08-14 10:36:46,572 - micro - MainProcess - INFO     Processing row 1378: Full Path: utils\\data\\scanned\\test\\letter\\letter_8.png, Document Type: letter (3751155626.py:process_row:31)\n",
      "2024-08-14 10:36:46,635 - micro - MainProcess - INFO     Successfully processed row 1179 in 9.5673 seconds. (3751155626.py:process_row:53)\n",
      "2024-08-14 10:36:46,639 - micro - MainProcess - INFO     Processing row 1379: Full Path: utils\\data\\scanned\\test\\letter\\letter_9.png, Document Type: letter (3751155626.py:process_row:31)\n",
      "2024-08-14 10:36:46,784 - micro - MainProcess - INFO     Successfully processed row 1376 in 1.4991 seconds. (3751155626.py:process_row:53)\n",
      "2024-08-14 10:36:46,789 - micro - MainProcess - INFO     Processing row 1470: Full Path: utils\\data\\scanned\\test\\advertisement\\advertisement_0.png, Document Type: advertisement (3751155626.py:process_row:31)\n",
      "2024-08-14 10:36:47,571 - micro - MainProcess - INFO     Successfully processed row 1375 in 2.5924 seconds. (3751155626.py:process_row:53)\n",
      "2024-08-14 10:36:47,573 - micro - MainProcess - INFO     Processing row 1471: Full Path: utils\\data\\scanned\\test\\advertisement\\advertisement_1.png, Document Type: advertisement (3751155626.py:process_row:31)\n",
      "2024-08-14 10:36:48,747 - micro - MainProcess - INFO     Successfully processed row 1377 in 2.7667 seconds. (3751155626.py:process_row:53)\n",
      "2024-08-14 10:36:48,751 - micro - MainProcess - INFO     Processing row 1472: Full Path: utils\\data\\scanned\\test\\advertisement\\advertisement_2.png, Document Type: advertisement (3751155626.py:process_row:31)\n",
      "2024-08-14 10:36:48,810 - micro - MainProcess - INFO     Successfully processed row 1378 in 2.2380 seconds. (3751155626.py:process_row:53)\n",
      "2024-08-14 10:36:48,814 - micro - MainProcess - INFO     Processing row 1473: Full Path: utils\\data\\scanned\\test\\advertisement\\advertisement_3.png, Document Type: advertisement (3751155626.py:process_row:31)\n",
      "2024-08-14 10:36:48,918 - micro - MainProcess - INFO     Successfully processed row 1379 in 2.2805 seconds. (3751155626.py:process_row:53)\n",
      "2024-08-14 10:36:48,920 - micro - MainProcess - INFO     Processing row 1474: Full Path: utils\\data\\scanned\\test\\advertisement\\advertisement_4.png, Document Type: advertisement (3751155626.py:process_row:31)\n",
      "2024-08-14 10:36:50,508 - micro - MainProcess - INFO     Successfully processed row 1470 in 3.7196 seconds. (3751155626.py:process_row:53)\n",
      "2024-08-14 10:36:50,510 - micro - MainProcess - INFO     Processing row 1475: Full Path: utils\\data\\scanned\\test\\advertisement\\advertisement_5.png, Document Type: advertisement (3751155626.py:process_row:31)\n",
      "2024-08-14 10:36:50,559 - micro - MainProcess - INFO     Successfully processed row 1471 in 2.9867 seconds. (3751155626.py:process_row:53)\n",
      "2024-08-14 10:36:50,564 - micro - MainProcess - INFO     Processing row 1476: Full Path: utils\\data\\scanned\\test\\advertisement\\advertisement_6.png, Document Type: advertisement (3751155626.py:process_row:31)\n",
      "2024-08-14 10:36:50,771 - micro - MainProcess - INFO     Successfully processed row 1474 in 1.8504 seconds. (3751155626.py:process_row:53)\n",
      "2024-08-14 10:36:50,774 - micro - MainProcess - INFO     Processing row 1477: Full Path: utils\\data\\scanned\\test\\advertisement\\advertisement_7.png, Document Type: advertisement (3751155626.py:process_row:31)\n",
      "2024-08-14 10:36:50,950 - micro - MainProcess - INFO     Successfully processed row 1473 in 2.1365 seconds. (3751155626.py:process_row:53)\n",
      "2024-08-14 10:36:50,953 - micro - MainProcess - INFO     Processing row 1478: Full Path: utils\\data\\scanned\\test\\advertisement\\advertisement_8.png, Document Type: advertisement (3751155626.py:process_row:31)\n",
      "2024-08-14 10:36:51,069 - micro - MainProcess - INFO     Successfully processed row 1472 in 2.3177 seconds. (3751155626.py:process_row:53)\n",
      "2024-08-14 10:36:51,072 - micro - MainProcess - INFO     Processing row 1479: Full Path: utils\\data\\scanned\\test\\advertisement\\advertisement_9.png, Document Type: advertisement (3751155626.py:process_row:31)\n",
      "2024-08-14 10:36:52,516 - micro - MainProcess - INFO     Successfully processed row 1478 in 1.5643 seconds. (3751155626.py:process_row:53)\n",
      "2024-08-14 10:36:52,519 - micro - MainProcess - INFO     Processing row 1570: Full Path: utils\\data\\scanned\\test\\memo\\memo_0.png, Document Type: memo (3751155626.py:process_row:31)\n",
      "2024-08-14 10:36:52,959 - micro - MainProcess - INFO     Successfully processed row 1475 in 2.4491 seconds. (3751155626.py:process_row:53)\n",
      "2024-08-14 10:36:52,962 - micro - MainProcess - INFO     Processing row 1571: Full Path: utils\\data\\scanned\\test\\memo\\memo_1.png, Document Type: memo (3751155626.py:process_row:31)\n",
      "2024-08-14 10:36:53,169 - micro - MainProcess - INFO     Successfully processed row 1477 in 2.3951 seconds. (3751155626.py:process_row:53)\n",
      "2024-08-14 10:36:53,172 - micro - MainProcess - INFO     Processing row 1572: Full Path: utils\\data\\scanned\\test\\memo\\memo_2.png, Document Type: memo (3751155626.py:process_row:31)\n",
      "2024-08-14 10:36:53,311 - micro - MainProcess - INFO     Successfully processed row 1476 in 2.7476 seconds. (3751155626.py:process_row:53)\n",
      "2024-08-14 10:36:53,313 - micro - MainProcess - INFO     Processing row 1573: Full Path: utils\\data\\scanned\\test\\memo\\memo_3.png, Document Type: memo (3751155626.py:process_row:31)\n",
      "2024-08-14 10:36:54,415 - micro - MainProcess - INFO     Successfully processed row 1570 in 1.8951 seconds. (3751155626.py:process_row:53)\n",
      "2024-08-14 10:36:54,418 - micro - MainProcess - INFO     Processing row 1574: Full Path: utils\\data\\scanned\\test\\memo\\memo_4.png, Document Type: memo (3751155626.py:process_row:31)\n",
      "2024-08-14 10:36:54,459 - micro - MainProcess - INFO     Successfully processed row 1479 in 3.3881 seconds. (3751155626.py:process_row:53)\n",
      "2024-08-14 10:36:54,463 - micro - MainProcess - INFO     Processing row 1575: Full Path: utils\\data\\scanned\\test\\memo\\memo_5.png, Document Type: memo (3751155626.py:process_row:31)\n",
      "2024-08-14 10:36:54,867 - micro - MainProcess - INFO     Successfully processed row 1571 in 1.9055 seconds. (3751155626.py:process_row:53)\n",
      "2024-08-14 10:36:54,870 - micro - MainProcess - INFO     Processing row 1576: Full Path: utils\\data\\scanned\\test\\memo\\memo_6.png, Document Type: memo (3751155626.py:process_row:31)\n",
      "2024-08-14 10:36:55,057 - micro - MainProcess - INFO     Successfully processed row 1572 in 1.8853 seconds. (3751155626.py:process_row:53)\n",
      "2024-08-14 10:36:55,064 - micro - MainProcess - INFO     Processing row 1577: Full Path: utils\\data\\scanned\\test\\memo\\memo_7.png, Document Type: memo (3751155626.py:process_row:31)\n",
      "2024-08-14 10:36:55,187 - micro - MainProcess - INFO     Successfully processed row 1573 in 1.8737 seconds. (3751155626.py:process_row:53)\n",
      "2024-08-14 10:36:55,191 - micro - MainProcess - INFO     Processing row 1578: Full Path: utils\\data\\scanned\\test\\memo\\memo_8.png, Document Type: memo (3751155626.py:process_row:31)\n",
      "2024-08-14 10:36:56,468 - micro - MainProcess - INFO     Successfully processed row 1574 in 2.0505 seconds. (3751155626.py:process_row:53)\n",
      "2024-08-14 10:36:56,470 - micro - MainProcess - INFO     Processing row 1579: Full Path: utils\\data\\scanned\\test\\memo\\memo_9.png, Document Type: memo (3751155626.py:process_row:31)\n",
      "2024-08-14 10:36:56,659 - micro - MainProcess - INFO     Successfully processed row 1577 in 1.5945 seconds. (3751155626.py:process_row:53)\n",
      "2024-08-14 10:36:56,672 - micro - MainProcess - INFO     Successfully processed row 1575 in 2.2104 seconds. (3751155626.py:process_row:53)\n",
      "2024-08-14 10:36:56,682 - micro - MainProcess - INFO     Successfully processed row 1576 in 1.8125 seconds. (3751155626.py:process_row:53)\n",
      "2024-08-14 10:36:58,247 - micro - MainProcess - INFO     Successfully processed row 1579 in 1.7769 seconds. (3751155626.py:process_row:53)\n",
      "2024-08-14 10:37:00,290 - micro - MainProcess - INFO     Successfully processed row 1578 in 5.1000 seconds. (3751155626.py:process_row:53)\n"
     ]
    }
   ],
   "source": [
    "import numpy as np\n",
    "from concurrent.futures import ThreadPoolExecutor, as_completed\n",
    "import threading\n",
    "from tabulate import tabulate\n",
    "import time\n",
    "\n",
    "y_true_list = []\n",
    "y_pred_list = []\n",
    "list_lock = threading.Lock()\n",
    "error_count = 0\n",
    "successful_times = []\n",
    "\n",
    "\n",
    "def process_row(index, row):\n",
    "    \"\"\"\n",
    "    Process a single row to generate chat response and return the true and predicted labels.\n",
    "\n",
    "    Parameters:\n",
    "    index (int): The index of the row.\n",
    "    row (pd.Series): The row data.\n",
    "\n",
    "    Returns:\n",
    "    tuple: A tuple containing the true label and predicted label.\n",
    "    \"\"\"\n",
    "    global error_count\n",
    "    start_time = time.time()\n",
    "    try:\n",
    "        full_path = row[\"location\"]\n",
    "        document_type = row[\"label\"]\n",
    "\n",
    "        logger.info(\n",
    "            f\"Processing row {index}: Full Path: {full_path}, Document Type: {document_type}\"\n",
    "        )\n",
    "\n",
    "        result_4o = az_manager.generate_chat_response(\n",
    "            system_message_content=\"\"\"You are an AI assistant specializing in the classification of documents derived from images.\n",
    "                                      Your task is to analyze the details within the images and apply deep reasoning to accurately categorize the documents.\"\"\",\n",
    "            query=CLASSIFICATION_PROMPT,\n",
    "            image_paths=[full_path],\n",
    "            conversation_history=[],\n",
    "            temperature=0,\n",
    "        )\n",
    "\n",
    "        if result_4o is None or result_4o[0] is None:\n",
    "            logger.warning(\n",
    "                f\"Result is None for index {index}. File location: {full_path}\"\n",
    "            )\n",
    "            error_count += 1\n",
    "            return (None, None)\n",
    "        else:\n",
    "            end_time = time.time()\n",
    "            successful_times.append(end_time - start_time)\n",
    "            logger.info(\n",
    "                f\"Successfully processed row {index} in {end_time - start_time:.4f} seconds.\"\n",
    "            )\n",
    "            return (document_type, result_4o[0])\n",
    "    except Exception as e:\n",
    "        logger.error(f\"Error processing row {index}: {e}\")\n",
    "        error_count += 1\n",
    "        return (None, None)\n",
    "\n",
    "\n",
    "with ThreadPoolExecutor(max_workers=5) as executor:\n",
    "    futures = {\n",
    "        executor.submit(process_row, index, row): index\n",
    "        for index, row in filtered_df.iterrows()\n",
    "    }\n",
    "\n",
    "    for future in as_completed(futures):\n",
    "        true_label, pred_label = future.result()\n",
    "        if true_label is not None and pred_label is not None:\n",
    "            with list_lock:\n",
    "                y_true_list.append(true_label)\n",
    "                y_pred_list.append(pred_label)\n",
    "\n",
    "# Convert the lists to numpy arrays\n",
    "y_true = np.array(y_true_list)\n",
    "y_pred = np.array(y_pred_list)"
   ]
  },
  {
   "cell_type": "code",
   "execution_count": 6,
   "metadata": {},
   "outputs": [
    {
     "name": "stdout",
     "output_type": "stream",
     "text": [
      "+----------------------------------------+---------+\n",
      "| Statistic                              |   Value |\n",
      "+========================================+=========+\n",
      "| Average time per run (seconds)         |  2.2506 |\n",
      "+----------------------------------------+---------+\n",
      "| Median time per run (seconds)          |  2.0036 |\n",
      "+----------------------------------------+---------+\n",
      "| Minimum time per run (seconds)         |  1.2941 |\n",
      "+----------------------------------------+---------+\n",
      "| Maximum time per run (seconds)         |  9.5673 |\n",
      "+----------------------------------------+---------+\n",
      "| 95th percentile time per run (seconds) |  3.4515 |\n",
      "+----------------------------------------+---------+\n",
      "| 99th percentile time per run (seconds) |  5.2066 |\n",
      "+----------------------------------------+---------+\n",
      "| Number of errors                       |  0      |\n",
      "+----------------------------------------+---------+\n"
     ]
    }
   ],
   "source": [
    "from utils.time import calculate_statistics\n",
    "\n",
    "calculate_statistics(successful_times, error_count)"
   ]
  },
  {
   "cell_type": "code",
   "execution_count": 7,
   "metadata": {},
   "outputs": [
    {
     "name": "stderr",
     "output_type": "stream",
     "text": [
      "2024-08-14 10:37:03,778 - micro - MainProcess - INFO     Evaluating model performance... (ml.py:evaluate_model:34)\n",
      "2024-08-14 10:37:03,785 - micro - MainProcess - INFO     Invalid predictions detected and marked as 'hallucination':\n",
      "  Hallucination  Count\n",
      "0     inventory      1\n",
      "1           fax      1 (ml.py:evaluate_model:49)\n",
      "2024-08-14 10:37:03,793 - micro - MainProcess - INFO     True labels corresponding to hallucinations:\n",
      "  True Label  Count\n",
      "0       form      2 (ml.py:evaluate_model:60)\n",
      "2024-08-14 10:37:03,796 - micro - MainProcess - INFO     Length of y_true_filtered: 158 (ml.py:evaluate_model:66)\n",
      "2024-08-14 10:37:03,802 - micro - MainProcess - INFO     Length of y_pred_filtered: 158 (ml.py:evaluate_model:67)\n",
      "2024-08-14 10:37:03,878 - micro - MainProcess - INFO     Accuracy: 0.7215 (ml.py:evaluate_model:90)\n",
      "2024-08-14 10:37:03,881 - micro - MainProcess - INFO     Precision: 0.7656 (ml.py:evaluate_model:91)\n",
      "2024-08-14 10:37:03,882 - micro - MainProcess - INFO     Recall: 0.7215 (ml.py:evaluate_model:92)\n",
      "2024-08-14 10:37:03,885 - micro - MainProcess - INFO     F1 Score: 0.7156 (ml.py:evaluate_model:93)\n"
     ]
    },
    {
     "data": {
      "application/vnd.plotly.v1+json": {
       "config": {
        "plotlyServerURL": "https://plot.ly"
       },
       "data": [
        {
         "alignmentgroup": "True",
         "hovertemplate": "Metrics=%{x}<br>Values=%{y}<extra></extra>",
         "legendgroup": "",
         "marker": {
          "color": "#636efa",
          "pattern": {
           "shape": ""
          }
         },
         "name": "",
         "offsetgroup": "",
         "orientation": "v",
         "showlegend": false,
         "textposition": "auto",
         "texttemplate": "%{y}",
         "type": "bar",
         "x": [
          "accuracy",
          "precision",
          "recall",
          "f1_score"
         ],
         "xaxis": "x",
         "y": [
          0.7215189873417721,
          0.7655698029115751,
          0.7215189873417721,
          0.7155780542953799
         ],
         "yaxis": "y"
        }
       ],
       "layout": {
        "barmode": "relative",
        "legend": {
         "tracegroupgap": 0
        },
        "margin": {
         "t": 60
        },
        "template": {
         "data": {
          "bar": [
           {
            "error_x": {
             "color": "#2a3f5f"
            },
            "error_y": {
             "color": "#2a3f5f"
            },
            "marker": {
             "line": {
              "color": "#E5ECF6",
              "width": 0.5
             },
             "pattern": {
              "fillmode": "overlay",
              "size": 10,
              "solidity": 0.2
             }
            },
            "type": "bar"
           }
          ],
          "barpolar": [
           {
            "marker": {
             "line": {
              "color": "#E5ECF6",
              "width": 0.5
             },
             "pattern": {
              "fillmode": "overlay",
              "size": 10,
              "solidity": 0.2
             }
            },
            "type": "barpolar"
           }
          ],
          "carpet": [
           {
            "aaxis": {
             "endlinecolor": "#2a3f5f",
             "gridcolor": "white",
             "linecolor": "white",
             "minorgridcolor": "white",
             "startlinecolor": "#2a3f5f"
            },
            "baxis": {
             "endlinecolor": "#2a3f5f",
             "gridcolor": "white",
             "linecolor": "white",
             "minorgridcolor": "white",
             "startlinecolor": "#2a3f5f"
            },
            "type": "carpet"
           }
          ],
          "choropleth": [
           {
            "colorbar": {
             "outlinewidth": 0,
             "ticks": ""
            },
            "type": "choropleth"
           }
          ],
          "contour": [
           {
            "colorbar": {
             "outlinewidth": 0,
             "ticks": ""
            },
            "colorscale": [
             [
              0,
              "#0d0887"
             ],
             [
              0.1111111111111111,
              "#46039f"
             ],
             [
              0.2222222222222222,
              "#7201a8"
             ],
             [
              0.3333333333333333,
              "#9c179e"
             ],
             [
              0.4444444444444444,
              "#bd3786"
             ],
             [
              0.5555555555555556,
              "#d8576b"
             ],
             [
              0.6666666666666666,
              "#ed7953"
             ],
             [
              0.7777777777777778,
              "#fb9f3a"
             ],
             [
              0.8888888888888888,
              "#fdca26"
             ],
             [
              1,
              "#f0f921"
             ]
            ],
            "type": "contour"
           }
          ],
          "contourcarpet": [
           {
            "colorbar": {
             "outlinewidth": 0,
             "ticks": ""
            },
            "type": "contourcarpet"
           }
          ],
          "heatmap": [
           {
            "colorbar": {
             "outlinewidth": 0,
             "ticks": ""
            },
            "colorscale": [
             [
              0,
              "#0d0887"
             ],
             [
              0.1111111111111111,
              "#46039f"
             ],
             [
              0.2222222222222222,
              "#7201a8"
             ],
             [
              0.3333333333333333,
              "#9c179e"
             ],
             [
              0.4444444444444444,
              "#bd3786"
             ],
             [
              0.5555555555555556,
              "#d8576b"
             ],
             [
              0.6666666666666666,
              "#ed7953"
             ],
             [
              0.7777777777777778,
              "#fb9f3a"
             ],
             [
              0.8888888888888888,
              "#fdca26"
             ],
             [
              1,
              "#f0f921"
             ]
            ],
            "type": "heatmap"
           }
          ],
          "heatmapgl": [
           {
            "colorbar": {
             "outlinewidth": 0,
             "ticks": ""
            },
            "colorscale": [
             [
              0,
              "#0d0887"
             ],
             [
              0.1111111111111111,
              "#46039f"
             ],
             [
              0.2222222222222222,
              "#7201a8"
             ],
             [
              0.3333333333333333,
              "#9c179e"
             ],
             [
              0.4444444444444444,
              "#bd3786"
             ],
             [
              0.5555555555555556,
              "#d8576b"
             ],
             [
              0.6666666666666666,
              "#ed7953"
             ],
             [
              0.7777777777777778,
              "#fb9f3a"
             ],
             [
              0.8888888888888888,
              "#fdca26"
             ],
             [
              1,
              "#f0f921"
             ]
            ],
            "type": "heatmapgl"
           }
          ],
          "histogram": [
           {
            "marker": {
             "pattern": {
              "fillmode": "overlay",
              "size": 10,
              "solidity": 0.2
             }
            },
            "type": "histogram"
           }
          ],
          "histogram2d": [
           {
            "colorbar": {
             "outlinewidth": 0,
             "ticks": ""
            },
            "colorscale": [
             [
              0,
              "#0d0887"
             ],
             [
              0.1111111111111111,
              "#46039f"
             ],
             [
              0.2222222222222222,
              "#7201a8"
             ],
             [
              0.3333333333333333,
              "#9c179e"
             ],
             [
              0.4444444444444444,
              "#bd3786"
             ],
             [
              0.5555555555555556,
              "#d8576b"
             ],
             [
              0.6666666666666666,
              "#ed7953"
             ],
             [
              0.7777777777777778,
              "#fb9f3a"
             ],
             [
              0.8888888888888888,
              "#fdca26"
             ],
             [
              1,
              "#f0f921"
             ]
            ],
            "type": "histogram2d"
           }
          ],
          "histogram2dcontour": [
           {
            "colorbar": {
             "outlinewidth": 0,
             "ticks": ""
            },
            "colorscale": [
             [
              0,
              "#0d0887"
             ],
             [
              0.1111111111111111,
              "#46039f"
             ],
             [
              0.2222222222222222,
              "#7201a8"
             ],
             [
              0.3333333333333333,
              "#9c179e"
             ],
             [
              0.4444444444444444,
              "#bd3786"
             ],
             [
              0.5555555555555556,
              "#d8576b"
             ],
             [
              0.6666666666666666,
              "#ed7953"
             ],
             [
              0.7777777777777778,
              "#fb9f3a"
             ],
             [
              0.8888888888888888,
              "#fdca26"
             ],
             [
              1,
              "#f0f921"
             ]
            ],
            "type": "histogram2dcontour"
           }
          ],
          "mesh3d": [
           {
            "colorbar": {
             "outlinewidth": 0,
             "ticks": ""
            },
            "type": "mesh3d"
           }
          ],
          "parcoords": [
           {
            "line": {
             "colorbar": {
              "outlinewidth": 0,
              "ticks": ""
             }
            },
            "type": "parcoords"
           }
          ],
          "pie": [
           {
            "automargin": true,
            "type": "pie"
           }
          ],
          "scatter": [
           {
            "fillpattern": {
             "fillmode": "overlay",
             "size": 10,
             "solidity": 0.2
            },
            "type": "scatter"
           }
          ],
          "scatter3d": [
           {
            "line": {
             "colorbar": {
              "outlinewidth": 0,
              "ticks": ""
             }
            },
            "marker": {
             "colorbar": {
              "outlinewidth": 0,
              "ticks": ""
             }
            },
            "type": "scatter3d"
           }
          ],
          "scattercarpet": [
           {
            "marker": {
             "colorbar": {
              "outlinewidth": 0,
              "ticks": ""
             }
            },
            "type": "scattercarpet"
           }
          ],
          "scattergeo": [
           {
            "marker": {
             "colorbar": {
              "outlinewidth": 0,
              "ticks": ""
             }
            },
            "type": "scattergeo"
           }
          ],
          "scattergl": [
           {
            "marker": {
             "colorbar": {
              "outlinewidth": 0,
              "ticks": ""
             }
            },
            "type": "scattergl"
           }
          ],
          "scattermapbox": [
           {
            "marker": {
             "colorbar": {
              "outlinewidth": 0,
              "ticks": ""
             }
            },
            "type": "scattermapbox"
           }
          ],
          "scatterpolar": [
           {
            "marker": {
             "colorbar": {
              "outlinewidth": 0,
              "ticks": ""
             }
            },
            "type": "scatterpolar"
           }
          ],
          "scatterpolargl": [
           {
            "marker": {
             "colorbar": {
              "outlinewidth": 0,
              "ticks": ""
             }
            },
            "type": "scatterpolargl"
           }
          ],
          "scatterternary": [
           {
            "marker": {
             "colorbar": {
              "outlinewidth": 0,
              "ticks": ""
             }
            },
            "type": "scatterternary"
           }
          ],
          "surface": [
           {
            "colorbar": {
             "outlinewidth": 0,
             "ticks": ""
            },
            "colorscale": [
             [
              0,
              "#0d0887"
             ],
             [
              0.1111111111111111,
              "#46039f"
             ],
             [
              0.2222222222222222,
              "#7201a8"
             ],
             [
              0.3333333333333333,
              "#9c179e"
             ],
             [
              0.4444444444444444,
              "#bd3786"
             ],
             [
              0.5555555555555556,
              "#d8576b"
             ],
             [
              0.6666666666666666,
              "#ed7953"
             ],
             [
              0.7777777777777778,
              "#fb9f3a"
             ],
             [
              0.8888888888888888,
              "#fdca26"
             ],
             [
              1,
              "#f0f921"
             ]
            ],
            "type": "surface"
           }
          ],
          "table": [
           {
            "cells": {
             "fill": {
              "color": "#EBF0F8"
             },
             "line": {
              "color": "white"
             }
            },
            "header": {
             "fill": {
              "color": "#C8D4E3"
             },
             "line": {
              "color": "white"
             }
            },
            "type": "table"
           }
          ]
         },
         "layout": {
          "annotationdefaults": {
           "arrowcolor": "#2a3f5f",
           "arrowhead": 0,
           "arrowwidth": 1
          },
          "autotypenumbers": "strict",
          "coloraxis": {
           "colorbar": {
            "outlinewidth": 0,
            "ticks": ""
           }
          },
          "colorscale": {
           "diverging": [
            [
             0,
             "#8e0152"
            ],
            [
             0.1,
             "#c51b7d"
            ],
            [
             0.2,
             "#de77ae"
            ],
            [
             0.3,
             "#f1b6da"
            ],
            [
             0.4,
             "#fde0ef"
            ],
            [
             0.5,
             "#f7f7f7"
            ],
            [
             0.6,
             "#e6f5d0"
            ],
            [
             0.7,
             "#b8e186"
            ],
            [
             0.8,
             "#7fbc41"
            ],
            [
             0.9,
             "#4d9221"
            ],
            [
             1,
             "#276419"
            ]
           ],
           "sequential": [
            [
             0,
             "#0d0887"
            ],
            [
             0.1111111111111111,
             "#46039f"
            ],
            [
             0.2222222222222222,
             "#7201a8"
            ],
            [
             0.3333333333333333,
             "#9c179e"
            ],
            [
             0.4444444444444444,
             "#bd3786"
            ],
            [
             0.5555555555555556,
             "#d8576b"
            ],
            [
             0.6666666666666666,
             "#ed7953"
            ],
            [
             0.7777777777777778,
             "#fb9f3a"
            ],
            [
             0.8888888888888888,
             "#fdca26"
            ],
            [
             1,
             "#f0f921"
            ]
           ],
           "sequentialminus": [
            [
             0,
             "#0d0887"
            ],
            [
             0.1111111111111111,
             "#46039f"
            ],
            [
             0.2222222222222222,
             "#7201a8"
            ],
            [
             0.3333333333333333,
             "#9c179e"
            ],
            [
             0.4444444444444444,
             "#bd3786"
            ],
            [
             0.5555555555555556,
             "#d8576b"
            ],
            [
             0.6666666666666666,
             "#ed7953"
            ],
            [
             0.7777777777777778,
             "#fb9f3a"
            ],
            [
             0.8888888888888888,
             "#fdca26"
            ],
            [
             1,
             "#f0f921"
            ]
           ]
          },
          "colorway": [
           "#636efa",
           "#EF553B",
           "#00cc96",
           "#ab63fa",
           "#FFA15A",
           "#19d3f3",
           "#FF6692",
           "#B6E880",
           "#FF97FF",
           "#FECB52"
          ],
          "font": {
           "color": "#2a3f5f"
          },
          "geo": {
           "bgcolor": "white",
           "lakecolor": "white",
           "landcolor": "#E5ECF6",
           "showlakes": true,
           "showland": true,
           "subunitcolor": "white"
          },
          "hoverlabel": {
           "align": "left"
          },
          "hovermode": "closest",
          "mapbox": {
           "style": "light"
          },
          "paper_bgcolor": "white",
          "plot_bgcolor": "#E5ECF6",
          "polar": {
           "angularaxis": {
            "gridcolor": "white",
            "linecolor": "white",
            "ticks": ""
           },
           "bgcolor": "#E5ECF6",
           "radialaxis": {
            "gridcolor": "white",
            "linecolor": "white",
            "ticks": ""
           }
          },
          "scene": {
           "xaxis": {
            "backgroundcolor": "#E5ECF6",
            "gridcolor": "white",
            "gridwidth": 2,
            "linecolor": "white",
            "showbackground": true,
            "ticks": "",
            "zerolinecolor": "white"
           },
           "yaxis": {
            "backgroundcolor": "#E5ECF6",
            "gridcolor": "white",
            "gridwidth": 2,
            "linecolor": "white",
            "showbackground": true,
            "ticks": "",
            "zerolinecolor": "white"
           },
           "zaxis": {
            "backgroundcolor": "#E5ECF6",
            "gridcolor": "white",
            "gridwidth": 2,
            "linecolor": "white",
            "showbackground": true,
            "ticks": "",
            "zerolinecolor": "white"
           }
          },
          "shapedefaults": {
           "line": {
            "color": "#2a3f5f"
           }
          },
          "ternary": {
           "aaxis": {
            "gridcolor": "white",
            "linecolor": "white",
            "ticks": ""
           },
           "baxis": {
            "gridcolor": "white",
            "linecolor": "white",
            "ticks": ""
           },
           "bgcolor": "#E5ECF6",
           "caxis": {
            "gridcolor": "white",
            "linecolor": "white",
            "ticks": ""
           }
          },
          "title": {
           "x": 0.05
          },
          "xaxis": {
           "automargin": true,
           "gridcolor": "white",
           "linecolor": "white",
           "ticks": "",
           "title": {
            "standoff": 15
           },
           "zerolinecolor": "white",
           "zerolinewidth": 2
          },
          "yaxis": {
           "automargin": true,
           "gridcolor": "white",
           "linecolor": "white",
           "ticks": "",
           "title": {
            "standoff": 15
           },
           "zerolinecolor": "white",
           "zerolinewidth": 2
          }
         }
        },
        "title": {
         "text": "Evaluation Metrics"
        },
        "xaxis": {
         "anchor": "y",
         "domain": [
          0,
          1
         ],
         "title": {
          "text": "Metrics"
         }
        },
        "yaxis": {
         "anchor": "x",
         "domain": [
          0,
          1
         ],
         "range": [
          0,
          1
         ],
         "title": {
          "text": "Values"
         }
        }
       }
      }
     },
     "metadata": {},
     "output_type": "display_data"
    },
    {
     "data": {
      "application/vnd.plotly.v1+json": {
       "config": {
        "plotlyServerURL": "https://plot.ly"
       },
       "data": [
        {
         "coloraxis": "coloraxis",
         "hovertemplate": "Predicted Labels: %{x}<br>True Labels: %{y}<br>Count: %{z}<extra></extra>",
         "name": "0",
         "type": "heatmap",
         "x": [
          "letter",
          "form",
          "email",
          "handwritten",
          "advertisement",
          "scientific report",
          "scientific publication",
          "specification",
          "file folder",
          "news article",
          "budget",
          "invoice",
          "presentation",
          "questionnaire",
          "resume",
          "memo"
         ],
         "xaxis": "x",
         "y": [
          "letter",
          "form",
          "email",
          "handwritten",
          "advertisement",
          "scientific report",
          "scientific publication",
          "specification",
          "file folder",
          "news article",
          "budget",
          "invoice",
          "presentation",
          "questionnaire",
          "resume",
          "memo"
         ],
         "yaxis": "y",
         "z": [
          [
           6,
           0,
           0,
           0,
           0,
           0,
           0,
           1,
           0,
           0,
           0,
           0,
           0,
           0,
           0,
           3
          ],
          [
           3,
           1,
           0,
           0,
           0,
           0,
           0,
           1,
           0,
           0,
           0,
           0,
           0,
           0,
           0,
           3
          ],
          [
           1,
           0,
           7,
           0,
           0,
           1,
           0,
           0,
           0,
           0,
           0,
           0,
           0,
           1,
           0,
           0
          ],
          [
           1,
           0,
           0,
           9,
           0,
           0,
           0,
           0,
           0,
           0,
           0,
           0,
           0,
           0,
           0,
           0
          ],
          [
           0,
           0,
           0,
           1,
           9,
           0,
           0,
           0,
           0,
           0,
           0,
           0,
           0,
           0,
           0,
           0
          ],
          [
           0,
           1,
           0,
           0,
           0,
           8,
           1,
           0,
           0,
           0,
           0,
           0,
           0,
           0,
           0,
           0
          ],
          [
           0,
           0,
           0,
           0,
           0,
           1,
           8,
           0,
           0,
           1,
           0,
           0,
           0,
           0,
           0,
           0
          ],
          [
           0,
           1,
           0,
           0,
           0,
           1,
           0,
           8,
           0,
           0,
           0,
           0,
           0,
           0,
           0,
           0
          ],
          [
           0,
           0,
           0,
           1,
           0,
           1,
           0,
           1,
           7,
           0,
           0,
           0,
           0,
           0,
           0,
           0
          ],
          [
           0,
           0,
           0,
           0,
           1,
           0,
           0,
           0,
           0,
           9,
           0,
           0,
           0,
           0,
           0,
           0
          ],
          [
           0,
           0,
           0,
           0,
           0,
           1,
           0,
           0,
           1,
           0,
           7,
           1,
           0,
           0,
           0,
           0
          ],
          [
           1,
           1,
           0,
           0,
           0,
           0,
           0,
           0,
           0,
           0,
           0,
           8,
           0,
           0,
           0,
           0
          ],
          [
           1,
           0,
           0,
           0,
           0,
           2,
           0,
           0,
           1,
           4,
           0,
           0,
           2,
           0,
           0,
           0
          ],
          [
           0,
           1,
           0,
           1,
           0,
           0,
           0,
           0,
           0,
           0,
           0,
           0,
           0,
           8,
           0,
           0
          ],
          [
           0,
           0,
           0,
           0,
           0,
           1,
           0,
           0,
           0,
           0,
           0,
           0,
           0,
           0,
           9,
           0
          ],
          [
           2,
           0,
           0,
           0,
           0,
           0,
           0,
           0,
           0,
           0,
           0,
           0,
           0,
           0,
           0,
           8
          ]
         ]
        }
       ],
       "layout": {
        "coloraxis": {
         "colorbar": {
          "title": {
           "text": "Count"
          }
         },
         "colorscale": [
          [
           0,
           "rgb(247,251,255)"
          ],
          [
           0.125,
           "rgb(222,235,247)"
          ],
          [
           0.25,
           "rgb(198,219,239)"
          ],
          [
           0.375,
           "rgb(158,202,225)"
          ],
          [
           0.5,
           "rgb(107,174,214)"
          ],
          [
           0.625,
           "rgb(66,146,198)"
          ],
          [
           0.75,
           "rgb(33,113,181)"
          ],
          [
           0.875,
           "rgb(8,81,156)"
          ],
          [
           1,
           "rgb(8,48,107)"
          ]
         ]
        },
        "margin": {
         "t": 60
        },
        "template": {
         "data": {
          "bar": [
           {
            "error_x": {
             "color": "#2a3f5f"
            },
            "error_y": {
             "color": "#2a3f5f"
            },
            "marker": {
             "line": {
              "color": "#E5ECF6",
              "width": 0.5
             },
             "pattern": {
              "fillmode": "overlay",
              "size": 10,
              "solidity": 0.2
             }
            },
            "type": "bar"
           }
          ],
          "barpolar": [
           {
            "marker": {
             "line": {
              "color": "#E5ECF6",
              "width": 0.5
             },
             "pattern": {
              "fillmode": "overlay",
              "size": 10,
              "solidity": 0.2
             }
            },
            "type": "barpolar"
           }
          ],
          "carpet": [
           {
            "aaxis": {
             "endlinecolor": "#2a3f5f",
             "gridcolor": "white",
             "linecolor": "white",
             "minorgridcolor": "white",
             "startlinecolor": "#2a3f5f"
            },
            "baxis": {
             "endlinecolor": "#2a3f5f",
             "gridcolor": "white",
             "linecolor": "white",
             "minorgridcolor": "white",
             "startlinecolor": "#2a3f5f"
            },
            "type": "carpet"
           }
          ],
          "choropleth": [
           {
            "colorbar": {
             "outlinewidth": 0,
             "ticks": ""
            },
            "type": "choropleth"
           }
          ],
          "contour": [
           {
            "colorbar": {
             "outlinewidth": 0,
             "ticks": ""
            },
            "colorscale": [
             [
              0,
              "#0d0887"
             ],
             [
              0.1111111111111111,
              "#46039f"
             ],
             [
              0.2222222222222222,
              "#7201a8"
             ],
             [
              0.3333333333333333,
              "#9c179e"
             ],
             [
              0.4444444444444444,
              "#bd3786"
             ],
             [
              0.5555555555555556,
              "#d8576b"
             ],
             [
              0.6666666666666666,
              "#ed7953"
             ],
             [
              0.7777777777777778,
              "#fb9f3a"
             ],
             [
              0.8888888888888888,
              "#fdca26"
             ],
             [
              1,
              "#f0f921"
             ]
            ],
            "type": "contour"
           }
          ],
          "contourcarpet": [
           {
            "colorbar": {
             "outlinewidth": 0,
             "ticks": ""
            },
            "type": "contourcarpet"
           }
          ],
          "heatmap": [
           {
            "colorbar": {
             "outlinewidth": 0,
             "ticks": ""
            },
            "colorscale": [
             [
              0,
              "#0d0887"
             ],
             [
              0.1111111111111111,
              "#46039f"
             ],
             [
              0.2222222222222222,
              "#7201a8"
             ],
             [
              0.3333333333333333,
              "#9c179e"
             ],
             [
              0.4444444444444444,
              "#bd3786"
             ],
             [
              0.5555555555555556,
              "#d8576b"
             ],
             [
              0.6666666666666666,
              "#ed7953"
             ],
             [
              0.7777777777777778,
              "#fb9f3a"
             ],
             [
              0.8888888888888888,
              "#fdca26"
             ],
             [
              1,
              "#f0f921"
             ]
            ],
            "type": "heatmap"
           }
          ],
          "heatmapgl": [
           {
            "colorbar": {
             "outlinewidth": 0,
             "ticks": ""
            },
            "colorscale": [
             [
              0,
              "#0d0887"
             ],
             [
              0.1111111111111111,
              "#46039f"
             ],
             [
              0.2222222222222222,
              "#7201a8"
             ],
             [
              0.3333333333333333,
              "#9c179e"
             ],
             [
              0.4444444444444444,
              "#bd3786"
             ],
             [
              0.5555555555555556,
              "#d8576b"
             ],
             [
              0.6666666666666666,
              "#ed7953"
             ],
             [
              0.7777777777777778,
              "#fb9f3a"
             ],
             [
              0.8888888888888888,
              "#fdca26"
             ],
             [
              1,
              "#f0f921"
             ]
            ],
            "type": "heatmapgl"
           }
          ],
          "histogram": [
           {
            "marker": {
             "pattern": {
              "fillmode": "overlay",
              "size": 10,
              "solidity": 0.2
             }
            },
            "type": "histogram"
           }
          ],
          "histogram2d": [
           {
            "colorbar": {
             "outlinewidth": 0,
             "ticks": ""
            },
            "colorscale": [
             [
              0,
              "#0d0887"
             ],
             [
              0.1111111111111111,
              "#46039f"
             ],
             [
              0.2222222222222222,
              "#7201a8"
             ],
             [
              0.3333333333333333,
              "#9c179e"
             ],
             [
              0.4444444444444444,
              "#bd3786"
             ],
             [
              0.5555555555555556,
              "#d8576b"
             ],
             [
              0.6666666666666666,
              "#ed7953"
             ],
             [
              0.7777777777777778,
              "#fb9f3a"
             ],
             [
              0.8888888888888888,
              "#fdca26"
             ],
             [
              1,
              "#f0f921"
             ]
            ],
            "type": "histogram2d"
           }
          ],
          "histogram2dcontour": [
           {
            "colorbar": {
             "outlinewidth": 0,
             "ticks": ""
            },
            "colorscale": [
             [
              0,
              "#0d0887"
             ],
             [
              0.1111111111111111,
              "#46039f"
             ],
             [
              0.2222222222222222,
              "#7201a8"
             ],
             [
              0.3333333333333333,
              "#9c179e"
             ],
             [
              0.4444444444444444,
              "#bd3786"
             ],
             [
              0.5555555555555556,
              "#d8576b"
             ],
             [
              0.6666666666666666,
              "#ed7953"
             ],
             [
              0.7777777777777778,
              "#fb9f3a"
             ],
             [
              0.8888888888888888,
              "#fdca26"
             ],
             [
              1,
              "#f0f921"
             ]
            ],
            "type": "histogram2dcontour"
           }
          ],
          "mesh3d": [
           {
            "colorbar": {
             "outlinewidth": 0,
             "ticks": ""
            },
            "type": "mesh3d"
           }
          ],
          "parcoords": [
           {
            "line": {
             "colorbar": {
              "outlinewidth": 0,
              "ticks": ""
             }
            },
            "type": "parcoords"
           }
          ],
          "pie": [
           {
            "automargin": true,
            "type": "pie"
           }
          ],
          "scatter": [
           {
            "fillpattern": {
             "fillmode": "overlay",
             "size": 10,
             "solidity": 0.2
            },
            "type": "scatter"
           }
          ],
          "scatter3d": [
           {
            "line": {
             "colorbar": {
              "outlinewidth": 0,
              "ticks": ""
             }
            },
            "marker": {
             "colorbar": {
              "outlinewidth": 0,
              "ticks": ""
             }
            },
            "type": "scatter3d"
           }
          ],
          "scattercarpet": [
           {
            "marker": {
             "colorbar": {
              "outlinewidth": 0,
              "ticks": ""
             }
            },
            "type": "scattercarpet"
           }
          ],
          "scattergeo": [
           {
            "marker": {
             "colorbar": {
              "outlinewidth": 0,
              "ticks": ""
             }
            },
            "type": "scattergeo"
           }
          ],
          "scattergl": [
           {
            "marker": {
             "colorbar": {
              "outlinewidth": 0,
              "ticks": ""
             }
            },
            "type": "scattergl"
           }
          ],
          "scattermapbox": [
           {
            "marker": {
             "colorbar": {
              "outlinewidth": 0,
              "ticks": ""
             }
            },
            "type": "scattermapbox"
           }
          ],
          "scatterpolar": [
           {
            "marker": {
             "colorbar": {
              "outlinewidth": 0,
              "ticks": ""
             }
            },
            "type": "scatterpolar"
           }
          ],
          "scatterpolargl": [
           {
            "marker": {
             "colorbar": {
              "outlinewidth": 0,
              "ticks": ""
             }
            },
            "type": "scatterpolargl"
           }
          ],
          "scatterternary": [
           {
            "marker": {
             "colorbar": {
              "outlinewidth": 0,
              "ticks": ""
             }
            },
            "type": "scatterternary"
           }
          ],
          "surface": [
           {
            "colorbar": {
             "outlinewidth": 0,
             "ticks": ""
            },
            "colorscale": [
             [
              0,
              "#0d0887"
             ],
             [
              0.1111111111111111,
              "#46039f"
             ],
             [
              0.2222222222222222,
              "#7201a8"
             ],
             [
              0.3333333333333333,
              "#9c179e"
             ],
             [
              0.4444444444444444,
              "#bd3786"
             ],
             [
              0.5555555555555556,
              "#d8576b"
             ],
             [
              0.6666666666666666,
              "#ed7953"
             ],
             [
              0.7777777777777778,
              "#fb9f3a"
             ],
             [
              0.8888888888888888,
              "#fdca26"
             ],
             [
              1,
              "#f0f921"
             ]
            ],
            "type": "surface"
           }
          ],
          "table": [
           {
            "cells": {
             "fill": {
              "color": "#EBF0F8"
             },
             "line": {
              "color": "white"
             }
            },
            "header": {
             "fill": {
              "color": "#C8D4E3"
             },
             "line": {
              "color": "white"
             }
            },
            "type": "table"
           }
          ]
         },
         "layout": {
          "annotationdefaults": {
           "arrowcolor": "#2a3f5f",
           "arrowhead": 0,
           "arrowwidth": 1
          },
          "autotypenumbers": "strict",
          "coloraxis": {
           "colorbar": {
            "outlinewidth": 0,
            "ticks": ""
           }
          },
          "colorscale": {
           "diverging": [
            [
             0,
             "#8e0152"
            ],
            [
             0.1,
             "#c51b7d"
            ],
            [
             0.2,
             "#de77ae"
            ],
            [
             0.3,
             "#f1b6da"
            ],
            [
             0.4,
             "#fde0ef"
            ],
            [
             0.5,
             "#f7f7f7"
            ],
            [
             0.6,
             "#e6f5d0"
            ],
            [
             0.7,
             "#b8e186"
            ],
            [
             0.8,
             "#7fbc41"
            ],
            [
             0.9,
             "#4d9221"
            ],
            [
             1,
             "#276419"
            ]
           ],
           "sequential": [
            [
             0,
             "#0d0887"
            ],
            [
             0.1111111111111111,
             "#46039f"
            ],
            [
             0.2222222222222222,
             "#7201a8"
            ],
            [
             0.3333333333333333,
             "#9c179e"
            ],
            [
             0.4444444444444444,
             "#bd3786"
            ],
            [
             0.5555555555555556,
             "#d8576b"
            ],
            [
             0.6666666666666666,
             "#ed7953"
            ],
            [
             0.7777777777777778,
             "#fb9f3a"
            ],
            [
             0.8888888888888888,
             "#fdca26"
            ],
            [
             1,
             "#f0f921"
            ]
           ],
           "sequentialminus": [
            [
             0,
             "#0d0887"
            ],
            [
             0.1111111111111111,
             "#46039f"
            ],
            [
             0.2222222222222222,
             "#7201a8"
            ],
            [
             0.3333333333333333,
             "#9c179e"
            ],
            [
             0.4444444444444444,
             "#bd3786"
            ],
            [
             0.5555555555555556,
             "#d8576b"
            ],
            [
             0.6666666666666666,
             "#ed7953"
            ],
            [
             0.7777777777777778,
             "#fb9f3a"
            ],
            [
             0.8888888888888888,
             "#fdca26"
            ],
            [
             1,
             "#f0f921"
            ]
           ]
          },
          "colorway": [
           "#636efa",
           "#EF553B",
           "#00cc96",
           "#ab63fa",
           "#FFA15A",
           "#19d3f3",
           "#FF6692",
           "#B6E880",
           "#FF97FF",
           "#FECB52"
          ],
          "font": {
           "color": "#2a3f5f"
          },
          "geo": {
           "bgcolor": "white",
           "lakecolor": "white",
           "landcolor": "#E5ECF6",
           "showlakes": true,
           "showland": true,
           "subunitcolor": "white"
          },
          "hoverlabel": {
           "align": "left"
          },
          "hovermode": "closest",
          "mapbox": {
           "style": "light"
          },
          "paper_bgcolor": "white",
          "plot_bgcolor": "#E5ECF6",
          "polar": {
           "angularaxis": {
            "gridcolor": "white",
            "linecolor": "white",
            "ticks": ""
           },
           "bgcolor": "#E5ECF6",
           "radialaxis": {
            "gridcolor": "white",
            "linecolor": "white",
            "ticks": ""
           }
          },
          "scene": {
           "xaxis": {
            "backgroundcolor": "#E5ECF6",
            "gridcolor": "white",
            "gridwidth": 2,
            "linecolor": "white",
            "showbackground": true,
            "ticks": "",
            "zerolinecolor": "white"
           },
           "yaxis": {
            "backgroundcolor": "#E5ECF6",
            "gridcolor": "white",
            "gridwidth": 2,
            "linecolor": "white",
            "showbackground": true,
            "ticks": "",
            "zerolinecolor": "white"
           },
           "zaxis": {
            "backgroundcolor": "#E5ECF6",
            "gridcolor": "white",
            "gridwidth": 2,
            "linecolor": "white",
            "showbackground": true,
            "ticks": "",
            "zerolinecolor": "white"
           }
          },
          "shapedefaults": {
           "line": {
            "color": "#2a3f5f"
           }
          },
          "ternary": {
           "aaxis": {
            "gridcolor": "white",
            "linecolor": "white",
            "ticks": ""
           },
           "baxis": {
            "gridcolor": "white",
            "linecolor": "white",
            "ticks": ""
           },
           "bgcolor": "#E5ECF6",
           "caxis": {
            "gridcolor": "white",
            "linecolor": "white",
            "ticks": ""
           }
          },
          "title": {
           "x": 0.05
          },
          "xaxis": {
           "automargin": true,
           "gridcolor": "white",
           "linecolor": "white",
           "ticks": "",
           "title": {
            "standoff": 15
           },
           "zerolinecolor": "white",
           "zerolinewidth": 2
          },
          "yaxis": {
           "automargin": true,
           "gridcolor": "white",
           "linecolor": "white",
           "ticks": "",
           "title": {
            "standoff": 15
           },
           "zerolinecolor": "white",
           "zerolinewidth": 2
          }
         }
        },
        "title": {
         "text": "Confusion Matrix"
        },
        "xaxis": {
         "anchor": "y",
         "constrain": "domain",
         "domain": [
          0,
          1
         ],
         "scaleanchor": "y",
         "title": {
          "text": "Predicted Label"
         }
        },
        "yaxis": {
         "anchor": "x",
         "autorange": "reversed",
         "constrain": "domain",
         "domain": [
          0,
          1
         ],
         "title": {
          "text": "True Label"
         }
        }
       }
      }
     },
     "metadata": {},
     "output_type": "display_data"
    },
    {
     "data": {
      "application/vnd.plotly.v1+json": {
       "config": {
        "plotlyServerURL": "https://plot.ly"
       },
       "data": [
        {
         "colorscale": [
          [
           0,
           "rgb(247,251,255)"
          ],
          [
           0.125,
           "rgb(222,235,247)"
          ],
          [
           0.25,
           "rgb(198,219,239)"
          ],
          [
           0.375,
           "rgb(158,202,225)"
          ],
          [
           0.5,
           "rgb(107,174,214)"
          ],
          [
           0.625,
           "rgb(66,146,198)"
          ],
          [
           0.75,
           "rgb(33,113,181)"
          ],
          [
           0.875,
           "rgb(8,81,156)"
          ],
          [
           1,
           "rgb(8,48,107)"
          ]
         ],
         "showscale": true,
         "type": "heatmap",
         "x": [
          "precision",
          "recall",
          "f1-score"
         ],
         "y": [
          "letter",
          "form",
          "email",
          "handwritten",
          "advertisement",
          "scientific report",
          "scientific publication",
          "specification",
          "file folder",
          "news article",
          "budget",
          "invoice",
          "presentation",
          "questionnaire",
          "resume",
          "memo"
         ],
         "z": [
          [
           0.4,
           0.6,
           0.48
          ],
          [
           0.2,
           0.125,
           0.15384615384615385
          ],
          [
           1,
           0.7,
           0.8235294117647058
          ],
          [
           0.75,
           0.9,
           0.8181818181818182
          ],
          [
           0.9,
           0.9,
           0.9
          ],
          [
           0.5,
           0.8,
           0.6153846153846154
          ],
          [
           0.8888888888888888,
           0.8,
           0.8421052631578947
          ],
          [
           0.7272727272727273,
           0.8,
           0.7619047619047619
          ],
          [
           0.7777777777777778,
           0.7,
           0.7368421052631579
          ],
          [
           0.6428571428571429,
           0.9,
           0.75
          ],
          [
           1,
           0.7,
           0.8235294117647058
          ],
          [
           0.8888888888888888,
           0.8,
           0.8421052631578947
          ],
          [
           1,
           0.2,
           0.3333333333333333
          ],
          [
           0.8888888888888888,
           0.8,
           0.8421052631578947
          ],
          [
           1,
           0.9,
           0.9473684210526315
          ],
          [
           0.5714285714285714,
           0.8,
           0.6666666666666666
          ]
         ]
        }
       ],
       "layout": {
        "template": {
         "data": {
          "bar": [
           {
            "error_x": {
             "color": "#2a3f5f"
            },
            "error_y": {
             "color": "#2a3f5f"
            },
            "marker": {
             "line": {
              "color": "#E5ECF6",
              "width": 0.5
             },
             "pattern": {
              "fillmode": "overlay",
              "size": 10,
              "solidity": 0.2
             }
            },
            "type": "bar"
           }
          ],
          "barpolar": [
           {
            "marker": {
             "line": {
              "color": "#E5ECF6",
              "width": 0.5
             },
             "pattern": {
              "fillmode": "overlay",
              "size": 10,
              "solidity": 0.2
             }
            },
            "type": "barpolar"
           }
          ],
          "carpet": [
           {
            "aaxis": {
             "endlinecolor": "#2a3f5f",
             "gridcolor": "white",
             "linecolor": "white",
             "minorgridcolor": "white",
             "startlinecolor": "#2a3f5f"
            },
            "baxis": {
             "endlinecolor": "#2a3f5f",
             "gridcolor": "white",
             "linecolor": "white",
             "minorgridcolor": "white",
             "startlinecolor": "#2a3f5f"
            },
            "type": "carpet"
           }
          ],
          "choropleth": [
           {
            "colorbar": {
             "outlinewidth": 0,
             "ticks": ""
            },
            "type": "choropleth"
           }
          ],
          "contour": [
           {
            "colorbar": {
             "outlinewidth": 0,
             "ticks": ""
            },
            "colorscale": [
             [
              0,
              "#0d0887"
             ],
             [
              0.1111111111111111,
              "#46039f"
             ],
             [
              0.2222222222222222,
              "#7201a8"
             ],
             [
              0.3333333333333333,
              "#9c179e"
             ],
             [
              0.4444444444444444,
              "#bd3786"
             ],
             [
              0.5555555555555556,
              "#d8576b"
             ],
             [
              0.6666666666666666,
              "#ed7953"
             ],
             [
              0.7777777777777778,
              "#fb9f3a"
             ],
             [
              0.8888888888888888,
              "#fdca26"
             ],
             [
              1,
              "#f0f921"
             ]
            ],
            "type": "contour"
           }
          ],
          "contourcarpet": [
           {
            "colorbar": {
             "outlinewidth": 0,
             "ticks": ""
            },
            "type": "contourcarpet"
           }
          ],
          "heatmap": [
           {
            "colorbar": {
             "outlinewidth": 0,
             "ticks": ""
            },
            "colorscale": [
             [
              0,
              "#0d0887"
             ],
             [
              0.1111111111111111,
              "#46039f"
             ],
             [
              0.2222222222222222,
              "#7201a8"
             ],
             [
              0.3333333333333333,
              "#9c179e"
             ],
             [
              0.4444444444444444,
              "#bd3786"
             ],
             [
              0.5555555555555556,
              "#d8576b"
             ],
             [
              0.6666666666666666,
              "#ed7953"
             ],
             [
              0.7777777777777778,
              "#fb9f3a"
             ],
             [
              0.8888888888888888,
              "#fdca26"
             ],
             [
              1,
              "#f0f921"
             ]
            ],
            "type": "heatmap"
           }
          ],
          "heatmapgl": [
           {
            "colorbar": {
             "outlinewidth": 0,
             "ticks": ""
            },
            "colorscale": [
             [
              0,
              "#0d0887"
             ],
             [
              0.1111111111111111,
              "#46039f"
             ],
             [
              0.2222222222222222,
              "#7201a8"
             ],
             [
              0.3333333333333333,
              "#9c179e"
             ],
             [
              0.4444444444444444,
              "#bd3786"
             ],
             [
              0.5555555555555556,
              "#d8576b"
             ],
             [
              0.6666666666666666,
              "#ed7953"
             ],
             [
              0.7777777777777778,
              "#fb9f3a"
             ],
             [
              0.8888888888888888,
              "#fdca26"
             ],
             [
              1,
              "#f0f921"
             ]
            ],
            "type": "heatmapgl"
           }
          ],
          "histogram": [
           {
            "marker": {
             "pattern": {
              "fillmode": "overlay",
              "size": 10,
              "solidity": 0.2
             }
            },
            "type": "histogram"
           }
          ],
          "histogram2d": [
           {
            "colorbar": {
             "outlinewidth": 0,
             "ticks": ""
            },
            "colorscale": [
             [
              0,
              "#0d0887"
             ],
             [
              0.1111111111111111,
              "#46039f"
             ],
             [
              0.2222222222222222,
              "#7201a8"
             ],
             [
              0.3333333333333333,
              "#9c179e"
             ],
             [
              0.4444444444444444,
              "#bd3786"
             ],
             [
              0.5555555555555556,
              "#d8576b"
             ],
             [
              0.6666666666666666,
              "#ed7953"
             ],
             [
              0.7777777777777778,
              "#fb9f3a"
             ],
             [
              0.8888888888888888,
              "#fdca26"
             ],
             [
              1,
              "#f0f921"
             ]
            ],
            "type": "histogram2d"
           }
          ],
          "histogram2dcontour": [
           {
            "colorbar": {
             "outlinewidth": 0,
             "ticks": ""
            },
            "colorscale": [
             [
              0,
              "#0d0887"
             ],
             [
              0.1111111111111111,
              "#46039f"
             ],
             [
              0.2222222222222222,
              "#7201a8"
             ],
             [
              0.3333333333333333,
              "#9c179e"
             ],
             [
              0.4444444444444444,
              "#bd3786"
             ],
             [
              0.5555555555555556,
              "#d8576b"
             ],
             [
              0.6666666666666666,
              "#ed7953"
             ],
             [
              0.7777777777777778,
              "#fb9f3a"
             ],
             [
              0.8888888888888888,
              "#fdca26"
             ],
             [
              1,
              "#f0f921"
             ]
            ],
            "type": "histogram2dcontour"
           }
          ],
          "mesh3d": [
           {
            "colorbar": {
             "outlinewidth": 0,
             "ticks": ""
            },
            "type": "mesh3d"
           }
          ],
          "parcoords": [
           {
            "line": {
             "colorbar": {
              "outlinewidth": 0,
              "ticks": ""
             }
            },
            "type": "parcoords"
           }
          ],
          "pie": [
           {
            "automargin": true,
            "type": "pie"
           }
          ],
          "scatter": [
           {
            "fillpattern": {
             "fillmode": "overlay",
             "size": 10,
             "solidity": 0.2
            },
            "type": "scatter"
           }
          ],
          "scatter3d": [
           {
            "line": {
             "colorbar": {
              "outlinewidth": 0,
              "ticks": ""
             }
            },
            "marker": {
             "colorbar": {
              "outlinewidth": 0,
              "ticks": ""
             }
            },
            "type": "scatter3d"
           }
          ],
          "scattercarpet": [
           {
            "marker": {
             "colorbar": {
              "outlinewidth": 0,
              "ticks": ""
             }
            },
            "type": "scattercarpet"
           }
          ],
          "scattergeo": [
           {
            "marker": {
             "colorbar": {
              "outlinewidth": 0,
              "ticks": ""
             }
            },
            "type": "scattergeo"
           }
          ],
          "scattergl": [
           {
            "marker": {
             "colorbar": {
              "outlinewidth": 0,
              "ticks": ""
             }
            },
            "type": "scattergl"
           }
          ],
          "scattermapbox": [
           {
            "marker": {
             "colorbar": {
              "outlinewidth": 0,
              "ticks": ""
             }
            },
            "type": "scattermapbox"
           }
          ],
          "scatterpolar": [
           {
            "marker": {
             "colorbar": {
              "outlinewidth": 0,
              "ticks": ""
             }
            },
            "type": "scatterpolar"
           }
          ],
          "scatterpolargl": [
           {
            "marker": {
             "colorbar": {
              "outlinewidth": 0,
              "ticks": ""
             }
            },
            "type": "scatterpolargl"
           }
          ],
          "scatterternary": [
           {
            "marker": {
             "colorbar": {
              "outlinewidth": 0,
              "ticks": ""
             }
            },
            "type": "scatterternary"
           }
          ],
          "surface": [
           {
            "colorbar": {
             "outlinewidth": 0,
             "ticks": ""
            },
            "colorscale": [
             [
              0,
              "#0d0887"
             ],
             [
              0.1111111111111111,
              "#46039f"
             ],
             [
              0.2222222222222222,
              "#7201a8"
             ],
             [
              0.3333333333333333,
              "#9c179e"
             ],
             [
              0.4444444444444444,
              "#bd3786"
             ],
             [
              0.5555555555555556,
              "#d8576b"
             ],
             [
              0.6666666666666666,
              "#ed7953"
             ],
             [
              0.7777777777777778,
              "#fb9f3a"
             ],
             [
              0.8888888888888888,
              "#fdca26"
             ],
             [
              1,
              "#f0f921"
             ]
            ],
            "type": "surface"
           }
          ],
          "table": [
           {
            "cells": {
             "fill": {
              "color": "#EBF0F8"
             },
             "line": {
              "color": "white"
             }
            },
            "header": {
             "fill": {
              "color": "#C8D4E3"
             },
             "line": {
              "color": "white"
             }
            },
            "type": "table"
           }
          ]
         },
         "layout": {
          "annotationdefaults": {
           "arrowcolor": "#2a3f5f",
           "arrowhead": 0,
           "arrowwidth": 1
          },
          "autotypenumbers": "strict",
          "coloraxis": {
           "colorbar": {
            "outlinewidth": 0,
            "ticks": ""
           }
          },
          "colorscale": {
           "diverging": [
            [
             0,
             "#8e0152"
            ],
            [
             0.1,
             "#c51b7d"
            ],
            [
             0.2,
             "#de77ae"
            ],
            [
             0.3,
             "#f1b6da"
            ],
            [
             0.4,
             "#fde0ef"
            ],
            [
             0.5,
             "#f7f7f7"
            ],
            [
             0.6,
             "#e6f5d0"
            ],
            [
             0.7,
             "#b8e186"
            ],
            [
             0.8,
             "#7fbc41"
            ],
            [
             0.9,
             "#4d9221"
            ],
            [
             1,
             "#276419"
            ]
           ],
           "sequential": [
            [
             0,
             "#0d0887"
            ],
            [
             0.1111111111111111,
             "#46039f"
            ],
            [
             0.2222222222222222,
             "#7201a8"
            ],
            [
             0.3333333333333333,
             "#9c179e"
            ],
            [
             0.4444444444444444,
             "#bd3786"
            ],
            [
             0.5555555555555556,
             "#d8576b"
            ],
            [
             0.6666666666666666,
             "#ed7953"
            ],
            [
             0.7777777777777778,
             "#fb9f3a"
            ],
            [
             0.8888888888888888,
             "#fdca26"
            ],
            [
             1,
             "#f0f921"
            ]
           ],
           "sequentialminus": [
            [
             0,
             "#0d0887"
            ],
            [
             0.1111111111111111,
             "#46039f"
            ],
            [
             0.2222222222222222,
             "#7201a8"
            ],
            [
             0.3333333333333333,
             "#9c179e"
            ],
            [
             0.4444444444444444,
             "#bd3786"
            ],
            [
             0.5555555555555556,
             "#d8576b"
            ],
            [
             0.6666666666666666,
             "#ed7953"
            ],
            [
             0.7777777777777778,
             "#fb9f3a"
            ],
            [
             0.8888888888888888,
             "#fdca26"
            ],
            [
             1,
             "#f0f921"
            ]
           ]
          },
          "colorway": [
           "#636efa",
           "#EF553B",
           "#00cc96",
           "#ab63fa",
           "#FFA15A",
           "#19d3f3",
           "#FF6692",
           "#B6E880",
           "#FF97FF",
           "#FECB52"
          ],
          "font": {
           "color": "#2a3f5f"
          },
          "geo": {
           "bgcolor": "white",
           "lakecolor": "white",
           "landcolor": "#E5ECF6",
           "showlakes": true,
           "showland": true,
           "subunitcolor": "white"
          },
          "hoverlabel": {
           "align": "left"
          },
          "hovermode": "closest",
          "mapbox": {
           "style": "light"
          },
          "paper_bgcolor": "white",
          "plot_bgcolor": "#E5ECF6",
          "polar": {
           "angularaxis": {
            "gridcolor": "white",
            "linecolor": "white",
            "ticks": ""
           },
           "bgcolor": "#E5ECF6",
           "radialaxis": {
            "gridcolor": "white",
            "linecolor": "white",
            "ticks": ""
           }
          },
          "scene": {
           "xaxis": {
            "backgroundcolor": "#E5ECF6",
            "gridcolor": "white",
            "gridwidth": 2,
            "linecolor": "white",
            "showbackground": true,
            "ticks": "",
            "zerolinecolor": "white"
           },
           "yaxis": {
            "backgroundcolor": "#E5ECF6",
            "gridcolor": "white",
            "gridwidth": 2,
            "linecolor": "white",
            "showbackground": true,
            "ticks": "",
            "zerolinecolor": "white"
           },
           "zaxis": {
            "backgroundcolor": "#E5ECF6",
            "gridcolor": "white",
            "gridwidth": 2,
            "linecolor": "white",
            "showbackground": true,
            "ticks": "",
            "zerolinecolor": "white"
           }
          },
          "shapedefaults": {
           "line": {
            "color": "#2a3f5f"
           }
          },
          "ternary": {
           "aaxis": {
            "gridcolor": "white",
            "linecolor": "white",
            "ticks": ""
           },
           "baxis": {
            "gridcolor": "white",
            "linecolor": "white",
            "ticks": ""
           },
           "bgcolor": "#E5ECF6",
           "caxis": {
            "gridcolor": "white",
            "linecolor": "white",
            "ticks": ""
           }
          },
          "title": {
           "x": 0.05
          },
          "xaxis": {
           "automargin": true,
           "gridcolor": "white",
           "linecolor": "white",
           "ticks": "",
           "title": {
            "standoff": 15
           },
           "zerolinecolor": "white",
           "zerolinewidth": 2
          },
          "yaxis": {
           "automargin": true,
           "gridcolor": "white",
           "linecolor": "white",
           "ticks": "",
           "title": {
            "standoff": 15
           },
           "zerolinecolor": "white",
           "zerolinewidth": 2
          }
         }
        },
        "title": {
         "text": "Classification Report Heatmap"
        },
        "xaxis": {
         "title": {
          "text": "Metrics"
         }
        },
        "yaxis": {
         "title": {
          "text": "Document Types"
         }
        }
       }
      }
     },
     "metadata": {},
     "output_type": "display_data"
    }
   ],
   "source": [
    "from src.evaluations import ml\n",
    "import numpy as np\n",
    "\n",
    "labels = np.array(\n",
    "    [\n",
    "        \"letter\",\n",
    "        \"form\",\n",
    "        \"email\",\n",
    "        \"handwritten\",\n",
    "        \"advertisement\",\n",
    "        \"scientific report\",\n",
    "        \"scientific publication\",\n",
    "        \"specification\",\n",
    "        \"file folder\",\n",
    "        \"news article\",\n",
    "        \"budget\",\n",
    "        \"invoice\",\n",
    "        \"presentation\",\n",
    "        \"questionnaire\",\n",
    "        \"resume\",\n",
    "        \"memo\",\n",
    "    ]\n",
    ")\n",
    "\n",
    "# Evaluate the model with the simulated data\n",
    "metrics, conf_matrix, class_report = ml.evaluate_model(\n",
    "    y_true, y_pred, labels, show_visualization=True\n",
    ")"
   ]
  },
  {
   "cell_type": "markdown",
   "metadata": {},
   "source": [
    "## Image Classification with MaaS (SLM) (Images + Prompt)\n",
    "\n",
    "Utilize the Phi-3 Vision version of MaaS for classification, directly processing images (document scans)."
   ]
  },
  {
   "cell_type": "code",
   "execution_count": 8,
   "metadata": {},
   "outputs": [],
   "source": [
    "from src.paas.phi3 import phi_3_vision_inference"
   ]
  },
  {
   "cell_type": "code",
   "execution_count": 9,
   "metadata": {},
   "outputs": [],
   "source": [
    "CLASSIFICATION_PROMPT = \"\"\"\n",
    "### Task: Document Classification\n",
    "\n",
    "#### Inputs:\n",
    "- **IMAGE**: An image of the document to be classified.\n",
    "\n",
    "#### Instructions:\n",
    "You are required to classify the document based on the provided scanned text. The document should be categorized into the most appropriate category from the list below. If the document does not fit neatly into one category, choose the category that best matches the majority of its characteristics.\n",
    "\n",
    "1. **letter**:\n",
    "    - **Description**: A written or printed message addressed to a specific person or organization.\n",
    "    - **Common Characteristics**:\n",
    "        - Contains salutations and closings.\n",
    "        - Often addressed to a specific person or entity.\n",
    "        - Includes date, sender's and recipient's addresses.\n",
    "\n",
    "2. **form**:\n",
    "    - **Description**: A document with blank fields for the user to fill out with specific information.\n",
    "    - **Common Characteristics**:\n",
    "        - Contains predefined fields and labels.\n",
    "        - Includes spaces for user input.\n",
    "        - Often used for data collection, applications, and surveys.\n",
    "\n",
    "3. **email**:\n",
    "    - **Description**: An electronic message exchanged between people using electronic devices.\n",
    "    - **Common Characteristics**:\n",
    "        - Contains email headers such as \"From\", \"To\", \"Subject\", and \"Date\".\n",
    "        - Includes conversational text.\n",
    "        - May include attachments or references to other documents.\n",
    "\n",
    "4. **handwritten**:\n",
    "    - **Description**: Any document written manually by hand.\n",
    "    - **Common Characteristics**:\n",
    "        - Contains handwritten text.\n",
    "        - May include various writing styles and penmanship.\n",
    "        - Often lacks formal structure.\n",
    "\n",
    "5. **advertisement**:\n",
    "    - **Description**: A public notice promoting a product, service, or event.\n",
    "    - **Common Characteristics**:\n",
    "        - Contains promotional language and visuals.\n",
    "        - Includes information about a product, service, or event.\n",
    "        - Often designed to attract attention.\n",
    "\n",
    "6. **scientific report**:\n",
    "    - **Description**: A detailed account of a scientific study or experiment.\n",
    "    - **Common Characteristics**:\n",
    "        - Includes sections such as introduction, methods, results, and conclusion.\n",
    "        - Contains data, graphs, and references.\n",
    "        - Written in a formal and structured manner.\n",
    "\n",
    "7. **scientific publication**:\n",
    "    - **Description**: An article published in a scientific journal.\n",
    "    - **Common Characteristics**:\n",
    "        - Includes abstract, introduction, methodology, results, and discussion.\n",
    "        - Contains citations and references.\n",
    "        - Peer-reviewed and follows academic standards.\n",
    "\n",
    "8. **specification**:\n",
    "    - **Description**: A detailed description of the requirements, design, or performance of a product or system.\n",
    "    - **Common Characteristics**:\n",
    "        - Includes technical details and standards.\n",
    "        - Structured format with headings and subheadings.\n",
    "        - Often used in engineering and manufacturing.\n",
    "\n",
    "9. **file folder**:\n",
    "    - **Description**: A document that serves as a cover or holder for other documents.\n",
    "    - **Common Characteristics**:\n",
    "        - Contains a label or title indicating the contents.\n",
    "        - Often used for organizing and storing multiple related documents.\n",
    "        - May include a table of contents or summary.\n",
    "\n",
    "10. **news article**:\n",
    "    - **Description**: A written piece reporting on current events or topics of interest.\n",
    "    - **Common Characteristics**:\n",
    "        - Contains headlines and bylines.\n",
    "        - Includes factual reporting and quotes.\n",
    "        - Published in newspapers, magazines, or online platforms.\n",
    "\n",
    "11. **budget**:\n",
    "    - **Description**: A financial plan outlining expected income and expenses.\n",
    "    - **Common Characteristics**:\n",
    "        - Includes numerical data and tables.\n",
    "        - Details various categories of income and expenditure.\n",
    "        - Often used for financial planning and analysis.\n",
    "\n",
    "12. **invoice**:\n",
    "    - **Description**: A commercial document issued by a seller to a buyer, indicating the products, quantities, and agreed prices for products or services.\n",
    "    - **Common Characteristics**:\n",
    "        - Contains the term \"Invoice\".\n",
    "        - Includes seller and buyer information, invoice number, date, and payment terms.\n",
    "        - Lists products or services provided, quantities, unit prices, and total amount due.\n",
    "        - May include tax details and payment instructions.\n",
    "\n",
    "13. **presentation**:\n",
    "    - **Description**: A document used to communicate information visually, often as slides.\n",
    "    - **Common Characteristics**:\n",
    "        - Includes slides with text, images, and graphs.\n",
    "        - Organized in a structured format.\n",
    "        - Often used in meetings and lectures.\n",
    "\n",
    "14. **questionnaire**:\n",
    "    - **Description**: A set of questions designed to gather information from respondents.\n",
    "    - **Common Characteristics**:\n",
    "        - Contains multiple questions.\n",
    "        - May include multiple-choice, open-ended, or scale-based questions.\n",
    "        - Used for surveys and research.\n",
    "\n",
    "15. **resume**:\n",
    "    - **Description**: A document summarizing an individual's education, work experience, and skills.\n",
    "    - **Common Characteristics**:\n",
    "        - Includes sections such as contact information, work experience, education, and skills.\n",
    "        - Written in a concise and structured format.\n",
    "        - Used for job applications.\n",
    "\n",
    "16. **memo**:\n",
    "    - **Description**: A brief written message used for internal communication within an organization.\n",
    "    - **Common Characteristics**:\n",
    "        - Contains a header with the recipient, sender, date, and subject.\n",
    "        - Includes concise information or instructions.\n",
    "        - Often used for announcements and updates.\n",
    "\n",
    "#### Steps to Classify the Document:\n",
    "1. Carefully examine the text provided in markdown format, which includes the OCR output of the scanned document.\n",
    "2. Identify key elements and details within the document that match the descriptions of the categories listed above.\n",
    "3. Select the category that best fits the document based on its content and purpose. If the document seems to fit into more than one category, choose the one that matches the majority of its characteristics.\n",
    "4. Provide the name of the category as a single word (e.g., letter, form, email) based on your analysis of the document content.\n",
    "\n",
    "#### Output:\n",
    "- Return only the chosen category as a plain string without any additional characters. Remember the categories are: \"letter\", \"form\", \"email\", \"handwritten\", \"advertisement\", \"scientific report\", \"scientific publication\", \"specification\", \"file folder\", \"news article\", \"budget\", \"invoice\", \"presentation\", \"questionnaire\", \"resume\", \"memo\" Do not add any additional characters.\n",
    "\"\"\""
   ]
  },
  {
   "cell_type": "code",
   "execution_count": 10,
   "metadata": {},
   "outputs": [
    {
     "name": "stderr",
     "output_type": "stream",
     "text": [
      "2024-08-14 10:37:08,574 - micro - MainProcess - INFO     Processing row 70: Full Path: utils\\data\\scanned\\test\\scientific report\\scientific report_0.png, Document Type: scientific report (3590940605.py:process_row:31)\n"
     ]
    },
    {
     "name": "stderr",
     "output_type": "stream",
     "text": [
      "2024-08-14 10:37:08,582 - micro - MainProcess - INFO     Processing row 71: Full Path: utils\\data\\scanned\\test\\scientific report\\scientific report_1.png, Document Type: scientific report (3590940605.py:process_row:31)\n",
      "2024-08-14 10:37:08,790 - micro - MainProcess - ERROR    Error processing row 70: <urlopen error [Errno 11001] getaddrinfo failed> (3590940605.py:process_row:54)\n",
      "2024-08-14 10:37:08,791 - micro - MainProcess - ERROR    Error processing row 71: <urlopen error [Errno 11001] getaddrinfo failed> (3590940605.py:process_row:54)\n",
      "2024-08-14 10:37:08,793 - micro - MainProcess - INFO     Processing row 72: Full Path: utils\\data\\scanned\\test\\scientific report\\scientific report_2.png, Document Type: scientific report (3590940605.py:process_row:31)\n",
      "2024-08-14 10:37:08,798 - micro - MainProcess - INFO     Processing row 73: Full Path: utils\\data\\scanned\\test\\scientific report\\scientific report_3.png, Document Type: scientific report (3590940605.py:process_row:31)\n",
      "2024-08-14 10:37:08,807 - micro - MainProcess - ERROR    Error processing row 72: <urlopen error [Errno 11001] getaddrinfo failed> (3590940605.py:process_row:54)\n",
      "2024-08-14 10:37:08,812 - micro - MainProcess - ERROR    Error processing row 73: <urlopen error [Errno 11001] getaddrinfo failed> (3590940605.py:process_row:54)\n",
      "2024-08-14 10:37:08,813 - micro - MainProcess - INFO     Processing row 74: Full Path: utils\\data\\scanned\\test\\scientific report\\scientific report_4.png, Document Type: scientific report (3590940605.py:process_row:31)\n",
      "2024-08-14 10:37:08,817 - micro - MainProcess - INFO     Processing row 75: Full Path: utils\\data\\scanned\\test\\scientific report\\scientific report_5.png, Document Type: scientific report (3590940605.py:process_row:31)\n",
      "2024-08-14 10:37:08,830 - micro - MainProcess - ERROR    Error processing row 74: <urlopen error [Errno 11001] getaddrinfo failed> (3590940605.py:process_row:54)\n",
      "2024-08-14 10:37:08,838 - micro - MainProcess - INFO     Processing row 76: Full Path: utils\\data\\scanned\\test\\scientific report\\scientific report_6.png, Document Type: scientific report (3590940605.py:process_row:31)\n",
      "2024-08-14 10:37:08,852 - micro - MainProcess - ERROR    Error processing row 75: <urlopen error [Errno 11001] getaddrinfo failed> (3590940605.py:process_row:54)\n",
      "2024-08-14 10:37:08,854 - micro - MainProcess - INFO     Processing row 77: Full Path: utils\\data\\scanned\\test\\scientific report\\scientific report_7.png, Document Type: scientific report (3590940605.py:process_row:31)\n",
      "2024-08-14 10:37:08,862 - micro - MainProcess - ERROR    Error processing row 76: <urlopen error [Errno 11001] getaddrinfo failed> (3590940605.py:process_row:54)\n",
      "2024-08-14 10:37:08,866 - micro - MainProcess - INFO     Processing row 78: Full Path: utils\\data\\scanned\\test\\scientific report\\scientific report_8.png, Document Type: scientific report (3590940605.py:process_row:31)\n",
      "2024-08-14 10:37:08,878 - micro - MainProcess - ERROR    Error processing row 77: <urlopen error [Errno 11001] getaddrinfo failed> (3590940605.py:process_row:54)\n",
      "2024-08-14 10:37:08,883 - micro - MainProcess - ERROR    Error processing row 78: <urlopen error [Errno 11001] getaddrinfo failed> (3590940605.py:process_row:54)\n",
      "2024-08-14 10:37:08,885 - micro - MainProcess - INFO     Processing row 79: Full Path: utils\\data\\scanned\\test\\scientific report\\scientific report_9.png, Document Type: scientific report (3590940605.py:process_row:31)\n",
      "2024-08-14 10:37:08,888 - micro - MainProcess - INFO     Processing row 80: Full Path: utils\\data\\scanned\\test\\scientific report\\scientific report_10.png, Document Type: scientific report (3590940605.py:process_row:31)\n",
      "2024-08-14 10:37:08,900 - micro - MainProcess - ERROR    Error processing row 79: <urlopen error [Errno 11001] getaddrinfo failed> (3590940605.py:process_row:54)\n",
      "2024-08-14 10:37:08,905 - micro - MainProcess - INFO     Processing row 81: Full Path: utils\\data\\scanned\\test\\scientific report\\scientific report_11.png, Document Type: scientific report (3590940605.py:process_row:31)\n",
      "2024-08-14 10:37:08,907 - micro - MainProcess - ERROR    Error processing row 80: <urlopen error [Errno 11001] getaddrinfo failed> (3590940605.py:process_row:54)\n",
      "2024-08-14 10:37:08,914 - micro - MainProcess - INFO     Processing row 82: Full Path: utils\\data\\scanned\\test\\scientific report\\scientific report_12.png, Document Type: scientific report (3590940605.py:process_row:31)\n",
      "2024-08-14 10:37:08,918 - micro - MainProcess - ERROR    Error processing row 81: <urlopen error [Errno 11001] getaddrinfo failed> (3590940605.py:process_row:54)\n",
      "2024-08-14 10:37:08,922 - micro - MainProcess - INFO     Processing row 83: Full Path: utils\\data\\scanned\\test\\scientific report\\scientific report_13.png, Document Type: scientific report (3590940605.py:process_row:31)\n",
      "2024-08-14 10:37:08,927 - micro - MainProcess - ERROR    Error processing row 82: <urlopen error [Errno 11001] getaddrinfo failed> (3590940605.py:process_row:54)\n",
      "2024-08-14 10:37:08,930 - micro - MainProcess - INFO     Processing row 84: Full Path: utils\\data\\scanned\\test\\scientific report\\scientific report_14.png, Document Type: scientific report (3590940605.py:process_row:31)\n",
      "2024-08-14 10:37:08,934 - micro - MainProcess - ERROR    Error processing row 83: <urlopen error [Errno 11001] getaddrinfo failed> (3590940605.py:process_row:54)\n",
      "2024-08-14 10:37:08,937 - micro - MainProcess - INFO     Processing row 85: Full Path: utils\\data\\scanned\\test\\scientific report\\scientific report_15.png, Document Type: scientific report (3590940605.py:process_row:31)\n",
      "2024-08-14 10:37:08,945 - micro - MainProcess - ERROR    Error processing row 84: <urlopen error [Errno 11001] getaddrinfo failed> (3590940605.py:process_row:54)\n",
      "2024-08-14 10:37:08,951 - micro - MainProcess - INFO     Processing row 86: Full Path: utils\\data\\scanned\\test\\scientific report\\scientific report_16.png, Document Type: scientific report (3590940605.py:process_row:31)\n",
      "2024-08-14 10:37:08,953 - micro - MainProcess - ERROR    Error processing row 85: <urlopen error [Errno 11001] getaddrinfo failed> (3590940605.py:process_row:54)\n",
      "2024-08-14 10:37:08,959 - micro - MainProcess - INFO     Processing row 87: Full Path: utils\\data\\scanned\\test\\scientific report\\scientific report_17.png, Document Type: scientific report (3590940605.py:process_row:31)\n",
      "2024-08-14 10:37:08,964 - micro - MainProcess - ERROR    Error processing row 86: <urlopen error [Errno 11001] getaddrinfo failed> (3590940605.py:process_row:54)\n",
      "2024-08-14 10:37:08,967 - micro - MainProcess - INFO     Processing row 88: Full Path: utils\\data\\scanned\\test\\scientific report\\scientific report_18.png, Document Type: scientific report (3590940605.py:process_row:31)\n",
      "2024-08-14 10:37:08,976 - micro - MainProcess - ERROR    Error processing row 87: <urlopen error [Errno 11001] getaddrinfo failed> (3590940605.py:process_row:54)\n",
      "2024-08-14 10:37:08,978 - micro - MainProcess - ERROR    Error processing row 88: <urlopen error [Errno 11001] getaddrinfo failed> (3590940605.py:process_row:54)\n",
      "2024-08-14 10:37:08,984 - micro - MainProcess - INFO     Processing row 90: Full Path: utils\\data\\scanned\\test\\scientific report\\scientific report_20.png, Document Type: scientific report (3590940605.py:process_row:31)\n",
      "2024-08-14 10:37:08,979 - micro - MainProcess - INFO     Processing row 89: Full Path: utils\\data\\scanned\\test\\scientific report\\scientific report_19.png, Document Type: scientific report (3590940605.py:process_row:31)\n",
      "2024-08-14 10:37:09,022 - micro - MainProcess - ERROR    Error processing row 90: <urlopen error [Errno 11001] getaddrinfo failed> (3590940605.py:process_row:54)\n",
      "2024-08-14 10:37:09,048 - micro - MainProcess - INFO     Processing row 91: Full Path: utils\\data\\scanned\\test\\scientific report\\scientific report_21.png, Document Type: scientific report (3590940605.py:process_row:31)\n",
      "2024-08-14 10:37:09,046 - micro - MainProcess - ERROR    Error processing row 89: <urlopen error [Errno 11001] getaddrinfo failed> (3590940605.py:process_row:54)\n",
      "2024-08-14 10:37:09,071 - micro - MainProcess - INFO     Processing row 92: Full Path: utils\\data\\scanned\\test\\scientific report\\scientific report_22.png, Document Type: scientific report (3590940605.py:process_row:31)\n",
      "2024-08-14 10:37:09,089 - micro - MainProcess - ERROR    Error processing row 91: <urlopen error [Errno 11001] getaddrinfo failed> (3590940605.py:process_row:54)\n",
      "2024-08-14 10:37:09,092 - micro - MainProcess - INFO     Processing row 93: Full Path: utils\\data\\scanned\\test\\scientific report\\scientific report_23.png, Document Type: scientific report (3590940605.py:process_row:31)\n",
      "2024-08-14 10:37:09,110 - micro - MainProcess - ERROR    Error processing row 92: <urlopen error [Errno 11001] getaddrinfo failed> (3590940605.py:process_row:54)\n",
      "2024-08-14 10:37:09,114 - micro - MainProcess - INFO     Processing row 94: Full Path: utils\\data\\scanned\\test\\scientific report\\scientific report_24.png, Document Type: scientific report (3590940605.py:process_row:31)\n",
      "2024-08-14 10:37:09,112 - micro - MainProcess - ERROR    Error processing row 93: <urlopen error [Errno 11001] getaddrinfo failed> (3590940605.py:process_row:54)\n",
      "2024-08-14 10:37:09,124 - micro - MainProcess - INFO     Processing row 95: Full Path: utils\\data\\scanned\\test\\scientific report\\scientific report_25.png, Document Type: scientific report (3590940605.py:process_row:31)\n",
      "2024-08-14 10:37:09,139 - micro - MainProcess - ERROR    Error processing row 94: <urlopen error [Errno 11001] getaddrinfo failed> (3590940605.py:process_row:54)\n",
      "2024-08-14 10:37:09,149 - micro - MainProcess - INFO     Processing row 96: Full Path: utils\\data\\scanned\\test\\scientific report\\scientific report_26.png, Document Type: scientific report (3590940605.py:process_row:31)\n",
      "2024-08-14 10:37:09,157 - micro - MainProcess - ERROR    Error processing row 95: <urlopen error [Errno 11001] getaddrinfo failed> (3590940605.py:process_row:54)\n",
      "2024-08-14 10:37:09,162 - micro - MainProcess - INFO     Processing row 97: Full Path: utils\\data\\scanned\\test\\scientific report\\scientific report_27.png, Document Type: scientific report (3590940605.py:process_row:31)\n",
      "2024-08-14 10:37:09,175 - micro - MainProcess - ERROR    Error processing row 96: <urlopen error [Errno 11001] getaddrinfo failed> (3590940605.py:process_row:54)\n",
      "2024-08-14 10:37:09,179 - micro - MainProcess - INFO     Processing row 98: Full Path: utils\\data\\scanned\\test\\scientific report\\scientific report_28.png, Document Type: scientific report (3590940605.py:process_row:31)\n",
      "2024-08-14 10:37:09,185 - micro - MainProcess - ERROR    Error processing row 97: <urlopen error [Errno 11001] getaddrinfo failed> (3590940605.py:process_row:54)\n",
      "2024-08-14 10:37:09,189 - micro - MainProcess - INFO     Processing row 99: Full Path: utils\\data\\scanned\\test\\scientific report\\scientific report_29.png, Document Type: scientific report (3590940605.py:process_row:31)\n",
      "2024-08-14 10:37:09,200 - micro - MainProcess - ERROR    Error processing row 98: <urlopen error [Errno 11001] getaddrinfo failed> (3590940605.py:process_row:54)\n",
      "2024-08-14 10:37:09,206 - micro - MainProcess - INFO     Processing row 170: Full Path: utils\\data\\scanned\\test\\form\\form_0.png, Document Type: form (3590940605.py:process_row:31)\n",
      "2024-08-14 10:37:09,206 - micro - MainProcess - ERROR    Error processing row 99: <urlopen error [Errno 11001] getaddrinfo failed> (3590940605.py:process_row:54)\n",
      "2024-08-14 10:37:09,218 - micro - MainProcess - INFO     Processing row 171: Full Path: utils\\data\\scanned\\test\\form\\form_1.png, Document Type: form (3590940605.py:process_row:31)\n",
      "2024-08-14 10:37:09,237 - micro - MainProcess - ERROR    Error processing row 170: <urlopen error [Errno 11001] getaddrinfo failed> (3590940605.py:process_row:54)\n",
      "2024-08-14 10:37:09,243 - micro - MainProcess - INFO     Processing row 172: Full Path: utils\\data\\scanned\\test\\form\\form_2.png, Document Type: form (3590940605.py:process_row:31)\n",
      "2024-08-14 10:37:09,252 - micro - MainProcess - ERROR    Error processing row 171: <urlopen error [Errno 11001] getaddrinfo failed> (3590940605.py:process_row:54)\n",
      "2024-08-14 10:37:09,254 - micro - MainProcess - INFO     Processing row 173: Full Path: utils\\data\\scanned\\test\\form\\form_3.png, Document Type: form (3590940605.py:process_row:31)\n",
      "2024-08-14 10:37:09,265 - micro - MainProcess - ERROR    Error processing row 172: <urlopen error [Errno 11001] getaddrinfo failed> (3590940605.py:process_row:54)\n",
      "2024-08-14 10:37:09,270 - micro - MainProcess - INFO     Processing row 174: Full Path: utils\\data\\scanned\\test\\form\\form_4.png, Document Type: form (3590940605.py:process_row:31)\n",
      "2024-08-14 10:37:09,270 - micro - MainProcess - ERROR    Error processing row 173: <urlopen error [Errno 11001] getaddrinfo failed> (3590940605.py:process_row:54)\n",
      "2024-08-14 10:37:09,278 - micro - MainProcess - INFO     Processing row 175: Full Path: utils\\data\\scanned\\test\\form\\form_5.png, Document Type: form (3590940605.py:process_row:31)\n",
      "2024-08-14 10:37:09,284 - micro - MainProcess - ERROR    Error processing row 174: <urlopen error [Errno 11001] getaddrinfo failed> (3590940605.py:process_row:54)\n",
      "2024-08-14 10:37:09,288 - micro - MainProcess - INFO     Processing row 176: Full Path: utils\\data\\scanned\\test\\form\\form_6.png, Document Type: form (3590940605.py:process_row:31)\n",
      "2024-08-14 10:37:09,300 - micro - MainProcess - ERROR    Error processing row 175: <urlopen error [Errno 11001] getaddrinfo failed> (3590940605.py:process_row:54)\n",
      "2024-08-14 10:37:09,302 - micro - MainProcess - INFO     Processing row 177: Full Path: utils\\data\\scanned\\test\\form\\form_7.png, Document Type: form (3590940605.py:process_row:31)\n",
      "2024-08-14 10:37:09,302 - micro - MainProcess - ERROR    Error processing row 176: <urlopen error [Errno 11001] getaddrinfo failed> (3590940605.py:process_row:54)\n",
      "2024-08-14 10:37:09,308 - micro - MainProcess - INFO     Processing row 178: Full Path: utils\\data\\scanned\\test\\form\\form_8.png, Document Type: form (3590940605.py:process_row:31)\n",
      "2024-08-14 10:37:09,316 - micro - MainProcess - ERROR    Error processing row 177: <urlopen error [Errno 11001] getaddrinfo failed> (3590940605.py:process_row:54)\n",
      "2024-08-14 10:37:09,319 - micro - MainProcess - INFO     Processing row 179: Full Path: utils\\data\\scanned\\test\\form\\form_9.png, Document Type: form (3590940605.py:process_row:31)\n",
      "2024-08-14 10:37:09,327 - micro - MainProcess - ERROR    Error processing row 178: <urlopen error [Errno 11001] getaddrinfo failed> (3590940605.py:process_row:54)\n",
      "2024-08-14 10:37:09,330 - micro - MainProcess - INFO     Processing row 180: Full Path: utils\\data\\scanned\\test\\form\\form_10.png, Document Type: form (3590940605.py:process_row:31)\n",
      "2024-08-14 10:37:09,334 - micro - MainProcess - ERROR    Error processing row 179: <urlopen error [Errno 11001] getaddrinfo failed> (3590940605.py:process_row:54)\n",
      "2024-08-14 10:37:09,338 - micro - MainProcess - INFO     Processing row 181: Full Path: utils\\data\\scanned\\test\\form\\form_11.png, Document Type: form (3590940605.py:process_row:31)\n",
      "2024-08-14 10:37:09,344 - micro - MainProcess - ERROR    Error processing row 180: <urlopen error [Errno 11001] getaddrinfo failed> (3590940605.py:process_row:54)\n",
      "2024-08-14 10:37:09,349 - micro - MainProcess - INFO     Processing row 182: Full Path: utils\\data\\scanned\\test\\form\\form_12.png, Document Type: form (3590940605.py:process_row:31)\n",
      "2024-08-14 10:37:09,361 - micro - MainProcess - ERROR    Error processing row 181: <urlopen error [Errno 11001] getaddrinfo failed> (3590940605.py:process_row:54)\n",
      "2024-08-14 10:37:09,364 - micro - MainProcess - INFO     Processing row 183: Full Path: utils\\data\\scanned\\test\\form\\form_13.png, Document Type: form (3590940605.py:process_row:31)\n",
      "2024-08-14 10:37:09,365 - micro - MainProcess - ERROR    Error processing row 182: <urlopen error [Errno 11001] getaddrinfo failed> (3590940605.py:process_row:54)\n",
      "2024-08-14 10:37:09,371 - micro - MainProcess - INFO     Processing row 184: Full Path: utils\\data\\scanned\\test\\form\\form_14.png, Document Type: form (3590940605.py:process_row:31)\n",
      "2024-08-14 10:37:09,378 - micro - MainProcess - ERROR    Error processing row 183: <urlopen error [Errno 11001] getaddrinfo failed> (3590940605.py:process_row:54)\n",
      "2024-08-14 10:37:09,382 - micro - MainProcess - INFO     Processing row 185: Full Path: utils\\data\\scanned\\test\\form\\form_15.png, Document Type: form (3590940605.py:process_row:31)\n",
      "2024-08-14 10:37:09,389 - micro - MainProcess - ERROR    Error processing row 184: <urlopen error [Errno 11001] getaddrinfo failed> (3590940605.py:process_row:54)\n",
      "2024-08-14 10:37:09,393 - micro - MainProcess - INFO     Processing row 186: Full Path: utils\\data\\scanned\\test\\form\\form_16.png, Document Type: form (3590940605.py:process_row:31)\n",
      "2024-08-14 10:37:09,399 - micro - MainProcess - ERROR    Error processing row 185: <urlopen error [Errno 11001] getaddrinfo failed> (3590940605.py:process_row:54)\n",
      "2024-08-14 10:37:09,405 - micro - MainProcess - INFO     Processing row 187: Full Path: utils\\data\\scanned\\test\\form\\form_17.png, Document Type: form (3590940605.py:process_row:31)\n",
      "2024-08-14 10:37:09,410 - micro - MainProcess - ERROR    Error processing row 186: <urlopen error [Errno 11001] getaddrinfo failed> (3590940605.py:process_row:54)\n",
      "2024-08-14 10:37:09,413 - micro - MainProcess - INFO     Processing row 188: Full Path: utils\\data\\scanned\\test\\form\\form_18.png, Document Type: form (3590940605.py:process_row:31)\n",
      "2024-08-14 10:37:09,420 - micro - MainProcess - ERROR    Error processing row 187: <urlopen error [Errno 11001] getaddrinfo failed> (3590940605.py:process_row:54)\n",
      "2024-08-14 10:37:09,425 - micro - MainProcess - INFO     Processing row 189: Full Path: utils\\data\\scanned\\test\\form\\form_19.png, Document Type: form (3590940605.py:process_row:31)\n",
      "2024-08-14 10:37:09,425 - micro - MainProcess - ERROR    Error processing row 188: <urlopen error [Errno 11001] getaddrinfo failed> (3590940605.py:process_row:54)\n",
      "2024-08-14 10:37:09,431 - micro - MainProcess - INFO     Processing row 190: Full Path: utils\\data\\scanned\\test\\form\\form_20.png, Document Type: form (3590940605.py:process_row:31)\n",
      "2024-08-14 10:37:09,438 - micro - MainProcess - ERROR    Error processing row 189: <urlopen error [Errno 11001] getaddrinfo failed> (3590940605.py:process_row:54)\n",
      "2024-08-14 10:37:09,442 - micro - MainProcess - INFO     Processing row 191: Full Path: utils\\data\\scanned\\test\\form\\form_21.png, Document Type: form (3590940605.py:process_row:31)\n",
      "2024-08-14 10:37:09,444 - micro - MainProcess - ERROR    Error processing row 190: <urlopen error [Errno 11001] getaddrinfo failed> (3590940605.py:process_row:54)\n",
      "2024-08-14 10:37:09,450 - micro - MainProcess - INFO     Processing row 192: Full Path: utils\\data\\scanned\\test\\form\\form_22.png, Document Type: form (3590940605.py:process_row:31)\n",
      "2024-08-14 10:37:09,456 - micro - MainProcess - ERROR    Error processing row 191: <urlopen error [Errno 11001] getaddrinfo failed> (3590940605.py:process_row:54)\n",
      "2024-08-14 10:37:09,459 - micro - MainProcess - INFO     Processing row 193: Full Path: utils\\data\\scanned\\test\\form\\form_23.png, Document Type: form (3590940605.py:process_row:31)\n",
      "2024-08-14 10:37:09,461 - micro - MainProcess - ERROR    Error processing row 192: <urlopen error [Errno 11001] getaddrinfo failed> (3590940605.py:process_row:54)\n",
      "2024-08-14 10:37:09,465 - micro - MainProcess - INFO     Processing row 194: Full Path: utils\\data\\scanned\\test\\form\\form_24.png, Document Type: form (3590940605.py:process_row:31)\n",
      "2024-08-14 10:37:09,479 - micro - MainProcess - ERROR    Error processing row 193: <urlopen error [Errno 11001] getaddrinfo failed> (3590940605.py:process_row:54)\n",
      "2024-08-14 10:37:09,479 - micro - MainProcess - ERROR    Error processing row 194: <urlopen error [Errno 11001] getaddrinfo failed> (3590940605.py:process_row:54)\n",
      "2024-08-14 10:37:09,482 - micro - MainProcess - INFO     Processing row 195: Full Path: utils\\data\\scanned\\test\\form\\form_25.png, Document Type: form (3590940605.py:process_row:31)\n",
      "2024-08-14 10:37:09,485 - micro - MainProcess - INFO     Processing row 196: Full Path: utils\\data\\scanned\\test\\form\\form_26.png, Document Type: form (3590940605.py:process_row:31)\n",
      "2024-08-14 10:37:09,495 - micro - MainProcess - ERROR    Error processing row 195: <urlopen error [Errno 11001] getaddrinfo failed> (3590940605.py:process_row:54)\n",
      "2024-08-14 10:37:09,498 - micro - MainProcess - INFO     Processing row 197: Full Path: utils\\data\\scanned\\test\\form\\form_27.png, Document Type: form (3590940605.py:process_row:31)\n",
      "2024-08-14 10:37:09,500 - micro - MainProcess - ERROR    Error processing row 196: <urlopen error [Errno 11001] getaddrinfo failed> (3590940605.py:process_row:54)\n",
      "2024-08-14 10:37:09,505 - micro - MainProcess - INFO     Processing row 198: Full Path: utils\\data\\scanned\\test\\form\\form_28.png, Document Type: form (3590940605.py:process_row:31)\n",
      "2024-08-14 10:37:09,513 - micro - MainProcess - ERROR    Error processing row 197: <urlopen error [Errno 11001] getaddrinfo failed> (3590940605.py:process_row:54)\n",
      "2024-08-14 10:37:09,516 - micro - MainProcess - INFO     Processing row 199: Full Path: utils\\data\\scanned\\test\\form\\form_29.png, Document Type: form (3590940605.py:process_row:31)\n",
      "2024-08-14 10:37:09,521 - micro - MainProcess - ERROR    Error processing row 198: <urlopen error [Errno 11001] getaddrinfo failed> (3590940605.py:process_row:54)\n",
      "2024-08-14 10:37:09,524 - micro - MainProcess - INFO     Processing row 270: Full Path: utils\\data\\scanned\\test\\resume\\resume_0.png, Document Type: resume (3590940605.py:process_row:31)\n",
      "2024-08-14 10:37:09,531 - micro - MainProcess - ERROR    Error processing row 199: <urlopen error [Errno 11001] getaddrinfo failed> (3590940605.py:process_row:54)\n",
      "2024-08-14 10:37:09,534 - micro - MainProcess - INFO     Processing row 271: Full Path: utils\\data\\scanned\\test\\resume\\resume_1.png, Document Type: resume (3590940605.py:process_row:31)\n",
      "2024-08-14 10:37:09,542 - micro - MainProcess - ERROR    Error processing row 270: <urlopen error [Errno 11001] getaddrinfo failed> (3590940605.py:process_row:54)\n",
      "2024-08-14 10:37:09,544 - micro - MainProcess - INFO     Processing row 272: Full Path: utils\\data\\scanned\\test\\resume\\resume_2.png, Document Type: resume (3590940605.py:process_row:31)\n",
      "2024-08-14 10:37:09,551 - micro - MainProcess - ERROR    Error processing row 271: <urlopen error [Errno 11001] getaddrinfo failed> (3590940605.py:process_row:54)\n",
      "2024-08-14 10:37:09,553 - micro - MainProcess - INFO     Processing row 273: Full Path: utils\\data\\scanned\\test\\resume\\resume_3.png, Document Type: resume (3590940605.py:process_row:31)\n",
      "2024-08-14 10:37:09,562 - micro - MainProcess - ERROR    Error processing row 272: <urlopen error [Errno 11001] getaddrinfo failed> (3590940605.py:process_row:54)\n",
      "2024-08-14 10:37:09,565 - micro - MainProcess - ERROR    Error processing row 273: <urlopen error [Errno 11001] getaddrinfo failed> (3590940605.py:process_row:54)\n",
      "2024-08-14 10:37:09,567 - micro - MainProcess - INFO     Processing row 274: Full Path: utils\\data\\scanned\\test\\resume\\resume_4.png, Document Type: resume (3590940605.py:process_row:31)\n",
      "2024-08-14 10:37:09,571 - micro - MainProcess - INFO     Processing row 275: Full Path: utils\\data\\scanned\\test\\resume\\resume_5.png, Document Type: resume (3590940605.py:process_row:31)\n",
      "2024-08-14 10:37:09,580 - micro - MainProcess - ERROR    Error processing row 274: <urlopen error [Errno 11001] getaddrinfo failed> (3590940605.py:process_row:54)\n",
      "2024-08-14 10:37:09,586 - micro - MainProcess - ERROR    Error processing row 275: <urlopen error [Errno 11001] getaddrinfo failed> (3590940605.py:process_row:54)\n",
      "2024-08-14 10:37:09,586 - micro - MainProcess - INFO     Processing row 276: Full Path: utils\\data\\scanned\\test\\resume\\resume_6.png, Document Type: resume (3590940605.py:process_row:31)\n",
      "2024-08-14 10:37:09,589 - micro - MainProcess - INFO     Processing row 277: Full Path: utils\\data\\scanned\\test\\resume\\resume_7.png, Document Type: resume (3590940605.py:process_row:31)\n",
      "2024-08-14 10:37:09,600 - micro - MainProcess - ERROR    Error processing row 276: <urlopen error [Errno 11001] getaddrinfo failed> (3590940605.py:process_row:54)\n",
      "2024-08-14 10:37:09,603 - micro - MainProcess - ERROR    Error processing row 277: <urlopen error [Errno 11001] getaddrinfo failed> (3590940605.py:process_row:54)\n",
      "2024-08-14 10:37:09,604 - micro - MainProcess - INFO     Processing row 278: Full Path: utils\\data\\scanned\\test\\resume\\resume_8.png, Document Type: resume (3590940605.py:process_row:31)\n",
      "2024-08-14 10:37:09,607 - micro - MainProcess - INFO     Processing row 279: Full Path: utils\\data\\scanned\\test\\resume\\resume_9.png, Document Type: resume (3590940605.py:process_row:31)\n",
      "2024-08-14 10:37:09,620 - micro - MainProcess - ERROR    Error processing row 278: <urlopen error [Errno 11001] getaddrinfo failed> (3590940605.py:process_row:54)\n",
      "2024-08-14 10:37:09,622 - micro - MainProcess - ERROR    Error processing row 279: <urlopen error [Errno 11001] getaddrinfo failed> (3590940605.py:process_row:54)\n",
      "2024-08-14 10:37:09,623 - micro - MainProcess - INFO     Processing row 280: Full Path: utils\\data\\scanned\\test\\resume\\resume_10.png, Document Type: resume (3590940605.py:process_row:31)\n",
      "2024-08-14 10:37:09,626 - micro - MainProcess - INFO     Processing row 281: Full Path: utils\\data\\scanned\\test\\resume\\resume_11.png, Document Type: resume (3590940605.py:process_row:31)\n",
      "2024-08-14 10:37:09,639 - micro - MainProcess - ERROR    Error processing row 280: <urlopen error [Errno 11001] getaddrinfo failed> (3590940605.py:process_row:54)\n",
      "2024-08-14 10:37:09,643 - micro - MainProcess - ERROR    Error processing row 281: <urlopen error [Errno 11001] getaddrinfo failed> (3590940605.py:process_row:54)\n",
      "2024-08-14 10:37:09,644 - micro - MainProcess - INFO     Processing row 282: Full Path: utils\\data\\scanned\\test\\resume\\resume_12.png, Document Type: resume (3590940605.py:process_row:31)\n",
      "2024-08-14 10:37:09,647 - micro - MainProcess - INFO     Processing row 283: Full Path: utils\\data\\scanned\\test\\resume\\resume_13.png, Document Type: resume (3590940605.py:process_row:31)\n",
      "2024-08-14 10:37:09,664 - micro - MainProcess - ERROR    Error processing row 282: <urlopen error [Errno 11001] getaddrinfo failed> (3590940605.py:process_row:54)\n",
      "2024-08-14 10:37:09,667 - micro - MainProcess - ERROR    Error processing row 283: <urlopen error [Errno 11001] getaddrinfo failed> (3590940605.py:process_row:54)\n",
      "2024-08-14 10:37:09,668 - micro - MainProcess - INFO     Processing row 284: Full Path: utils\\data\\scanned\\test\\resume\\resume_14.png, Document Type: resume (3590940605.py:process_row:31)\n",
      "2024-08-14 10:37:09,671 - micro - MainProcess - INFO     Processing row 285: Full Path: utils\\data\\scanned\\test\\resume\\resume_15.png, Document Type: resume (3590940605.py:process_row:31)\n",
      "2024-08-14 10:37:09,684 - micro - MainProcess - ERROR    Error processing row 284: <urlopen error [Errno 11001] getaddrinfo failed> (3590940605.py:process_row:54)\n",
      "2024-08-14 10:37:09,688 - micro - MainProcess - INFO     Processing row 286: Full Path: utils\\data\\scanned\\test\\resume\\resume_16.png, Document Type: resume (3590940605.py:process_row:31)\n",
      "2024-08-14 10:37:09,689 - micro - MainProcess - ERROR    Error processing row 285: <urlopen error [Errno 11001] getaddrinfo failed> (3590940605.py:process_row:54)\n",
      "2024-08-14 10:37:09,693 - micro - MainProcess - INFO     Processing row 287: Full Path: utils\\data\\scanned\\test\\resume\\resume_17.png, Document Type: resume (3590940605.py:process_row:31)\n",
      "2024-08-14 10:37:09,700 - micro - MainProcess - ERROR    Error processing row 286: <urlopen error [Errno 11001] getaddrinfo failed> (3590940605.py:process_row:54)\n",
      "2024-08-14 10:37:09,705 - micro - MainProcess - INFO     Processing row 288: Full Path: utils\\data\\scanned\\test\\resume\\resume_18.png, Document Type: resume (3590940605.py:process_row:31)\n",
      "2024-08-14 10:37:09,707 - micro - MainProcess - ERROR    Error processing row 287: <urlopen error [Errno 11001] getaddrinfo failed> (3590940605.py:process_row:54)\n",
      "2024-08-14 10:37:09,713 - micro - MainProcess - INFO     Processing row 289: Full Path: utils\\data\\scanned\\test\\resume\\resume_19.png, Document Type: resume (3590940605.py:process_row:31)\n",
      "2024-08-14 10:37:09,721 - micro - MainProcess - ERROR    Error processing row 288: <urlopen error [Errno 11001] getaddrinfo failed> (3590940605.py:process_row:54)\n",
      "2024-08-14 10:37:09,727 - micro - MainProcess - ERROR    Error processing row 289: <urlopen error [Errno 11001] getaddrinfo failed> (3590940605.py:process_row:54)\n",
      "2024-08-14 10:37:09,728 - micro - MainProcess - INFO     Processing row 290: Full Path: utils\\data\\scanned\\test\\resume\\resume_20.png, Document Type: resume (3590940605.py:process_row:31)\n",
      "2024-08-14 10:37:09,730 - micro - MainProcess - INFO     Processing row 291: Full Path: utils\\data\\scanned\\test\\resume\\resume_21.png, Document Type: resume (3590940605.py:process_row:31)\n",
      "2024-08-14 10:37:09,744 - micro - MainProcess - ERROR    Error processing row 290: <urlopen error [Errno 11001] getaddrinfo failed> (3590940605.py:process_row:54)\n",
      "2024-08-14 10:37:09,749 - micro - MainProcess - ERROR    Error processing row 291: <urlopen error [Errno 11001] getaddrinfo failed> (3590940605.py:process_row:54)\n",
      "2024-08-14 10:37:09,750 - micro - MainProcess - INFO     Processing row 292: Full Path: utils\\data\\scanned\\test\\resume\\resume_22.png, Document Type: resume (3590940605.py:process_row:31)\n",
      "2024-08-14 10:37:09,752 - micro - MainProcess - INFO     Processing row 293: Full Path: utils\\data\\scanned\\test\\resume\\resume_23.png, Document Type: resume (3590940605.py:process_row:31)\n",
      "2024-08-14 10:37:09,764 - micro - MainProcess - ERROR    Error processing row 292: <urlopen error [Errno 11001] getaddrinfo failed> (3590940605.py:process_row:54)\n",
      "2024-08-14 10:37:09,768 - micro - MainProcess - ERROR    Error processing row 293: <urlopen error [Errno 11001] getaddrinfo failed> (3590940605.py:process_row:54)\n",
      "2024-08-14 10:37:09,770 - micro - MainProcess - INFO     Processing row 294: Full Path: utils\\data\\scanned\\test\\resume\\resume_24.png, Document Type: resume (3590940605.py:process_row:31)\n",
      "2024-08-14 10:37:09,773 - micro - MainProcess - INFO     Processing row 295: Full Path: utils\\data\\scanned\\test\\resume\\resume_25.png, Document Type: resume (3590940605.py:process_row:31)\n",
      "2024-08-14 10:37:09,787 - micro - MainProcess - ERROR    Error processing row 294: <urlopen error [Errno 11001] getaddrinfo failed> (3590940605.py:process_row:54)\n",
      "2024-08-14 10:37:09,793 - micro - MainProcess - INFO     Processing row 296: Full Path: utils\\data\\scanned\\test\\resume\\resume_26.png, Document Type: resume (3590940605.py:process_row:31)\n",
      "2024-08-14 10:37:09,794 - micro - MainProcess - ERROR    Error processing row 295: <urlopen error [Errno 11001] getaddrinfo failed> (3590940605.py:process_row:54)\n",
      "2024-08-14 10:37:09,800 - micro - MainProcess - INFO     Processing row 297: Full Path: utils\\data\\scanned\\test\\resume\\resume_27.png, Document Type: resume (3590940605.py:process_row:31)\n",
      "2024-08-14 10:37:09,811 - micro - MainProcess - ERROR    Error processing row 296: <urlopen error [Errno 11001] getaddrinfo failed> (3590940605.py:process_row:54)\n",
      "2024-08-14 10:37:09,839 - micro - MainProcess - INFO     Processing row 298: Full Path: utils\\data\\scanned\\test\\resume\\resume_28.png, Document Type: resume (3590940605.py:process_row:31)\n",
      "2024-08-14 10:37:09,847 - micro - MainProcess - ERROR    Error processing row 297: <urlopen error [Errno 11001] getaddrinfo failed> (3590940605.py:process_row:54)\n",
      "2024-08-14 10:37:09,852 - micro - MainProcess - INFO     Processing row 299: Full Path: utils\\data\\scanned\\test\\resume\\resume_29.png, Document Type: resume (3590940605.py:process_row:31)\n",
      "2024-08-14 10:37:09,861 - micro - MainProcess - ERROR    Error processing row 298: <urlopen error [Errno 11001] getaddrinfo failed> (3590940605.py:process_row:54)\n",
      "2024-08-14 10:37:09,874 - micro - MainProcess - INFO     Processing row 370: Full Path: utils\\data\\scanned\\test\\invoice\\invoice_0.png, Document Type: invoice (3590940605.py:process_row:31)\n",
      "2024-08-14 10:37:09,866 - micro - MainProcess - ERROR    Error processing row 299: <urlopen error [Errno 11001] getaddrinfo failed> (3590940605.py:process_row:54)\n",
      "2024-08-14 10:37:09,924 - micro - MainProcess - INFO     Processing row 371: Full Path: utils\\data\\scanned\\test\\invoice\\invoice_1.png, Document Type: invoice (3590940605.py:process_row:31)\n",
      "2024-08-14 10:37:09,988 - micro - MainProcess - ERROR    Error processing row 370: <urlopen error [Errno 11001] getaddrinfo failed> (3590940605.py:process_row:54)\n",
      "2024-08-14 10:37:09,992 - micro - MainProcess - INFO     Processing row 372: Full Path: utils\\data\\scanned\\test\\invoice\\invoice_2.png, Document Type: invoice (3590940605.py:process_row:31)\n",
      "2024-08-14 10:37:09,990 - micro - MainProcess - ERROR    Error processing row 371: <urlopen error [Errno 11001] getaddrinfo failed> (3590940605.py:process_row:54)\n",
      "2024-08-14 10:37:10,000 - micro - MainProcess - INFO     Processing row 373: Full Path: utils\\data\\scanned\\test\\invoice\\invoice_3.png, Document Type: invoice (3590940605.py:process_row:31)\n",
      "2024-08-14 10:37:10,008 - micro - MainProcess - ERROR    Error processing row 372: <urlopen error [Errno 11001] getaddrinfo failed> (3590940605.py:process_row:54)\n",
      "2024-08-14 10:37:10,011 - micro - MainProcess - INFO     Processing row 374: Full Path: utils\\data\\scanned\\test\\invoice\\invoice_4.png, Document Type: invoice (3590940605.py:process_row:31)\n",
      "2024-08-14 10:37:10,028 - micro - MainProcess - ERROR    Error processing row 373: <urlopen error [Errno 11001] getaddrinfo failed> (3590940605.py:process_row:54)\n",
      "2024-08-14 10:37:10,037 - micro - MainProcess - INFO     Processing row 375: Full Path: utils\\data\\scanned\\test\\invoice\\invoice_5.png, Document Type: invoice (3590940605.py:process_row:31)\n",
      "2024-08-14 10:37:10,040 - micro - MainProcess - ERROR    Error processing row 374: <urlopen error [Errno 11001] getaddrinfo failed> (3590940605.py:process_row:54)\n",
      "2024-08-14 10:37:10,043 - micro - MainProcess - INFO     Processing row 376: Full Path: utils\\data\\scanned\\test\\invoice\\invoice_6.png, Document Type: invoice (3590940605.py:process_row:31)\n",
      "2024-08-14 10:37:10,052 - micro - MainProcess - ERROR    Error processing row 375: <urlopen error [Errno 11001] getaddrinfo failed> (3590940605.py:process_row:54)\n",
      "2024-08-14 10:37:10,055 - micro - MainProcess - INFO     Processing row 377: Full Path: utils\\data\\scanned\\test\\invoice\\invoice_7.png, Document Type: invoice (3590940605.py:process_row:31)\n",
      "2024-08-14 10:37:10,062 - micro - MainProcess - ERROR    Error processing row 376: <urlopen error [Errno 11001] getaddrinfo failed> (3590940605.py:process_row:54)\n",
      "2024-08-14 10:37:10,069 - micro - MainProcess - ERROR    Error processing row 377: <urlopen error [Errno 11001] getaddrinfo failed> (3590940605.py:process_row:54)\n",
      "2024-08-14 10:37:10,070 - micro - MainProcess - INFO     Processing row 378: Full Path: utils\\data\\scanned\\test\\invoice\\invoice_8.png, Document Type: invoice (3590940605.py:process_row:31)\n",
      "2024-08-14 10:37:10,073 - micro - MainProcess - INFO     Processing row 379: Full Path: utils\\data\\scanned\\test\\invoice\\invoice_9.png, Document Type: invoice (3590940605.py:process_row:31)\n",
      "2024-08-14 10:37:10,087 - micro - MainProcess - ERROR    Error processing row 378: <urlopen error [Errno 11001] getaddrinfo failed> (3590940605.py:process_row:54)\n",
      "2024-08-14 10:37:10,091 - micro - MainProcess - INFO     Processing row 380: Full Path: utils\\data\\scanned\\test\\invoice\\invoice_10.png, Document Type: invoice (3590940605.py:process_row:31)\n",
      "2024-08-14 10:37:10,089 - micro - MainProcess - ERROR    Error processing row 379: <urlopen error [Errno 11001] getaddrinfo failed> (3590940605.py:process_row:54)\n",
      "2024-08-14 10:37:10,097 - micro - MainProcess - INFO     Processing row 381: Full Path: utils\\data\\scanned\\test\\invoice\\invoice_11.png, Document Type: invoice (3590940605.py:process_row:31)\n",
      "2024-08-14 10:37:10,117 - micro - MainProcess - ERROR    Error processing row 380: <urlopen error [Errno 11001] getaddrinfo failed> (3590940605.py:process_row:54)\n",
      "2024-08-14 10:37:10,117 - micro - MainProcess - ERROR    Error processing row 381: <urlopen error [Errno 11001] getaddrinfo failed> (3590940605.py:process_row:54)\n",
      "2024-08-14 10:37:10,119 - micro - MainProcess - INFO     Processing row 382: Full Path: utils\\data\\scanned\\test\\invoice\\invoice_12.png, Document Type: invoice (3590940605.py:process_row:31)\n",
      "2024-08-14 10:37:10,123 - micro - MainProcess - INFO     Processing row 383: Full Path: utils\\data\\scanned\\test\\invoice\\invoice_13.png, Document Type: invoice (3590940605.py:process_row:31)\n",
      "2024-08-14 10:37:10,133 - micro - MainProcess - ERROR    Error processing row 382: <urlopen error [Errno 11001] getaddrinfo failed> (3590940605.py:process_row:54)\n",
      "2024-08-14 10:37:10,137 - micro - MainProcess - INFO     Processing row 384: Full Path: utils\\data\\scanned\\test\\invoice\\invoice_14.png, Document Type: invoice (3590940605.py:process_row:31)\n",
      "2024-08-14 10:37:10,139 - micro - MainProcess - ERROR    Error processing row 383: <urlopen error [Errno 11001] getaddrinfo failed> (3590940605.py:process_row:54)\n",
      "2024-08-14 10:37:10,142 - micro - MainProcess - INFO     Processing row 385: Full Path: utils\\data\\scanned\\test\\invoice\\invoice_15.png, Document Type: invoice (3590940605.py:process_row:31)\n",
      "2024-08-14 10:37:10,154 - micro - MainProcess - ERROR    Error processing row 384: <urlopen error [Errno 11001] getaddrinfo failed> (3590940605.py:process_row:54)\n",
      "2024-08-14 10:37:10,156 - micro - MainProcess - INFO     Processing row 386: Full Path: utils\\data\\scanned\\test\\invoice\\invoice_16.png, Document Type: invoice (3590940605.py:process_row:31)\n",
      "2024-08-14 10:37:10,161 - micro - MainProcess - ERROR    Error processing row 385: <urlopen error [Errno 11001] getaddrinfo failed> (3590940605.py:process_row:54)\n",
      "2024-08-14 10:37:10,164 - micro - MainProcess - INFO     Processing row 387: Full Path: utils\\data\\scanned\\test\\invoice\\invoice_17.png, Document Type: invoice (3590940605.py:process_row:31)\n",
      "2024-08-14 10:37:10,169 - micro - MainProcess - ERROR    Error processing row 386: <urlopen error [Errno 11001] getaddrinfo failed> (3590940605.py:process_row:54)\n",
      "2024-08-14 10:37:10,173 - micro - MainProcess - ERROR    Error processing row 387: <urlopen error [Errno 11001] getaddrinfo failed> (3590940605.py:process_row:54)\n",
      "2024-08-14 10:37:10,175 - micro - MainProcess - INFO     Processing row 388: Full Path: utils\\data\\scanned\\test\\invoice\\invoice_18.png, Document Type: invoice (3590940605.py:process_row:31)\n",
      "2024-08-14 10:37:10,177 - micro - MainProcess - INFO     Processing row 389: Full Path: utils\\data\\scanned\\test\\invoice\\invoice_19.png, Document Type: invoice (3590940605.py:process_row:31)\n",
      "2024-08-14 10:37:10,189 - micro - MainProcess - ERROR    Error processing row 388: <urlopen error [Errno 11001] getaddrinfo failed> (3590940605.py:process_row:54)\n",
      "2024-08-14 10:37:10,192 - micro - MainProcess - INFO     Processing row 390: Full Path: utils\\data\\scanned\\test\\invoice\\invoice_20.png, Document Type: invoice (3590940605.py:process_row:31)\n",
      "2024-08-14 10:37:10,195 - micro - MainProcess - ERROR    Error processing row 389: <urlopen error [Errno 11001] getaddrinfo failed> (3590940605.py:process_row:54)\n",
      "2024-08-14 10:37:10,198 - micro - MainProcess - INFO     Processing row 391: Full Path: utils\\data\\scanned\\test\\invoice\\invoice_21.png, Document Type: invoice (3590940605.py:process_row:31)\n",
      "2024-08-14 10:37:10,205 - micro - MainProcess - ERROR    Error processing row 390: <urlopen error [Errno 11001] getaddrinfo failed> (3590940605.py:process_row:54)\n",
      "2024-08-14 10:37:10,209 - micro - MainProcess - INFO     Processing row 392: Full Path: utils\\data\\scanned\\test\\invoice\\invoice_22.png, Document Type: invoice (3590940605.py:process_row:31)\n",
      "2024-08-14 10:37:10,212 - micro - MainProcess - ERROR    Error processing row 391: <urlopen error [Errno 11001] getaddrinfo failed> (3590940605.py:process_row:54)\n",
      "2024-08-14 10:37:10,216 - micro - MainProcess - INFO     Processing row 393: Full Path: utils\\data\\scanned\\test\\invoice\\invoice_23.png, Document Type: invoice (3590940605.py:process_row:31)\n",
      "2024-08-14 10:37:10,226 - micro - MainProcess - ERROR    Error processing row 392: <urlopen error [Errno 11001] getaddrinfo failed> (3590940605.py:process_row:54)\n",
      "2024-08-14 10:37:10,229 - micro - MainProcess - INFO     Processing row 394: Full Path: utils\\data\\scanned\\test\\invoice\\invoice_24.png, Document Type: invoice (3590940605.py:process_row:31)\n",
      "2024-08-14 10:37:10,229 - micro - MainProcess - ERROR    Error processing row 393: <urlopen error [Errno 11001] getaddrinfo failed> (3590940605.py:process_row:54)\n",
      "2024-08-14 10:37:10,236 - micro - MainProcess - INFO     Processing row 395: Full Path: utils\\data\\scanned\\test\\invoice\\invoice_25.png, Document Type: invoice (3590940605.py:process_row:31)\n",
      "2024-08-14 10:37:10,241 - micro - MainProcess - ERROR    Error processing row 394: <urlopen error [Errno 11001] getaddrinfo failed> (3590940605.py:process_row:54)\n",
      "2024-08-14 10:37:10,243 - micro - MainProcess - INFO     Processing row 396: Full Path: utils\\data\\scanned\\test\\invoice\\invoice_26.png, Document Type: invoice (3590940605.py:process_row:31)\n",
      "2024-08-14 10:37:10,250 - micro - MainProcess - ERROR    Error processing row 395: <urlopen error [Errno 11001] getaddrinfo failed> (3590940605.py:process_row:54)\n",
      "2024-08-14 10:37:10,255 - micro - MainProcess - INFO     Processing row 397: Full Path: utils\\data\\scanned\\test\\invoice\\invoice_27.png, Document Type: invoice (3590940605.py:process_row:31)\n",
      "2024-08-14 10:37:10,261 - micro - MainProcess - ERROR    Error processing row 396: <urlopen error [Errno 11001] getaddrinfo failed> (3590940605.py:process_row:54)\n",
      "2024-08-14 10:37:10,262 - micro - MainProcess - INFO     Processing row 398: Full Path: utils\\data\\scanned\\test\\invoice\\invoice_28.png, Document Type: invoice (3590940605.py:process_row:31)\n",
      "2024-08-14 10:37:10,268 - micro - MainProcess - ERROR    Error processing row 397: <urlopen error [Errno 11001] getaddrinfo failed> (3590940605.py:process_row:54)\n",
      "2024-08-14 10:37:10,270 - micro - MainProcess - INFO     Processing row 399: Full Path: utils\\data\\scanned\\test\\invoice\\invoice_29.png, Document Type: invoice (3590940605.py:process_row:31)\n",
      "2024-08-14 10:37:10,275 - micro - MainProcess - ERROR    Error processing row 398: <urlopen error [Errno 11001] getaddrinfo failed> (3590940605.py:process_row:54)\n",
      "2024-08-14 10:37:10,278 - micro - MainProcess - INFO     Processing row 470: Full Path: utils\\data\\scanned\\test\\file folder\\file folder_0.png, Document Type: file folder (3590940605.py:process_row:31)\n",
      "2024-08-14 10:37:10,281 - micro - MainProcess - ERROR    Error processing row 399: <urlopen error [Errno 11001] getaddrinfo failed> (3590940605.py:process_row:54)\n",
      "2024-08-14 10:37:10,286 - micro - MainProcess - INFO     Processing row 471: Full Path: utils\\data\\scanned\\test\\file folder\\file folder_1.png, Document Type: file folder (3590940605.py:process_row:31)\n",
      "2024-08-14 10:37:10,291 - micro - MainProcess - ERROR    Error processing row 470: <urlopen error [Errno 11001] getaddrinfo failed> (3590940605.py:process_row:54)\n",
      "2024-08-14 10:37:10,295 - micro - MainProcess - INFO     Processing row 472: Full Path: utils\\data\\scanned\\test\\file folder\\file folder_2.png, Document Type: file folder (3590940605.py:process_row:31)\n",
      "2024-08-14 10:37:10,299 - micro - MainProcess - ERROR    Error processing row 471: <urlopen error [Errno 11001] getaddrinfo failed> (3590940605.py:process_row:54)\n",
      "2024-08-14 10:37:10,303 - micro - MainProcess - INFO     Processing row 473: Full Path: utils\\data\\scanned\\test\\file folder\\file folder_3.png, Document Type: file folder (3590940605.py:process_row:31)\n",
      "2024-08-14 10:37:10,307 - micro - MainProcess - ERROR    Error processing row 472: <urlopen error [Errno 11001] getaddrinfo failed> (3590940605.py:process_row:54)\n",
      "2024-08-14 10:37:10,309 - micro - MainProcess - INFO     Processing row 474: Full Path: utils\\data\\scanned\\test\\file folder\\file folder_4.png, Document Type: file folder (3590940605.py:process_row:31)\n",
      "2024-08-14 10:37:10,324 - micro - MainProcess - ERROR    Error processing row 473: <urlopen error [Errno 11001] getaddrinfo failed> (3590940605.py:process_row:54)\n",
      "2024-08-14 10:37:10,327 - micro - MainProcess - INFO     Processing row 475: Full Path: utils\\data\\scanned\\test\\file folder\\file folder_5.png, Document Type: file folder (3590940605.py:process_row:31)\n",
      "2024-08-14 10:37:10,333 - micro - MainProcess - ERROR    Error processing row 474: <urlopen error [Errno 11001] getaddrinfo failed> (3590940605.py:process_row:54)\n",
      "2024-08-14 10:37:10,335 - micro - MainProcess - INFO     Processing row 476: Full Path: utils\\data\\scanned\\test\\file folder\\file folder_6.png, Document Type: file folder (3590940605.py:process_row:31)\n",
      "2024-08-14 10:37:10,342 - micro - MainProcess - ERROR    Error processing row 475: <urlopen error [Errno 11001] getaddrinfo failed> (3590940605.py:process_row:54)\n",
      "2024-08-14 10:37:10,343 - micro - MainProcess - ERROR    Error processing row 476: <urlopen error [Errno 11001] getaddrinfo failed> (3590940605.py:process_row:54)\n",
      "2024-08-14 10:37:10,349 - micro - MainProcess - INFO     Processing row 478: Full Path: utils\\data\\scanned\\test\\file folder\\file folder_8.png, Document Type: file folder (3590940605.py:process_row:31)\n",
      "2024-08-14 10:37:10,344 - micro - MainProcess - INFO     Processing row 477: Full Path: utils\\data\\scanned\\test\\file folder\\file folder_7.png, Document Type: file folder (3590940605.py:process_row:31)\n",
      "2024-08-14 10:37:10,361 - micro - MainProcess - ERROR    Error processing row 478: <urlopen error [Errno 11001] getaddrinfo failed> (3590940605.py:process_row:54)\n",
      "2024-08-14 10:37:10,363 - micro - MainProcess - ERROR    Error processing row 477: <urlopen error [Errno 11001] getaddrinfo failed> (3590940605.py:process_row:54)\n",
      "2024-08-14 10:37:10,365 - micro - MainProcess - INFO     Processing row 479: Full Path: utils\\data\\scanned\\test\\file folder\\file folder_9.png, Document Type: file folder (3590940605.py:process_row:31)\n",
      "2024-08-14 10:37:10,368 - micro - MainProcess - INFO     Processing row 480: Full Path: utils\\data\\scanned\\test\\file folder\\file folder_10.png, Document Type: file folder (3590940605.py:process_row:31)\n",
      "2024-08-14 10:37:10,379 - micro - MainProcess - ERROR    Error processing row 479: <urlopen error [Errno 11001] getaddrinfo failed> (3590940605.py:process_row:54)\n",
      "2024-08-14 10:37:10,383 - micro - MainProcess - INFO     Processing row 481: Full Path: utils\\data\\scanned\\test\\file folder\\file folder_11.png, Document Type: file folder (3590940605.py:process_row:31)\n",
      "2024-08-14 10:37:10,392 - micro - MainProcess - ERROR    Error processing row 480: <urlopen error [Errno 11001] getaddrinfo failed> (3590940605.py:process_row:54)\n",
      "2024-08-14 10:37:10,393 - micro - MainProcess - INFO     Processing row 482: Full Path: utils\\data\\scanned\\test\\file folder\\file folder_12.png, Document Type: file folder (3590940605.py:process_row:31)\n",
      "2024-08-14 10:37:10,400 - micro - MainProcess - ERROR    Error processing row 481: <urlopen error [Errno 11001] getaddrinfo failed> (3590940605.py:process_row:54)\n",
      "2024-08-14 10:37:10,405 - micro - MainProcess - INFO     Processing row 483: Full Path: utils\\data\\scanned\\test\\file folder\\file folder_13.png, Document Type: file folder (3590940605.py:process_row:31)\n",
      "2024-08-14 10:37:10,409 - micro - MainProcess - ERROR    Error processing row 482: <urlopen error [Errno 11001] getaddrinfo failed> (3590940605.py:process_row:54)\n",
      "2024-08-14 10:37:10,413 - micro - MainProcess - INFO     Processing row 484: Full Path: utils\\data\\scanned\\test\\file folder\\file folder_14.png, Document Type: file folder (3590940605.py:process_row:31)\n",
      "2024-08-14 10:37:10,420 - micro - MainProcess - ERROR    Error processing row 483: <urlopen error [Errno 11001] getaddrinfo failed> (3590940605.py:process_row:54)\n",
      "2024-08-14 10:37:10,424 - micro - MainProcess - INFO     Processing row 485: Full Path: utils\\data\\scanned\\test\\file folder\\file folder_15.png, Document Type: file folder (3590940605.py:process_row:31)\n",
      "2024-08-14 10:37:10,426 - micro - MainProcess - ERROR    Error processing row 484: <urlopen error [Errno 11001] getaddrinfo failed> (3590940605.py:process_row:54)\n",
      "2024-08-14 10:37:10,432 - micro - MainProcess - INFO     Processing row 486: Full Path: utils\\data\\scanned\\test\\file folder\\file folder_16.png, Document Type: file folder (3590940605.py:process_row:31)\n",
      "2024-08-14 10:37:10,446 - micro - MainProcess - ERROR    Error processing row 485: <urlopen error [Errno 11001] getaddrinfo failed> (3590940605.py:process_row:54)\n",
      "2024-08-14 10:37:10,448 - micro - MainProcess - ERROR    Error processing row 486: <urlopen error [Errno 11001] getaddrinfo failed> (3590940605.py:process_row:54)\n",
      "2024-08-14 10:37:10,454 - micro - MainProcess - INFO     Processing row 488: Full Path: utils\\data\\scanned\\test\\file folder\\file folder_18.png, Document Type: file folder (3590940605.py:process_row:31)\n",
      "2024-08-14 10:37:10,449 - micro - MainProcess - INFO     Processing row 487: Full Path: utils\\data\\scanned\\test\\file folder\\file folder_17.png, Document Type: file folder (3590940605.py:process_row:31)\n",
      "2024-08-14 10:37:10,463 - micro - MainProcess - ERROR    Error processing row 488: <urlopen error [Errno 11001] getaddrinfo failed> (3590940605.py:process_row:54)\n",
      "2024-08-14 10:37:10,472 - micro - MainProcess - INFO     Processing row 489: Full Path: utils\\data\\scanned\\test\\file folder\\file folder_19.png, Document Type: file folder (3590940605.py:process_row:31)\n",
      "2024-08-14 10:37:10,472 - micro - MainProcess - ERROR    Error processing row 487: <urlopen error [Errno 11001] getaddrinfo failed> (3590940605.py:process_row:54)\n",
      "2024-08-14 10:37:10,478 - micro - MainProcess - INFO     Processing row 490: Full Path: utils\\data\\scanned\\test\\file folder\\file folder_20.png, Document Type: file folder (3590940605.py:process_row:31)\n",
      "2024-08-14 10:37:10,484 - micro - MainProcess - ERROR    Error processing row 489: <urlopen error [Errno 11001] getaddrinfo failed> (3590940605.py:process_row:54)\n",
      "2024-08-14 10:37:10,486 - micro - MainProcess - INFO     Processing row 491: Full Path: utils\\data\\scanned\\test\\file folder\\file folder_21.png, Document Type: file folder (3590940605.py:process_row:31)\n",
      "2024-08-14 10:37:10,491 - micro - MainProcess - ERROR    Error processing row 490: <urlopen error [Errno 11001] getaddrinfo failed> (3590940605.py:process_row:54)\n",
      "2024-08-14 10:37:10,494 - micro - MainProcess - INFO     Processing row 492: Full Path: utils\\data\\scanned\\test\\file folder\\file folder_22.png, Document Type: file folder (3590940605.py:process_row:31)\n",
      "2024-08-14 10:37:10,499 - micro - MainProcess - ERROR    Error processing row 491: <urlopen error [Errno 11001] getaddrinfo failed> (3590940605.py:process_row:54)\n",
      "2024-08-14 10:37:10,503 - micro - MainProcess - INFO     Processing row 493: Full Path: utils\\data\\scanned\\test\\file folder\\file folder_23.png, Document Type: file folder (3590940605.py:process_row:31)\n",
      "2024-08-14 10:37:10,510 - micro - MainProcess - ERROR    Error processing row 492: <urlopen error [Errno 11001] getaddrinfo failed> (3590940605.py:process_row:54)\n",
      "2024-08-14 10:37:10,513 - micro - MainProcess - INFO     Processing row 494: Full Path: utils\\data\\scanned\\test\\file folder\\file folder_24.png, Document Type: file folder (3590940605.py:process_row:31)\n",
      "2024-08-14 10:37:10,517 - micro - MainProcess - ERROR    Error processing row 493: <urlopen error [Errno 11001] getaddrinfo failed> (3590940605.py:process_row:54)\n",
      "2024-08-14 10:37:10,520 - micro - MainProcess - INFO     Processing row 495: Full Path: utils\\data\\scanned\\test\\file folder\\file folder_25.png, Document Type: file folder (3590940605.py:process_row:31)\n",
      "2024-08-14 10:37:10,524 - micro - MainProcess - ERROR    Error processing row 494: <urlopen error [Errno 11001] getaddrinfo failed> (3590940605.py:process_row:54)\n",
      "2024-08-14 10:37:10,527 - micro - MainProcess - INFO     Processing row 496: Full Path: utils\\data\\scanned\\test\\file folder\\file folder_26.png, Document Type: file folder (3590940605.py:process_row:31)\n",
      "2024-08-14 10:37:10,529 - micro - MainProcess - ERROR    Error processing row 495: <urlopen error [Errno 11001] getaddrinfo failed> (3590940605.py:process_row:54)\n",
      "2024-08-14 10:37:10,534 - micro - MainProcess - INFO     Processing row 497: Full Path: utils\\data\\scanned\\test\\file folder\\file folder_27.png, Document Type: file folder (3590940605.py:process_row:31)\n",
      "2024-08-14 10:37:10,539 - micro - MainProcess - ERROR    Error processing row 496: <urlopen error [Errno 11001] getaddrinfo failed> (3590940605.py:process_row:54)\n",
      "2024-08-14 10:37:10,541 - micro - MainProcess - INFO     Processing row 498: Full Path: utils\\data\\scanned\\test\\file folder\\file folder_28.png, Document Type: file folder (3590940605.py:process_row:31)\n",
      "2024-08-14 10:37:10,553 - micro - MainProcess - ERROR    Error processing row 497: <urlopen error [Errno 11001] getaddrinfo failed> (3590940605.py:process_row:54)\n",
      "2024-08-14 10:37:10,554 - micro - MainProcess - ERROR    Error processing row 498: <urlopen error [Errno 11001] getaddrinfo failed> (3590940605.py:process_row:54)\n",
      "2024-08-14 10:37:10,555 - micro - MainProcess - INFO     Processing row 499: Full Path: utils\\data\\scanned\\test\\file folder\\file folder_29.png, Document Type: file folder (3590940605.py:process_row:31)\n",
      "2024-08-14 10:37:10,558 - micro - MainProcess - INFO     Processing row 570: Full Path: utils\\data\\scanned\\test\\questionnaire\\questionnaire_0.png, Document Type: questionnaire (3590940605.py:process_row:31)\n",
      "2024-08-14 10:37:10,570 - micro - MainProcess - ERROR    Error processing row 499: <urlopen error [Errno 11001] getaddrinfo failed> (3590940605.py:process_row:54)\n",
      "2024-08-14 10:37:10,573 - micro - MainProcess - ERROR    Error processing row 570: <urlopen error [Errno 11001] getaddrinfo failed> (3590940605.py:process_row:54)\n",
      "2024-08-14 10:37:10,573 - micro - MainProcess - INFO     Processing row 571: Full Path: utils\\data\\scanned\\test\\questionnaire\\questionnaire_1.png, Document Type: questionnaire (3590940605.py:process_row:31)\n",
      "2024-08-14 10:37:10,575 - micro - MainProcess - INFO     Processing row 572: Full Path: utils\\data\\scanned\\test\\questionnaire\\questionnaire_2.png, Document Type: questionnaire (3590940605.py:process_row:31)\n",
      "2024-08-14 10:37:10,586 - micro - MainProcess - ERROR    Error processing row 571: <urlopen error [Errno 11001] getaddrinfo failed> (3590940605.py:process_row:54)\n",
      "2024-08-14 10:37:10,589 - micro - MainProcess - INFO     Processing row 573: Full Path: utils\\data\\scanned\\test\\questionnaire\\questionnaire_3.png, Document Type: questionnaire (3590940605.py:process_row:31)\n",
      "2024-08-14 10:37:10,590 - micro - MainProcess - ERROR    Error processing row 572: <urlopen error [Errno 11001] getaddrinfo failed> (3590940605.py:process_row:54)\n",
      "2024-08-14 10:37:10,596 - micro - MainProcess - INFO     Processing row 574: Full Path: utils\\data\\scanned\\test\\questionnaire\\questionnaire_4.png, Document Type: questionnaire (3590940605.py:process_row:31)\n",
      "2024-08-14 10:37:10,601 - micro - MainProcess - ERROR    Error processing row 573: <urlopen error [Errno 11001] getaddrinfo failed> (3590940605.py:process_row:54)\n",
      "2024-08-14 10:37:10,603 - micro - MainProcess - INFO     Processing row 575: Full Path: utils\\data\\scanned\\test\\questionnaire\\questionnaire_5.png, Document Type: questionnaire (3590940605.py:process_row:31)\n",
      "2024-08-14 10:37:10,613 - micro - MainProcess - ERROR    Error processing row 574: <urlopen error [Errno 11001] getaddrinfo failed> (3590940605.py:process_row:54)\n",
      "2024-08-14 10:37:10,616 - micro - MainProcess - ERROR    Error processing row 575: <urlopen error [Errno 11001] getaddrinfo failed> (3590940605.py:process_row:54)\n",
      "2024-08-14 10:37:10,617 - micro - MainProcess - INFO     Processing row 576: Full Path: utils\\data\\scanned\\test\\questionnaire\\questionnaire_6.png, Document Type: questionnaire (3590940605.py:process_row:31)\n",
      "2024-08-14 10:37:10,619 - micro - MainProcess - INFO     Processing row 577: Full Path: utils\\data\\scanned\\test\\questionnaire\\questionnaire_7.png, Document Type: questionnaire (3590940605.py:process_row:31)\n",
      "2024-08-14 10:37:10,630 - micro - MainProcess - ERROR    Error processing row 576: <urlopen error [Errno 11001] getaddrinfo failed> (3590940605.py:process_row:54)\n",
      "2024-08-14 10:37:10,634 - micro - MainProcess - INFO     Processing row 578: Full Path: utils\\data\\scanned\\test\\questionnaire\\questionnaire_8.png, Document Type: questionnaire (3590940605.py:process_row:31)\n",
      "2024-08-14 10:37:10,634 - micro - MainProcess - ERROR    Error processing row 577: <urlopen error [Errno 11001] getaddrinfo failed> (3590940605.py:process_row:54)\n",
      "2024-08-14 10:37:10,639 - micro - MainProcess - INFO     Processing row 579: Full Path: utils\\data\\scanned\\test\\questionnaire\\questionnaire_9.png, Document Type: questionnaire (3590940605.py:process_row:31)\n",
      "2024-08-14 10:37:10,647 - micro - MainProcess - ERROR    Error processing row 578: <urlopen error [Errno 11001] getaddrinfo failed> (3590940605.py:process_row:54)\n",
      "2024-08-14 10:37:10,650 - micro - MainProcess - INFO     Processing row 580: Full Path: utils\\data\\scanned\\test\\questionnaire\\questionnaire_10.png, Document Type: questionnaire (3590940605.py:process_row:31)\n",
      "2024-08-14 10:37:10,652 - micro - MainProcess - ERROR    Error processing row 579: <urlopen error [Errno 11001] getaddrinfo failed> (3590940605.py:process_row:54)\n",
      "2024-08-14 10:37:10,660 - micro - MainProcess - INFO     Processing row 581: Full Path: utils\\data\\scanned\\test\\questionnaire\\questionnaire_11.png, Document Type: questionnaire (3590940605.py:process_row:31)\n",
      "2024-08-14 10:37:10,664 - micro - MainProcess - ERROR    Error processing row 580: <urlopen error [Errno 11001] getaddrinfo failed> (3590940605.py:process_row:54)\n",
      "2024-08-14 10:37:10,666 - micro - MainProcess - INFO     Processing row 582: Full Path: utils\\data\\scanned\\test\\questionnaire\\questionnaire_12.png, Document Type: questionnaire (3590940605.py:process_row:31)\n",
      "2024-08-14 10:37:10,673 - micro - MainProcess - ERROR    Error processing row 581: <urlopen error [Errno 11001] getaddrinfo failed> (3590940605.py:process_row:54)\n",
      "2024-08-14 10:37:10,676 - micro - MainProcess - ERROR    Error processing row 582: <urlopen error [Errno 11001] getaddrinfo failed> (3590940605.py:process_row:54)\n",
      "2024-08-14 10:37:10,677 - micro - MainProcess - INFO     Processing row 583: Full Path: utils\\data\\scanned\\test\\questionnaire\\questionnaire_13.png, Document Type: questionnaire (3590940605.py:process_row:31)\n",
      "2024-08-14 10:37:10,680 - micro - MainProcess - INFO     Processing row 584: Full Path: utils\\data\\scanned\\test\\questionnaire\\questionnaire_14.png, Document Type: questionnaire (3590940605.py:process_row:31)\n",
      "2024-08-14 10:37:10,693 - micro - MainProcess - ERROR    Error processing row 583: <urlopen error [Errno 11001] getaddrinfo failed> (3590940605.py:process_row:54)\n",
      "2024-08-14 10:37:10,697 - micro - MainProcess - INFO     Processing row 585: Full Path: utils\\data\\scanned\\test\\questionnaire\\questionnaire_15.png, Document Type: questionnaire (3590940605.py:process_row:31)\n",
      "2024-08-14 10:37:10,698 - micro - MainProcess - ERROR    Error processing row 584: <urlopen error [Errno 11001] getaddrinfo failed> (3590940605.py:process_row:54)\n",
      "2024-08-14 10:37:10,704 - micro - MainProcess - INFO     Processing row 586: Full Path: utils\\data\\scanned\\test\\questionnaire\\questionnaire_16.png, Document Type: questionnaire (3590940605.py:process_row:31)\n",
      "2024-08-14 10:37:10,709 - micro - MainProcess - ERROR    Error processing row 585: <urlopen error [Errno 11001] getaddrinfo failed> (3590940605.py:process_row:54)\n",
      "2024-08-14 10:37:10,715 - micro - MainProcess - INFO     Processing row 587: Full Path: utils\\data\\scanned\\test\\questionnaire\\questionnaire_17.png, Document Type: questionnaire (3590940605.py:process_row:31)\n",
      "2024-08-14 10:37:10,715 - micro - MainProcess - ERROR    Error processing row 586: <urlopen error [Errno 11001] getaddrinfo failed> (3590940605.py:process_row:54)\n",
      "2024-08-14 10:37:10,721 - micro - MainProcess - INFO     Processing row 588: Full Path: utils\\data\\scanned\\test\\questionnaire\\questionnaire_18.png, Document Type: questionnaire (3590940605.py:process_row:31)\n",
      "2024-08-14 10:37:10,727 - micro - MainProcess - ERROR    Error processing row 587: <urlopen error [Errno 11001] getaddrinfo failed> (3590940605.py:process_row:54)\n",
      "2024-08-14 10:37:10,734 - micro - MainProcess - INFO     Processing row 589: Full Path: utils\\data\\scanned\\test\\questionnaire\\questionnaire_19.png, Document Type: questionnaire (3590940605.py:process_row:31)\n",
      "2024-08-14 10:37:10,734 - micro - MainProcess - ERROR    Error processing row 588: <urlopen error [Errno 11001] getaddrinfo failed> (3590940605.py:process_row:54)\n",
      "2024-08-14 10:37:10,738 - micro - MainProcess - INFO     Processing row 590: Full Path: utils\\data\\scanned\\test\\questionnaire\\questionnaire_20.png, Document Type: questionnaire (3590940605.py:process_row:31)\n",
      "2024-08-14 10:37:10,745 - micro - MainProcess - ERROR    Error processing row 589: <urlopen error [Errno 11001] getaddrinfo failed> (3590940605.py:process_row:54)\n",
      "2024-08-14 10:37:10,750 - micro - MainProcess - ERROR    Error processing row 590: <urlopen error [Errno 11001] getaddrinfo failed> (3590940605.py:process_row:54)\n",
      "2024-08-14 10:37:10,750 - micro - MainProcess - INFO     Processing row 591: Full Path: utils\\data\\scanned\\test\\questionnaire\\questionnaire_21.png, Document Type: questionnaire (3590940605.py:process_row:31)\n",
      "2024-08-14 10:37:10,753 - micro - MainProcess - INFO     Processing row 592: Full Path: utils\\data\\scanned\\test\\questionnaire\\questionnaire_22.png, Document Type: questionnaire (3590940605.py:process_row:31)\n",
      "2024-08-14 10:37:10,762 - micro - MainProcess - ERROR    Error processing row 591: <urlopen error [Errno 11001] getaddrinfo failed> (3590940605.py:process_row:54)\n",
      "2024-08-14 10:37:10,766 - micro - MainProcess - INFO     Processing row 593: Full Path: utils\\data\\scanned\\test\\questionnaire\\questionnaire_23.png, Document Type: questionnaire (3590940605.py:process_row:31)\n",
      "2024-08-14 10:37:10,767 - micro - MainProcess - ERROR    Error processing row 592: <urlopen error [Errno 11001] getaddrinfo failed> (3590940605.py:process_row:54)\n",
      "2024-08-14 10:37:10,772 - micro - MainProcess - INFO     Processing row 594: Full Path: utils\\data\\scanned\\test\\questionnaire\\questionnaire_24.png, Document Type: questionnaire (3590940605.py:process_row:31)\n",
      "2024-08-14 10:37:10,783 - micro - MainProcess - ERROR    Error processing row 593: <urlopen error [Errno 11001] getaddrinfo failed> (3590940605.py:process_row:54)\n",
      "2024-08-14 10:37:10,786 - micro - MainProcess - INFO     Processing row 595: Full Path: utils\\data\\scanned\\test\\questionnaire\\questionnaire_25.png, Document Type: questionnaire (3590940605.py:process_row:31)\n",
      "2024-08-14 10:37:10,787 - micro - MainProcess - ERROR    Error processing row 594: <urlopen error [Errno 11001] getaddrinfo failed> (3590940605.py:process_row:54)\n",
      "2024-08-14 10:37:10,790 - micro - MainProcess - INFO     Processing row 596: Full Path: utils\\data\\scanned\\test\\questionnaire\\questionnaire_26.png, Document Type: questionnaire (3590940605.py:process_row:31)\n",
      "2024-08-14 10:37:10,797 - micro - MainProcess - ERROR    Error processing row 595: <urlopen error [Errno 11001] getaddrinfo failed> (3590940605.py:process_row:54)\n",
      "2024-08-14 10:37:10,802 - micro - MainProcess - INFO     Processing row 597: Full Path: utils\\data\\scanned\\test\\questionnaire\\questionnaire_27.png, Document Type: questionnaire (3590940605.py:process_row:31)\n",
      "2024-08-14 10:37:10,802 - micro - MainProcess - ERROR    Error processing row 596: <urlopen error [Errno 11001] getaddrinfo failed> (3590940605.py:process_row:54)\n",
      "2024-08-14 10:37:10,807 - micro - MainProcess - INFO     Processing row 598: Full Path: utils\\data\\scanned\\test\\questionnaire\\questionnaire_28.png, Document Type: questionnaire (3590940605.py:process_row:31)\n",
      "2024-08-14 10:37:10,814 - micro - MainProcess - ERROR    Error processing row 597: <urlopen error [Errno 11001] getaddrinfo failed> (3590940605.py:process_row:54)\n",
      "2024-08-14 10:37:10,817 - micro - MainProcess - INFO     Processing row 599: Full Path: utils\\data\\scanned\\test\\questionnaire\\questionnaire_29.png, Document Type: questionnaire (3590940605.py:process_row:31)\n",
      "2024-08-14 10:37:10,818 - micro - MainProcess - ERROR    Error processing row 598: <urlopen error [Errno 11001] getaddrinfo failed> (3590940605.py:process_row:54)\n",
      "2024-08-14 10:37:10,822 - micro - MainProcess - INFO     Processing row 670: Full Path: utils\\data\\scanned\\test\\handwritten\\handwritten_0.png, Document Type: handwritten (3590940605.py:process_row:31)\n",
      "2024-08-14 10:37:10,832 - micro - MainProcess - ERROR    Error processing row 599: <urlopen error [Errno 11001] getaddrinfo failed> (3590940605.py:process_row:54)\n",
      "2024-08-14 10:37:10,834 - micro - MainProcess - INFO     Processing row 671: Full Path: utils\\data\\scanned\\test\\handwritten\\handwritten_1.png, Document Type: handwritten (3590940605.py:process_row:31)\n",
      "2024-08-14 10:37:10,839 - micro - MainProcess - ERROR    Error processing row 670: <urlopen error [Errno 11001] getaddrinfo failed> (3590940605.py:process_row:54)\n",
      "2024-08-14 10:37:10,845 - micro - MainProcess - INFO     Processing row 672: Full Path: utils\\data\\scanned\\test\\handwritten\\handwritten_2.png, Document Type: handwritten (3590940605.py:process_row:31)\n",
      "2024-08-14 10:37:10,848 - micro - MainProcess - ERROR    Error processing row 671: <urlopen error [Errno 11001] getaddrinfo failed> (3590940605.py:process_row:54)\n",
      "2024-08-14 10:37:10,851 - micro - MainProcess - INFO     Processing row 673: Full Path: utils\\data\\scanned\\test\\handwritten\\handwritten_3.png, Document Type: handwritten (3590940605.py:process_row:31)\n",
      "2024-08-14 10:37:10,860 - micro - MainProcess - ERROR    Error processing row 672: <urlopen error [Errno 11001] getaddrinfo failed> (3590940605.py:process_row:54)\n",
      "2024-08-14 10:37:10,861 - micro - MainProcess - ERROR    Error processing row 673: <urlopen error [Errno 11001] getaddrinfo failed> (3590940605.py:process_row:54)\n",
      "2024-08-14 10:37:10,862 - micro - MainProcess - INFO     Processing row 674: Full Path: utils\\data\\scanned\\test\\handwritten\\handwritten_4.png, Document Type: handwritten (3590940605.py:process_row:31)\n",
      "2024-08-14 10:37:10,864 - micro - MainProcess - INFO     Processing row 675: Full Path: utils\\data\\scanned\\test\\handwritten\\handwritten_5.png, Document Type: handwritten (3590940605.py:process_row:31)\n",
      "2024-08-14 10:37:10,873 - micro - MainProcess - ERROR    Error processing row 674: <urlopen error [Errno 11001] getaddrinfo failed> (3590940605.py:process_row:54)\n",
      "2024-08-14 10:37:10,873 - micro - MainProcess - ERROR    Error processing row 675: <urlopen error [Errno 11001] getaddrinfo failed> (3590940605.py:process_row:54)\n",
      "2024-08-14 10:37:10,877 - micro - MainProcess - INFO     Processing row 676: Full Path: utils\\data\\scanned\\test\\handwritten\\handwritten_6.png, Document Type: handwritten (3590940605.py:process_row:31)\n",
      "2024-08-14 10:37:10,878 - micro - MainProcess - INFO     Processing row 677: Full Path: utils\\data\\scanned\\test\\handwritten\\handwritten_7.png, Document Type: handwritten (3590940605.py:process_row:31)\n",
      "2024-08-14 10:37:10,888 - micro - MainProcess - ERROR    Error processing row 676: <urlopen error [Errno 11001] getaddrinfo failed> (3590940605.py:process_row:54)\n",
      "2024-08-14 10:37:10,892 - micro - MainProcess - INFO     Processing row 678: Full Path: utils\\data\\scanned\\test\\handwritten\\handwritten_8.png, Document Type: handwritten (3590940605.py:process_row:31)\n",
      "2024-08-14 10:37:10,893 - micro - MainProcess - ERROR    Error processing row 677: <urlopen error [Errno 11001] getaddrinfo failed> (3590940605.py:process_row:54)\n",
      "2024-08-14 10:37:10,896 - micro - MainProcess - INFO     Processing row 679: Full Path: utils\\data\\scanned\\test\\handwritten\\handwritten_9.png, Document Type: handwritten (3590940605.py:process_row:31)\n",
      "2024-08-14 10:37:10,904 - micro - MainProcess - ERROR    Error processing row 678: <urlopen error [Errno 11001] getaddrinfo failed> (3590940605.py:process_row:54)\n",
      "2024-08-14 10:37:10,909 - micro - MainProcess - ERROR    Error processing row 679: <urlopen error [Errno 11001] getaddrinfo failed> (3590940605.py:process_row:54)\n",
      "2024-08-14 10:37:10,910 - micro - MainProcess - INFO     Processing row 680: Full Path: utils\\data\\scanned\\test\\handwritten\\handwritten_10.png, Document Type: handwritten (3590940605.py:process_row:31)\n",
      "2024-08-14 10:37:10,913 - micro - MainProcess - INFO     Processing row 681: Full Path: utils\\data\\scanned\\test\\handwritten\\handwritten_11.png, Document Type: handwritten (3590940605.py:process_row:31)\n",
      "2024-08-14 10:37:10,925 - micro - MainProcess - ERROR    Error processing row 680: <urlopen error [Errno 11001] getaddrinfo failed> (3590940605.py:process_row:54)\n",
      "2024-08-14 10:37:10,927 - micro - MainProcess - ERROR    Error processing row 681: <urlopen error [Errno 11001] getaddrinfo failed> (3590940605.py:process_row:54)\n",
      "2024-08-14 10:37:10,941 - micro - MainProcess - INFO     Processing row 683: Full Path: utils\\data\\scanned\\test\\handwritten\\handwritten_13.png, Document Type: handwritten (3590940605.py:process_row:31)\n",
      "2024-08-14 10:37:10,928 - micro - MainProcess - INFO     Processing row 682: Full Path: utils\\data\\scanned\\test\\handwritten\\handwritten_12.png, Document Type: handwritten (3590940605.py:process_row:31)\n",
      "2024-08-14 10:37:11,023 - micro - MainProcess - ERROR    Error processing row 683: <urlopen error [Errno 11001] getaddrinfo failed> (3590940605.py:process_row:54)\n",
      "2024-08-14 10:37:11,040 - micro - MainProcess - INFO     Processing row 684: Full Path: utils\\data\\scanned\\test\\handwritten\\handwritten_14.png, Document Type: handwritten (3590940605.py:process_row:31)\n",
      "2024-08-14 10:37:11,068 - micro - MainProcess - ERROR    Error processing row 682: <urlopen error [Errno 11001] getaddrinfo failed> (3590940605.py:process_row:54)\n",
      "2024-08-14 10:37:11,076 - micro - MainProcess - INFO     Processing row 685: Full Path: utils\\data\\scanned\\test\\handwritten\\handwritten_15.png, Document Type: handwritten (3590940605.py:process_row:31)\n",
      "2024-08-14 10:37:11,087 - micro - MainProcess - ERROR    Error processing row 684: <urlopen error [Errno 11001] getaddrinfo failed> (3590940605.py:process_row:54)\n",
      "2024-08-14 10:37:11,094 - micro - MainProcess - INFO     Processing row 686: Full Path: utils\\data\\scanned\\test\\handwritten\\handwritten_16.png, Document Type: handwritten (3590940605.py:process_row:31)\n",
      "2024-08-14 10:37:11,097 - micro - MainProcess - ERROR    Error processing row 685: <urlopen error [Errno 11001] getaddrinfo failed> (3590940605.py:process_row:54)\n",
      "2024-08-14 10:37:11,100 - micro - MainProcess - INFO     Processing row 687: Full Path: utils\\data\\scanned\\test\\handwritten\\handwritten_17.png, Document Type: handwritten (3590940605.py:process_row:31)\n",
      "2024-08-14 10:37:11,107 - micro - MainProcess - ERROR    Error processing row 686: <urlopen error [Errno 11001] getaddrinfo failed> (3590940605.py:process_row:54)\n",
      "2024-08-14 10:37:11,109 - micro - MainProcess - INFO     Processing row 688: Full Path: utils\\data\\scanned\\test\\handwritten\\handwritten_18.png, Document Type: handwritten (3590940605.py:process_row:31)\n",
      "2024-08-14 10:37:11,131 - micro - MainProcess - ERROR    Error processing row 687: <urlopen error [Errno 11001] getaddrinfo failed> (3590940605.py:process_row:54)\n",
      "2024-08-14 10:37:11,145 - micro - MainProcess - INFO     Processing row 689: Full Path: utils\\data\\scanned\\test\\handwritten\\handwritten_19.png, Document Type: handwritten (3590940605.py:process_row:31)\n",
      "2024-08-14 10:37:11,156 - micro - MainProcess - ERROR    Error processing row 688: <urlopen error [Errno 11001] getaddrinfo failed> (3590940605.py:process_row:54)\n",
      "2024-08-14 10:37:11,160 - micro - MainProcess - ERROR    Error processing row 689: <urlopen error [Errno 11001] getaddrinfo failed> (3590940605.py:process_row:54)\n",
      "2024-08-14 10:37:11,161 - micro - MainProcess - INFO     Processing row 690: Full Path: utils\\data\\scanned\\test\\handwritten\\handwritten_20.png, Document Type: handwritten (3590940605.py:process_row:31)\n",
      "2024-08-14 10:37:11,165 - micro - MainProcess - INFO     Processing row 691: Full Path: utils\\data\\scanned\\test\\handwritten\\handwritten_21.png, Document Type: handwritten (3590940605.py:process_row:31)\n",
      "2024-08-14 10:37:11,176 - micro - MainProcess - ERROR    Error processing row 690: <urlopen error [Errno 11001] getaddrinfo failed> (3590940605.py:process_row:54)\n",
      "2024-08-14 10:37:11,180 - micro - MainProcess - INFO     Processing row 692: Full Path: utils\\data\\scanned\\test\\handwritten\\handwritten_22.png, Document Type: handwritten (3590940605.py:process_row:31)\n",
      "2024-08-14 10:37:11,180 - micro - MainProcess - ERROR    Error processing row 691: <urlopen error [Errno 11001] getaddrinfo failed> (3590940605.py:process_row:54)\n",
      "2024-08-14 10:37:11,186 - micro - MainProcess - INFO     Processing row 693: Full Path: utils\\data\\scanned\\test\\handwritten\\handwritten_23.png, Document Type: handwritten (3590940605.py:process_row:31)\n",
      "2024-08-14 10:37:11,193 - micro - MainProcess - ERROR    Error processing row 692: <urlopen error [Errno 11001] getaddrinfo failed> (3590940605.py:process_row:54)\n",
      "2024-08-14 10:37:11,196 - micro - MainProcess - INFO     Processing row 694: Full Path: utils\\data\\scanned\\test\\handwritten\\handwritten_24.png, Document Type: handwritten (3590940605.py:process_row:31)\n",
      "2024-08-14 10:37:11,203 - micro - MainProcess - ERROR    Error processing row 693: <urlopen error [Errno 11001] getaddrinfo failed> (3590940605.py:process_row:54)\n",
      "2024-08-14 10:37:11,205 - micro - MainProcess - INFO     Processing row 695: Full Path: utils\\data\\scanned\\test\\handwritten\\handwritten_25.png, Document Type: handwritten (3590940605.py:process_row:31)\n",
      "2024-08-14 10:37:11,213 - micro - MainProcess - ERROR    Error processing row 694: <urlopen error [Errno 11001] getaddrinfo failed> (3590940605.py:process_row:54)\n",
      "2024-08-14 10:37:11,216 - micro - MainProcess - INFO     Processing row 696: Full Path: utils\\data\\scanned\\test\\handwritten\\handwritten_26.png, Document Type: handwritten (3590940605.py:process_row:31)\n",
      "2024-08-14 10:37:11,221 - micro - MainProcess - ERROR    Error processing row 695: <urlopen error [Errno 11001] getaddrinfo failed> (3590940605.py:process_row:54)\n",
      "2024-08-14 10:37:11,223 - micro - MainProcess - INFO     Processing row 697: Full Path: utils\\data\\scanned\\test\\handwritten\\handwritten_27.png, Document Type: handwritten (3590940605.py:process_row:31)\n",
      "2024-08-14 10:37:11,231 - micro - MainProcess - ERROR    Error processing row 696: <urlopen error [Errno 11001] getaddrinfo failed> (3590940605.py:process_row:54)\n",
      "2024-08-14 10:37:11,233 - micro - MainProcess - INFO     Processing row 698: Full Path: utils\\data\\scanned\\test\\handwritten\\handwritten_28.png, Document Type: handwritten (3590940605.py:process_row:31)\n",
      "2024-08-14 10:37:11,237 - micro - MainProcess - ERROR    Error processing row 697: <urlopen error [Errno 11001] getaddrinfo failed> (3590940605.py:process_row:54)\n",
      "2024-08-14 10:37:11,242 - micro - MainProcess - INFO     Processing row 699: Full Path: utils\\data\\scanned\\test\\handwritten\\handwritten_29.png, Document Type: handwritten (3590940605.py:process_row:31)\n",
      "2024-08-14 10:37:11,254 - micro - MainProcess - ERROR    Error processing row 698: <urlopen error [Errno 11001] getaddrinfo failed> (3590940605.py:process_row:54)\n",
      "2024-08-14 10:37:11,257 - micro - MainProcess - INFO     Processing row 770: Full Path: utils\\data\\scanned\\test\\news article\\news article_0.png, Document Type: news article (3590940605.py:process_row:31)\n",
      "2024-08-14 10:37:11,263 - micro - MainProcess - ERROR    Error processing row 699: <urlopen error [Errno 11001] getaddrinfo failed> (3590940605.py:process_row:54)\n",
      "2024-08-14 10:37:11,267 - micro - MainProcess - ERROR    Error processing row 770: <urlopen error [Errno 11001] getaddrinfo failed> (3590940605.py:process_row:54)\n",
      "2024-08-14 10:37:11,268 - micro - MainProcess - INFO     Processing row 771: Full Path: utils\\data\\scanned\\test\\news article\\news article_1.png, Document Type: news article (3590940605.py:process_row:31)\n",
      "2024-08-14 10:37:11,271 - micro - MainProcess - INFO     Processing row 772: Full Path: utils\\data\\scanned\\test\\news article\\news article_2.png, Document Type: news article (3590940605.py:process_row:31)\n",
      "2024-08-14 10:37:11,285 - micro - MainProcess - ERROR    Error processing row 771: <urlopen error [Errno 11001] getaddrinfo failed> (3590940605.py:process_row:54)\n",
      "2024-08-14 10:37:11,287 - micro - MainProcess - INFO     Processing row 773: Full Path: utils\\data\\scanned\\test\\news article\\news article_3.png, Document Type: news article (3590940605.py:process_row:31)\n",
      "2024-08-14 10:37:11,288 - micro - MainProcess - ERROR    Error processing row 772: <urlopen error [Errno 11001] getaddrinfo failed> (3590940605.py:process_row:54)\n",
      "2024-08-14 10:37:11,295 - micro - MainProcess - INFO     Processing row 774: Full Path: utils\\data\\scanned\\test\\news article\\news article_4.png, Document Type: news article (3590940605.py:process_row:31)\n",
      "2024-08-14 10:37:11,302 - micro - MainProcess - ERROR    Error processing row 773: <urlopen error [Errno 11001] getaddrinfo failed> (3590940605.py:process_row:54)\n",
      "2024-08-14 10:37:11,304 - micro - MainProcess - INFO     Processing row 775: Full Path: utils\\data\\scanned\\test\\news article\\news article_5.png, Document Type: news article (3590940605.py:process_row:31)\n",
      "2024-08-14 10:37:11,311 - micro - MainProcess - ERROR    Error processing row 774: <urlopen error [Errno 11001] getaddrinfo failed> (3590940605.py:process_row:54)\n",
      "2024-08-14 10:37:11,315 - micro - MainProcess - ERROR    Error processing row 775: <urlopen error [Errno 11001] getaddrinfo failed> (3590940605.py:process_row:54)\n",
      "2024-08-14 10:37:11,315 - micro - MainProcess - INFO     Processing row 776: Full Path: utils\\data\\scanned\\test\\news article\\news article_6.png, Document Type: news article (3590940605.py:process_row:31)\n",
      "2024-08-14 10:37:11,319 - micro - MainProcess - INFO     Processing row 777: Full Path: utils\\data\\scanned\\test\\news article\\news article_7.png, Document Type: news article (3590940605.py:process_row:31)\n",
      "2024-08-14 10:37:11,331 - micro - MainProcess - ERROR    Error processing row 776: <urlopen error [Errno 11001] getaddrinfo failed> (3590940605.py:process_row:54)\n",
      "2024-08-14 10:37:11,332 - micro - MainProcess - ERROR    Error processing row 777: <urlopen error [Errno 11001] getaddrinfo failed> (3590940605.py:process_row:54)\n",
      "2024-08-14 10:37:11,333 - micro - MainProcess - INFO     Processing row 778: Full Path: utils\\data\\scanned\\test\\news article\\news article_8.png, Document Type: news article (3590940605.py:process_row:31)\n",
      "2024-08-14 10:37:11,337 - micro - MainProcess - INFO     Processing row 779: Full Path: utils\\data\\scanned\\test\\news article\\news article_9.png, Document Type: news article (3590940605.py:process_row:31)\n",
      "2024-08-14 10:37:11,349 - micro - MainProcess - ERROR    Error processing row 778: <urlopen error [Errno 11001] getaddrinfo failed> (3590940605.py:process_row:54)\n",
      "2024-08-14 10:37:11,351 - micro - MainProcess - ERROR    Error processing row 779: <urlopen error [Errno 11001] getaddrinfo failed> (3590940605.py:process_row:54)\n",
      "2024-08-14 10:37:11,353 - micro - MainProcess - INFO     Processing row 780: Full Path: utils\\data\\scanned\\test\\news article\\news article_10.png, Document Type: news article (3590940605.py:process_row:31)\n",
      "2024-08-14 10:37:11,354 - micro - MainProcess - INFO     Processing row 781: Full Path: utils\\data\\scanned\\test\\news article\\news article_11.png, Document Type: news article (3590940605.py:process_row:31)\n",
      "2024-08-14 10:37:11,371 - micro - MainProcess - ERROR    Error processing row 780: <urlopen error [Errno 11001] getaddrinfo failed> (3590940605.py:process_row:54)\n",
      "2024-08-14 10:37:11,377 - micro - MainProcess - INFO     Processing row 782: Full Path: utils\\data\\scanned\\test\\news article\\news article_12.png, Document Type: news article (3590940605.py:process_row:31)\n",
      "2024-08-14 10:37:11,379 - micro - MainProcess - ERROR    Error processing row 781: <urlopen error [Errno 11001] getaddrinfo failed> (3590940605.py:process_row:54)\n",
      "2024-08-14 10:37:11,383 - micro - MainProcess - INFO     Processing row 783: Full Path: utils\\data\\scanned\\test\\news article\\news article_13.png, Document Type: news article (3590940605.py:process_row:31)\n",
      "2024-08-14 10:37:11,393 - micro - MainProcess - ERROR    Error processing row 782: <urlopen error [Errno 11001] getaddrinfo failed> (3590940605.py:process_row:54)\n",
      "2024-08-14 10:37:11,396 - micro - MainProcess - ERROR    Error processing row 783: <urlopen error [Errno 11001] getaddrinfo failed> (3590940605.py:process_row:54)\n",
      "2024-08-14 10:37:11,397 - micro - MainProcess - INFO     Processing row 784: Full Path: utils\\data\\scanned\\test\\news article\\news article_14.png, Document Type: news article (3590940605.py:process_row:31)\n",
      "2024-08-14 10:37:11,400 - micro - MainProcess - INFO     Processing row 785: Full Path: utils\\data\\scanned\\test\\news article\\news article_15.png, Document Type: news article (3590940605.py:process_row:31)\n",
      "2024-08-14 10:37:11,410 - micro - MainProcess - ERROR    Error processing row 784: <urlopen error [Errno 11001] getaddrinfo failed> (3590940605.py:process_row:54)\n",
      "2024-08-14 10:37:11,415 - micro - MainProcess - INFO     Processing row 786: Full Path: utils\\data\\scanned\\test\\news article\\news article_16.png, Document Type: news article (3590940605.py:process_row:31)\n",
      "2024-08-14 10:37:11,416 - micro - MainProcess - ERROR    Error processing row 785: <urlopen error [Errno 11001] getaddrinfo failed> (3590940605.py:process_row:54)\n",
      "2024-08-14 10:37:11,422 - micro - MainProcess - INFO     Processing row 787: Full Path: utils\\data\\scanned\\test\\news article\\news article_17.png, Document Type: news article (3590940605.py:process_row:31)\n",
      "2024-08-14 10:37:11,430 - micro - MainProcess - ERROR    Error processing row 786: <urlopen error [Errno 11001] getaddrinfo failed> (3590940605.py:process_row:54)\n",
      "2024-08-14 10:37:11,433 - micro - MainProcess - INFO     Processing row 788: Full Path: utils\\data\\scanned\\test\\news article\\news article_18.png, Document Type: news article (3590940605.py:process_row:31)\n",
      "2024-08-14 10:37:11,442 - micro - MainProcess - ERROR    Error processing row 787: <urlopen error [Errno 11001] getaddrinfo failed> (3590940605.py:process_row:54)\n",
      "2024-08-14 10:37:11,448 - micro - MainProcess - ERROR    Error processing row 788: <urlopen error [Errno 11001] getaddrinfo failed> (3590940605.py:process_row:54)\n",
      "2024-08-14 10:37:11,448 - micro - MainProcess - INFO     Processing row 789: Full Path: utils\\data\\scanned\\test\\news article\\news article_19.png, Document Type: news article (3590940605.py:process_row:31)\n",
      "2024-08-14 10:37:11,450 - micro - MainProcess - INFO     Processing row 790: Full Path: utils\\data\\scanned\\test\\news article\\news article_20.png, Document Type: news article (3590940605.py:process_row:31)\n",
      "2024-08-14 10:37:11,464 - micro - MainProcess - ERROR    Error processing row 789: <urlopen error [Errno 11001] getaddrinfo failed> (3590940605.py:process_row:54)\n",
      "2024-08-14 10:37:11,466 - micro - MainProcess - ERROR    Error processing row 790: <urlopen error [Errno 11001] getaddrinfo failed> (3590940605.py:process_row:54)\n",
      "2024-08-14 10:37:11,467 - micro - MainProcess - INFO     Processing row 791: Full Path: utils\\data\\scanned\\test\\news article\\news article_21.png, Document Type: news article (3590940605.py:process_row:31)\n",
      "2024-08-14 10:37:11,470 - micro - MainProcess - INFO     Processing row 792: Full Path: utils\\data\\scanned\\test\\news article\\news article_22.png, Document Type: news article (3590940605.py:process_row:31)\n",
      "2024-08-14 10:37:11,483 - micro - MainProcess - ERROR    Error processing row 791: <urlopen error [Errno 11001] getaddrinfo failed> (3590940605.py:process_row:54)\n",
      "2024-08-14 10:37:11,489 - micro - MainProcess - ERROR    Error processing row 792: <urlopen error [Errno 11001] getaddrinfo failed> (3590940605.py:process_row:54)\n",
      "2024-08-14 10:37:11,489 - micro - MainProcess - INFO     Processing row 793: Full Path: utils\\data\\scanned\\test\\news article\\news article_23.png, Document Type: news article (3590940605.py:process_row:31)\n",
      "2024-08-14 10:37:11,494 - micro - MainProcess - INFO     Processing row 794: Full Path: utils\\data\\scanned\\test\\news article\\news article_24.png, Document Type: news article (3590940605.py:process_row:31)\n",
      "2024-08-14 10:37:11,504 - micro - MainProcess - ERROR    Error processing row 793: <urlopen error [Errno 11001] getaddrinfo failed> (3590940605.py:process_row:54)\n",
      "2024-08-14 10:37:11,509 - micro - MainProcess - INFO     Processing row 795: Full Path: utils\\data\\scanned\\test\\news article\\news article_25.png, Document Type: news article (3590940605.py:process_row:31)\n",
      "2024-08-14 10:37:11,510 - micro - MainProcess - ERROR    Error processing row 794: <urlopen error [Errno 11001] getaddrinfo failed> (3590940605.py:process_row:54)\n",
      "2024-08-14 10:37:11,514 - micro - MainProcess - INFO     Processing row 796: Full Path: utils\\data\\scanned\\test\\news article\\news article_26.png, Document Type: news article (3590940605.py:process_row:31)\n",
      "2024-08-14 10:37:11,523 - micro - MainProcess - ERROR    Error processing row 795: <urlopen error [Errno 11001] getaddrinfo failed> (3590940605.py:process_row:54)\n",
      "2024-08-14 10:37:11,532 - micro - MainProcess - ERROR    Error processing row 796: <urlopen error [Errno 11001] getaddrinfo failed> (3590940605.py:process_row:54)\n",
      "2024-08-14 10:37:11,533 - micro - MainProcess - INFO     Processing row 797: Full Path: utils\\data\\scanned\\test\\news article\\news article_27.png, Document Type: news article (3590940605.py:process_row:31)\n",
      "2024-08-14 10:37:11,538 - micro - MainProcess - INFO     Processing row 798: Full Path: utils\\data\\scanned\\test\\news article\\news article_28.png, Document Type: news article (3590940605.py:process_row:31)\n",
      "2024-08-14 10:37:11,553 - micro - MainProcess - ERROR    Error processing row 797: <urlopen error [Errno 11001] getaddrinfo failed> (3590940605.py:process_row:54)\n",
      "2024-08-14 10:37:11,554 - micro - MainProcess - ERROR    Error processing row 798: <urlopen error [Errno 11001] getaddrinfo failed> (3590940605.py:process_row:54)\n",
      "2024-08-14 10:37:11,557 - micro - MainProcess - INFO     Processing row 799: Full Path: utils\\data\\scanned\\test\\news article\\news article_29.png, Document Type: news article (3590940605.py:process_row:31)\n",
      "2024-08-14 10:37:11,559 - micro - MainProcess - INFO     Processing row 870: Full Path: utils\\data\\scanned\\test\\budget\\budget_0.png, Document Type: budget (3590940605.py:process_row:31)\n",
      "2024-08-14 10:37:11,570 - micro - MainProcess - ERROR    Error processing row 870: <urlopen error [Errno 11001] getaddrinfo failed> (3590940605.py:process_row:54)\n",
      "2024-08-14 10:37:11,572 - micro - MainProcess - ERROR    Error processing row 799: <urlopen error [Errno 11001] getaddrinfo failed> (3590940605.py:process_row:54)\n",
      "2024-08-14 10:37:11,573 - micro - MainProcess - INFO     Processing row 871: Full Path: utils\\data\\scanned\\test\\budget\\budget_1.png, Document Type: budget (3590940605.py:process_row:31)\n",
      "2024-08-14 10:37:11,576 - micro - MainProcess - INFO     Processing row 872: Full Path: utils\\data\\scanned\\test\\budget\\budget_2.png, Document Type: budget (3590940605.py:process_row:31)\n",
      "2024-08-14 10:37:11,587 - micro - MainProcess - ERROR    Error processing row 871: <urlopen error [Errno 11001] getaddrinfo failed> (3590940605.py:process_row:54)\n",
      "2024-08-14 10:37:11,590 - micro - MainProcess - ERROR    Error processing row 872: <urlopen error [Errno 11001] getaddrinfo failed> (3590940605.py:process_row:54)\n",
      "2024-08-14 10:37:11,591 - micro - MainProcess - INFO     Processing row 873: Full Path: utils\\data\\scanned\\test\\budget\\budget_3.png, Document Type: budget (3590940605.py:process_row:31)\n",
      "2024-08-14 10:37:11,593 - micro - MainProcess - INFO     Processing row 874: Full Path: utils\\data\\scanned\\test\\budget\\budget_4.png, Document Type: budget (3590940605.py:process_row:31)\n",
      "2024-08-14 10:37:11,602 - micro - MainProcess - ERROR    Error processing row 873: <urlopen error [Errno 11001] getaddrinfo failed> (3590940605.py:process_row:54)\n",
      "2024-08-14 10:37:11,606 - micro - MainProcess - INFO     Processing row 875: Full Path: utils\\data\\scanned\\test\\budget\\budget_5.png, Document Type: budget (3590940605.py:process_row:31)\n",
      "2024-08-14 10:37:11,610 - micro - MainProcess - ERROR    Error processing row 874: <urlopen error [Errno 11001] getaddrinfo failed> (3590940605.py:process_row:54)\n",
      "2024-08-14 10:37:11,615 - micro - MainProcess - INFO     Processing row 876: Full Path: utils\\data\\scanned\\test\\budget\\budget_6.png, Document Type: budget (3590940605.py:process_row:31)\n",
      "2024-08-14 10:37:11,622 - micro - MainProcess - ERROR    Error processing row 875: <urlopen error [Errno 11001] getaddrinfo failed> (3590940605.py:process_row:54)\n",
      "2024-08-14 10:37:11,623 - micro - MainProcess - INFO     Processing row 877: Full Path: utils\\data\\scanned\\test\\budget\\budget_7.png, Document Type: budget (3590940605.py:process_row:31)\n",
      "2024-08-14 10:37:11,628 - micro - MainProcess - ERROR    Error processing row 876: <urlopen error [Errno 11001] getaddrinfo failed> (3590940605.py:process_row:54)\n",
      "2024-08-14 10:37:11,630 - micro - MainProcess - INFO     Processing row 878: Full Path: utils\\data\\scanned\\test\\budget\\budget_8.png, Document Type: budget (3590940605.py:process_row:31)\n",
      "2024-08-14 10:37:11,637 - micro - MainProcess - ERROR    Error processing row 877: <urlopen error [Errno 11001] getaddrinfo failed> (3590940605.py:process_row:54)\n",
      "2024-08-14 10:37:11,638 - micro - MainProcess - ERROR    Error processing row 878: <urlopen error [Errno 11001] getaddrinfo failed> (3590940605.py:process_row:54)\n",
      "2024-08-14 10:37:11,639 - micro - MainProcess - INFO     Processing row 879: Full Path: utils\\data\\scanned\\test\\budget\\budget_9.png, Document Type: budget (3590940605.py:process_row:31)\n",
      "2024-08-14 10:37:11,644 - micro - MainProcess - INFO     Processing row 880: Full Path: utils\\data\\scanned\\test\\budget\\budget_10.png, Document Type: budget (3590940605.py:process_row:31)\n",
      "2024-08-14 10:37:11,654 - micro - MainProcess - ERROR    Error processing row 879: <urlopen error [Errno 11001] getaddrinfo failed> (3590940605.py:process_row:54)\n",
      "2024-08-14 10:37:11,656 - micro - MainProcess - ERROR    Error processing row 880: <urlopen error [Errno 11001] getaddrinfo failed> (3590940605.py:process_row:54)\n",
      "2024-08-14 10:37:11,657 - micro - MainProcess - INFO     Processing row 881: Full Path: utils\\data\\scanned\\test\\budget\\budget_11.png, Document Type: budget (3590940605.py:process_row:31)\n",
      "2024-08-14 10:37:11,661 - micro - MainProcess - INFO     Processing row 882: Full Path: utils\\data\\scanned\\test\\budget\\budget_12.png, Document Type: budget (3590940605.py:process_row:31)\n",
      "2024-08-14 10:37:11,672 - micro - MainProcess - ERROR    Error processing row 881: <urlopen error [Errno 11001] getaddrinfo failed> (3590940605.py:process_row:54)\n",
      "2024-08-14 10:37:11,676 - micro - MainProcess - ERROR    Error processing row 882: <urlopen error [Errno 11001] getaddrinfo failed> (3590940605.py:process_row:54)\n",
      "2024-08-14 10:37:11,677 - micro - MainProcess - INFO     Processing row 883: Full Path: utils\\data\\scanned\\test\\budget\\budget_13.png, Document Type: budget (3590940605.py:process_row:31)\n",
      "2024-08-14 10:37:11,680 - micro - MainProcess - INFO     Processing row 884: Full Path: utils\\data\\scanned\\test\\budget\\budget_14.png, Document Type: budget (3590940605.py:process_row:31)\n",
      "2024-08-14 10:37:11,691 - micro - MainProcess - ERROR    Error processing row 883: <urlopen error [Errno 11001] getaddrinfo failed> (3590940605.py:process_row:54)\n",
      "2024-08-14 10:37:11,692 - micro - MainProcess - ERROR    Error processing row 884: <urlopen error [Errno 11001] getaddrinfo failed> (3590940605.py:process_row:54)\n",
      "2024-08-14 10:37:11,693 - micro - MainProcess - INFO     Processing row 885: Full Path: utils\\data\\scanned\\test\\budget\\budget_15.png, Document Type: budget (3590940605.py:process_row:31)\n",
      "2024-08-14 10:37:11,696 - micro - MainProcess - INFO     Processing row 886: Full Path: utils\\data\\scanned\\test\\budget\\budget_16.png, Document Type: budget (3590940605.py:process_row:31)\n",
      "2024-08-14 10:37:11,706 - micro - MainProcess - ERROR    Error processing row 885: <urlopen error [Errno 11001] getaddrinfo failed> (3590940605.py:process_row:54)\n",
      "2024-08-14 10:37:11,710 - micro - MainProcess - ERROR    Error processing row 886: <urlopen error [Errno 11001] getaddrinfo failed> (3590940605.py:process_row:54)\n",
      "2024-08-14 10:37:11,711 - micro - MainProcess - INFO     Processing row 887: Full Path: utils\\data\\scanned\\test\\budget\\budget_17.png, Document Type: budget (3590940605.py:process_row:31)\n",
      "2024-08-14 10:37:11,714 - micro - MainProcess - INFO     Processing row 888: Full Path: utils\\data\\scanned\\test\\budget\\budget_18.png, Document Type: budget (3590940605.py:process_row:31)\n",
      "2024-08-14 10:37:11,725 - micro - MainProcess - ERROR    Error processing row 887: <urlopen error [Errno 11001] getaddrinfo failed> (3590940605.py:process_row:54)\n",
      "2024-08-14 10:37:11,728 - micro - MainProcess - INFO     Processing row 889: Full Path: utils\\data\\scanned\\test\\budget\\budget_19.png, Document Type: budget (3590940605.py:process_row:31)\n",
      "2024-08-14 10:37:11,729 - micro - MainProcess - ERROR    Error processing row 888: <urlopen error [Errno 11001] getaddrinfo failed> (3590940605.py:process_row:54)\n",
      "2024-08-14 10:37:11,736 - micro - MainProcess - INFO     Processing row 890: Full Path: utils\\data\\scanned\\test\\budget\\budget_20.png, Document Type: budget (3590940605.py:process_row:31)\n",
      "2024-08-14 10:37:11,742 - micro - MainProcess - ERROR    Error processing row 889: <urlopen error [Errno 11001] getaddrinfo failed> (3590940605.py:process_row:54)\n",
      "2024-08-14 10:37:11,748 - micro - MainProcess - INFO     Processing row 891: Full Path: utils\\data\\scanned\\test\\budget\\budget_21.png, Document Type: budget (3590940605.py:process_row:31)\n",
      "2024-08-14 10:37:11,751 - micro - MainProcess - ERROR    Error processing row 890: <urlopen error [Errno 11001] getaddrinfo failed> (3590940605.py:process_row:54)\n",
      "2024-08-14 10:37:11,754 - micro - MainProcess - INFO     Processing row 892: Full Path: utils\\data\\scanned\\test\\budget\\budget_22.png, Document Type: budget (3590940605.py:process_row:31)\n",
      "2024-08-14 10:37:11,762 - micro - MainProcess - ERROR    Error processing row 891: <urlopen error [Errno 11001] getaddrinfo failed> (3590940605.py:process_row:54)\n",
      "2024-08-14 10:37:11,766 - micro - MainProcess - INFO     Processing row 893: Full Path: utils\\data\\scanned\\test\\budget\\budget_23.png, Document Type: budget (3590940605.py:process_row:31)\n",
      "2024-08-14 10:37:11,767 - micro - MainProcess - ERROR    Error processing row 892: <urlopen error [Errno 11001] getaddrinfo failed> (3590940605.py:process_row:54)\n",
      "2024-08-14 10:37:11,773 - micro - MainProcess - INFO     Processing row 894: Full Path: utils\\data\\scanned\\test\\budget\\budget_24.png, Document Type: budget (3590940605.py:process_row:31)\n",
      "2024-08-14 10:37:11,781 - micro - MainProcess - ERROR    Error processing row 893: <urlopen error [Errno 11001] getaddrinfo failed> (3590940605.py:process_row:54)\n",
      "2024-08-14 10:37:11,784 - micro - MainProcess - INFO     Processing row 895: Full Path: utils\\data\\scanned\\test\\budget\\budget_25.png, Document Type: budget (3590940605.py:process_row:31)\n",
      "2024-08-14 10:37:11,792 - micro - MainProcess - ERROR    Error processing row 894: <urlopen error [Errno 11001] getaddrinfo failed> (3590940605.py:process_row:54)\n",
      "2024-08-14 10:37:11,798 - micro - MainProcess - INFO     Processing row 896: Full Path: utils\\data\\scanned\\test\\budget\\budget_26.png, Document Type: budget (3590940605.py:process_row:31)\n",
      "2024-08-14 10:37:11,794 - micro - MainProcess - ERROR    Error processing row 895: <urlopen error [Errno 11001] getaddrinfo failed> (3590940605.py:process_row:54)\n",
      "2024-08-14 10:37:11,805 - micro - MainProcess - INFO     Processing row 897: Full Path: utils\\data\\scanned\\test\\budget\\budget_27.png, Document Type: budget (3590940605.py:process_row:31)\n",
      "2024-08-14 10:37:11,809 - micro - MainProcess - ERROR    Error processing row 896: <urlopen error [Errno 11001] getaddrinfo failed> (3590940605.py:process_row:54)\n",
      "2024-08-14 10:37:11,815 - micro - MainProcess - INFO     Processing row 898: Full Path: utils\\data\\scanned\\test\\budget\\budget_28.png, Document Type: budget (3590940605.py:process_row:31)\n",
      "2024-08-14 10:37:11,842 - micro - MainProcess - ERROR    Error processing row 897: <urlopen error [Errno 11001] getaddrinfo failed> (3590940605.py:process_row:54)\n",
      "2024-08-14 10:37:11,869 - micro - MainProcess - INFO     Processing row 899: Full Path: utils\\data\\scanned\\test\\budget\\budget_29.png, Document Type: budget (3590940605.py:process_row:31)\n",
      "2024-08-14 10:37:11,876 - micro - MainProcess - ERROR    Error processing row 898: <urlopen error [Errno 11001] getaddrinfo failed> (3590940605.py:process_row:54)\n",
      "2024-08-14 10:37:11,880 - micro - MainProcess - INFO     Processing row 970: Full Path: utils\\data\\scanned\\test\\scientific publication\\scientific publication_0.png, Document Type: scientific publication (3590940605.py:process_row:31)\n",
      "2024-08-14 10:37:11,944 - micro - MainProcess - ERROR    Error processing row 970: <urlopen error [Errno 11001] getaddrinfo failed> (3590940605.py:process_row:54)\n",
      "2024-08-14 10:37:11,947 - micro - MainProcess - INFO     Processing row 971: Full Path: utils\\data\\scanned\\test\\scientific publication\\scientific publication_1.png, Document Type: scientific publication (3590940605.py:process_row:31)\n",
      "2024-08-14 10:37:11,967 - micro - MainProcess - ERROR    Error processing row 899: <urlopen error [Errno 11001] getaddrinfo failed> (3590940605.py:process_row:54)\n",
      "2024-08-14 10:37:11,976 - micro - MainProcess - INFO     Processing row 972: Full Path: utils\\data\\scanned\\test\\scientific publication\\scientific publication_2.png, Document Type: scientific publication (3590940605.py:process_row:31)\n",
      "2024-08-14 10:37:11,974 - micro - MainProcess - ERROR    Error processing row 971: <urlopen error [Errno 11001] getaddrinfo failed> (3590940605.py:process_row:54)\n",
      "2024-08-14 10:37:11,986 - micro - MainProcess - INFO     Processing row 973: Full Path: utils\\data\\scanned\\test\\scientific publication\\scientific publication_3.png, Document Type: scientific publication (3590940605.py:process_row:31)\n",
      "2024-08-14 10:37:11,995 - micro - MainProcess - ERROR    Error processing row 972: <urlopen error [Errno 11001] getaddrinfo failed> (3590940605.py:process_row:54)\n",
      "2024-08-14 10:37:11,997 - micro - MainProcess - ERROR    Error processing row 973: <urlopen error [Errno 11001] getaddrinfo failed> (3590940605.py:process_row:54)\n",
      "2024-08-14 10:37:11,998 - micro - MainProcess - INFO     Processing row 974: Full Path: utils\\data\\scanned\\test\\scientific publication\\scientific publication_4.png, Document Type: scientific publication (3590940605.py:process_row:31)\n",
      "2024-08-14 10:37:12,002 - micro - MainProcess - INFO     Processing row 975: Full Path: utils\\data\\scanned\\test\\scientific publication\\scientific publication_5.png, Document Type: scientific publication (3590940605.py:process_row:31)\n",
      "2024-08-14 10:37:12,032 - micro - MainProcess - ERROR    Error processing row 974: <urlopen error [Errno 11001] getaddrinfo failed> (3590940605.py:process_row:54)\n",
      "2024-08-14 10:37:12,036 - micro - MainProcess - INFO     Processing row 976: Full Path: utils\\data\\scanned\\test\\scientific publication\\scientific publication_6.png, Document Type: scientific publication (3590940605.py:process_row:31)\n",
      "2024-08-14 10:37:12,037 - micro - MainProcess - ERROR    Error processing row 975: <urlopen error [Errno 11001] getaddrinfo failed> (3590940605.py:process_row:54)\n",
      "2024-08-14 10:37:12,041 - micro - MainProcess - INFO     Processing row 977: Full Path: utils\\data\\scanned\\test\\scientific publication\\scientific publication_7.png, Document Type: scientific publication (3590940605.py:process_row:31)\n",
      "2024-08-14 10:37:12,057 - micro - MainProcess - ERROR    Error processing row 976: <urlopen error [Errno 11001] getaddrinfo failed> (3590940605.py:process_row:54)\n",
      "2024-08-14 10:37:12,063 - micro - MainProcess - INFO     Processing row 978: Full Path: utils\\data\\scanned\\test\\scientific publication\\scientific publication_8.png, Document Type: scientific publication (3590940605.py:process_row:31)\n",
      "2024-08-14 10:37:12,064 - micro - MainProcess - ERROR    Error processing row 977: <urlopen error [Errno 11001] getaddrinfo failed> (3590940605.py:process_row:54)\n",
      "2024-08-14 10:37:12,069 - micro - MainProcess - INFO     Processing row 979: Full Path: utils\\data\\scanned\\test\\scientific publication\\scientific publication_9.png, Document Type: scientific publication (3590940605.py:process_row:31)\n",
      "2024-08-14 10:37:12,074 - micro - MainProcess - ERROR    Error processing row 978: <urlopen error [Errno 11001] getaddrinfo failed> (3590940605.py:process_row:54)\n",
      "2024-08-14 10:37:12,078 - micro - MainProcess - INFO     Processing row 980: Full Path: utils\\data\\scanned\\test\\scientific publication\\scientific publication_10.png, Document Type: scientific publication (3590940605.py:process_row:31)\n",
      "2024-08-14 10:37:12,080 - micro - MainProcess - ERROR    Error processing row 979: <urlopen error [Errno 11001] getaddrinfo failed> (3590940605.py:process_row:54)\n",
      "2024-08-14 10:37:12,085 - micro - MainProcess - INFO     Processing row 981: Full Path: utils\\data\\scanned\\test\\scientific publication\\scientific publication_11.png, Document Type: scientific publication (3590940605.py:process_row:31)\n",
      "2024-08-14 10:37:12,093 - micro - MainProcess - ERROR    Error processing row 980: <urlopen error [Errno 11001] getaddrinfo failed> (3590940605.py:process_row:54)\n",
      "2024-08-14 10:37:12,095 - micro - MainProcess - INFO     Processing row 982: Full Path: utils\\data\\scanned\\test\\scientific publication\\scientific publication_12.png, Document Type: scientific publication (3590940605.py:process_row:31)\n",
      "2024-08-14 10:37:12,102 - micro - MainProcess - ERROR    Error processing row 981: <urlopen error [Errno 11001] getaddrinfo failed> (3590940605.py:process_row:54)\n",
      "2024-08-14 10:37:12,114 - micro - MainProcess - INFO     Processing row 983: Full Path: utils\\data\\scanned\\test\\scientific publication\\scientific publication_13.png, Document Type: scientific publication (3590940605.py:process_row:31)\n",
      "2024-08-14 10:37:12,118 - micro - MainProcess - ERROR    Error processing row 982: <urlopen error [Errno 11001] getaddrinfo failed> (3590940605.py:process_row:54)\n",
      "2024-08-14 10:37:12,121 - micro - MainProcess - INFO     Processing row 984: Full Path: utils\\data\\scanned\\test\\scientific publication\\scientific publication_14.png, Document Type: scientific publication (3590940605.py:process_row:31)\n",
      "2024-08-14 10:37:12,130 - micro - MainProcess - ERROR    Error processing row 983: <urlopen error [Errno 11001] getaddrinfo failed> (3590940605.py:process_row:54)\n",
      "2024-08-14 10:37:12,135 - micro - MainProcess - INFO     Processing row 985: Full Path: utils\\data\\scanned\\test\\scientific publication\\scientific publication_15.png, Document Type: scientific publication (3590940605.py:process_row:31)\n",
      "2024-08-14 10:37:12,137 - micro - MainProcess - ERROR    Error processing row 984: <urlopen error [Errno 11001] getaddrinfo failed> (3590940605.py:process_row:54)\n",
      "2024-08-14 10:37:12,141 - micro - MainProcess - INFO     Processing row 986: Full Path: utils\\data\\scanned\\test\\scientific publication\\scientific publication_16.png, Document Type: scientific publication (3590940605.py:process_row:31)\n",
      "2024-08-14 10:37:12,151 - micro - MainProcess - ERROR    Error processing row 985: <urlopen error [Errno 11001] getaddrinfo failed> (3590940605.py:process_row:54)\n",
      "2024-08-14 10:37:12,156 - micro - MainProcess - INFO     Processing row 987: Full Path: utils\\data\\scanned\\test\\scientific publication\\scientific publication_17.png, Document Type: scientific publication (3590940605.py:process_row:31)\n",
      "2024-08-14 10:37:12,157 - micro - MainProcess - ERROR    Error processing row 986: <urlopen error [Errno 11001] getaddrinfo failed> (3590940605.py:process_row:54)\n",
      "2024-08-14 10:37:12,162 - micro - MainProcess - INFO     Processing row 988: Full Path: utils\\data\\scanned\\test\\scientific publication\\scientific publication_18.png, Document Type: scientific publication (3590940605.py:process_row:31)\n",
      "2024-08-14 10:37:12,173 - micro - MainProcess - ERROR    Error processing row 987: <urlopen error [Errno 11001] getaddrinfo failed> (3590940605.py:process_row:54)\n",
      "2024-08-14 10:37:12,178 - micro - MainProcess - INFO     Processing row 989: Full Path: utils\\data\\scanned\\test\\scientific publication\\scientific publication_19.png, Document Type: scientific publication (3590940605.py:process_row:31)\n",
      "2024-08-14 10:37:12,182 - micro - MainProcess - ERROR    Error processing row 988: <urlopen error [Errno 11001] getaddrinfo failed> (3590940605.py:process_row:54)\n",
      "2024-08-14 10:37:12,184 - micro - MainProcess - INFO     Processing row 990: Full Path: utils\\data\\scanned\\test\\scientific publication\\scientific publication_20.png, Document Type: scientific publication (3590940605.py:process_row:31)\n",
      "2024-08-14 10:37:12,194 - micro - MainProcess - ERROR    Error processing row 989: <urlopen error [Errno 11001] getaddrinfo failed> (3590940605.py:process_row:54)\n",
      "2024-08-14 10:37:12,196 - micro - MainProcess - ERROR    Error processing row 990: <urlopen error [Errno 11001] getaddrinfo failed> (3590940605.py:process_row:54)\n",
      "2024-08-14 10:37:12,198 - micro - MainProcess - INFO     Processing row 991: Full Path: utils\\data\\scanned\\test\\scientific publication\\scientific publication_21.png, Document Type: scientific publication (3590940605.py:process_row:31)\n",
      "2024-08-14 10:37:12,200 - micro - MainProcess - INFO     Processing row 992: Full Path: utils\\data\\scanned\\test\\scientific publication\\scientific publication_22.png, Document Type: scientific publication (3590940605.py:process_row:31)\n",
      "2024-08-14 10:37:12,214 - micro - MainProcess - ERROR    Error processing row 991: <urlopen error [Errno 11001] getaddrinfo failed> (3590940605.py:process_row:54)\n",
      "2024-08-14 10:37:12,218 - micro - MainProcess - INFO     Processing row 993: Full Path: utils\\data\\scanned\\test\\scientific publication\\scientific publication_23.png, Document Type: scientific publication (3590940605.py:process_row:31)\n",
      "2024-08-14 10:37:12,220 - micro - MainProcess - ERROR    Error processing row 992: <urlopen error [Errno 11001] getaddrinfo failed> (3590940605.py:process_row:54)\n",
      "2024-08-14 10:37:12,223 - micro - MainProcess - INFO     Processing row 994: Full Path: utils\\data\\scanned\\test\\scientific publication\\scientific publication_24.png, Document Type: scientific publication (3590940605.py:process_row:31)\n",
      "2024-08-14 10:37:12,235 - micro - MainProcess - ERROR    Error processing row 993: <urlopen error [Errno 11001] getaddrinfo failed> (3590940605.py:process_row:54)\n",
      "2024-08-14 10:37:12,235 - micro - MainProcess - ERROR    Error processing row 994: <urlopen error [Errno 11001] getaddrinfo failed> (3590940605.py:process_row:54)\n",
      "2024-08-14 10:37:12,239 - micro - MainProcess - INFO     Processing row 995: Full Path: utils\\data\\scanned\\test\\scientific publication\\scientific publication_25.png, Document Type: scientific publication (3590940605.py:process_row:31)\n",
      "2024-08-14 10:37:12,241 - micro - MainProcess - INFO     Processing row 996: Full Path: utils\\data\\scanned\\test\\scientific publication\\scientific publication_26.png, Document Type: scientific publication (3590940605.py:process_row:31)\n",
      "2024-08-14 10:37:12,254 - micro - MainProcess - ERROR    Error processing row 995: <urlopen error [Errno 11001] getaddrinfo failed> (3590940605.py:process_row:54)\n",
      "2024-08-14 10:37:12,257 - micro - MainProcess - ERROR    Error processing row 996: <urlopen error [Errno 11001] getaddrinfo failed> (3590940605.py:process_row:54)\n",
      "2024-08-14 10:37:12,258 - micro - MainProcess - INFO     Processing row 997: Full Path: utils\\data\\scanned\\test\\scientific publication\\scientific publication_27.png, Document Type: scientific publication (3590940605.py:process_row:31)\n",
      "2024-08-14 10:37:12,261 - micro - MainProcess - INFO     Processing row 998: Full Path: utils\\data\\scanned\\test\\scientific publication\\scientific publication_28.png, Document Type: scientific publication (3590940605.py:process_row:31)\n",
      "2024-08-14 10:37:12,275 - micro - MainProcess - ERROR    Error processing row 997: <urlopen error [Errno 11001] getaddrinfo failed> (3590940605.py:process_row:54)\n",
      "2024-08-14 10:37:12,280 - micro - MainProcess - INFO     Processing row 999: Full Path: utils\\data\\scanned\\test\\scientific publication\\scientific publication_29.png, Document Type: scientific publication (3590940605.py:process_row:31)\n",
      "2024-08-14 10:37:12,281 - micro - MainProcess - ERROR    Error processing row 998: <urlopen error [Errno 11001] getaddrinfo failed> (3590940605.py:process_row:54)\n",
      "2024-08-14 10:37:12,285 - micro - MainProcess - INFO     Processing row 1070: Full Path: utils\\data\\scanned\\test\\presentation\\presentation_0.png, Document Type: presentation (3590940605.py:process_row:31)\n",
      "2024-08-14 10:37:12,292 - micro - MainProcess - ERROR    Error processing row 999: <urlopen error [Errno 11001] getaddrinfo failed> (3590940605.py:process_row:54)\n",
      "2024-08-14 10:37:12,300 - micro - MainProcess - INFO     Processing row 1071: Full Path: utils\\data\\scanned\\test\\presentation\\presentation_1.png, Document Type: presentation (3590940605.py:process_row:31)\n",
      "2024-08-14 10:37:12,302 - micro - MainProcess - ERROR    Error processing row 1070: <urlopen error [Errno 11001] getaddrinfo failed> (3590940605.py:process_row:54)\n",
      "2024-08-14 10:37:12,306 - micro - MainProcess - INFO     Processing row 1072: Full Path: utils\\data\\scanned\\test\\presentation\\presentation_2.png, Document Type: presentation (3590940605.py:process_row:31)\n",
      "2024-08-14 10:37:12,313 - micro - MainProcess - ERROR    Error processing row 1071: <urlopen error [Errno 11001] getaddrinfo failed> (3590940605.py:process_row:54)\n",
      "2024-08-14 10:37:12,320 - micro - MainProcess - INFO     Processing row 1073: Full Path: utils\\data\\scanned\\test\\presentation\\presentation_3.png, Document Type: presentation (3590940605.py:process_row:31)\n",
      "2024-08-14 10:37:12,322 - micro - MainProcess - ERROR    Error processing row 1072: <urlopen error [Errno 11001] getaddrinfo failed> (3590940605.py:process_row:54)\n",
      "2024-08-14 10:37:12,327 - micro - MainProcess - INFO     Processing row 1074: Full Path: utils\\data\\scanned\\test\\presentation\\presentation_4.png, Document Type: presentation (3590940605.py:process_row:31)\n",
      "2024-08-14 10:37:12,333 - micro - MainProcess - ERROR    Error processing row 1073: <urlopen error [Errno 11001] getaddrinfo failed> (3590940605.py:process_row:54)\n",
      "2024-08-14 10:37:12,336 - micro - MainProcess - ERROR    Error processing row 1074: <urlopen error [Errno 11001] getaddrinfo failed> (3590940605.py:process_row:54)\n",
      "2024-08-14 10:37:12,339 - micro - MainProcess - INFO     Processing row 1075: Full Path: utils\\data\\scanned\\test\\presentation\\presentation_5.png, Document Type: presentation (3590940605.py:process_row:31)\n",
      "2024-08-14 10:37:12,340 - micro - MainProcess - INFO     Processing row 1076: Full Path: utils\\data\\scanned\\test\\presentation\\presentation_6.png, Document Type: presentation (3590940605.py:process_row:31)\n",
      "2024-08-14 10:37:12,355 - micro - MainProcess - ERROR    Error processing row 1075: <urlopen error [Errno 11001] getaddrinfo failed> (3590940605.py:process_row:54)\n",
      "2024-08-14 10:37:12,359 - micro - MainProcess - ERROR    Error processing row 1076: <urlopen error [Errno 11001] getaddrinfo failed> (3590940605.py:process_row:54)\n",
      "2024-08-14 10:37:12,359 - micro - MainProcess - INFO     Processing row 1077: Full Path: utils\\data\\scanned\\test\\presentation\\presentation_7.png, Document Type: presentation (3590940605.py:process_row:31)\n",
      "2024-08-14 10:37:12,363 - micro - MainProcess - INFO     Processing row 1078: Full Path: utils\\data\\scanned\\test\\presentation\\presentation_8.png, Document Type: presentation (3590940605.py:process_row:31)\n",
      "2024-08-14 10:37:12,373 - micro - MainProcess - ERROR    Error processing row 1077: <urlopen error [Errno 11001] getaddrinfo failed> (3590940605.py:process_row:54)\n",
      "2024-08-14 10:37:12,376 - micro - MainProcess - ERROR    Error processing row 1078: <urlopen error [Errno 11001] getaddrinfo failed> (3590940605.py:process_row:54)\n",
      "2024-08-14 10:37:12,377 - micro - MainProcess - INFO     Processing row 1079: Full Path: utils\\data\\scanned\\test\\presentation\\presentation_9.png, Document Type: presentation (3590940605.py:process_row:31)\n",
      "2024-08-14 10:37:12,380 - micro - MainProcess - INFO     Processing row 1080: Full Path: utils\\data\\scanned\\test\\presentation\\presentation_10.png, Document Type: presentation (3590940605.py:process_row:31)\n",
      "2024-08-14 10:37:12,392 - micro - MainProcess - ERROR    Error processing row 1079: <urlopen error [Errno 11001] getaddrinfo failed> (3590940605.py:process_row:54)\n",
      "2024-08-14 10:37:12,395 - micro - MainProcess - INFO     Processing row 1081: Full Path: utils\\data\\scanned\\test\\presentation\\presentation_11.png, Document Type: presentation (3590940605.py:process_row:31)\n",
      "2024-08-14 10:37:12,400 - micro - MainProcess - ERROR    Error processing row 1080: <urlopen error [Errno 11001] getaddrinfo failed> (3590940605.py:process_row:54)\n",
      "2024-08-14 10:37:12,403 - micro - MainProcess - INFO     Processing row 1082: Full Path: utils\\data\\scanned\\test\\presentation\\presentation_12.png, Document Type: presentation (3590940605.py:process_row:31)\n",
      "2024-08-14 10:37:12,410 - micro - MainProcess - ERROR    Error processing row 1081: <urlopen error [Errno 11001] getaddrinfo failed> (3590940605.py:process_row:54)\n",
      "2024-08-14 10:37:12,414 - micro - MainProcess - ERROR    Error processing row 1082: <urlopen error [Errno 11001] getaddrinfo failed> (3590940605.py:process_row:54)\n",
      "2024-08-14 10:37:12,421 - micro - MainProcess - INFO     Processing row 1083: Full Path: utils\\data\\scanned\\test\\presentation\\presentation_13.png, Document Type: presentation (3590940605.py:process_row:31)\n",
      "2024-08-14 10:37:12,425 - micro - MainProcess - INFO     Processing row 1084: Full Path: utils\\data\\scanned\\test\\presentation\\presentation_14.png, Document Type: presentation (3590940605.py:process_row:31)\n",
      "2024-08-14 10:37:12,437 - micro - MainProcess - ERROR    Error processing row 1083: <urlopen error [Errno 11001] getaddrinfo failed> (3590940605.py:process_row:54)\n",
      "2024-08-14 10:37:12,440 - micro - MainProcess - INFO     Processing row 1085: Full Path: utils\\data\\scanned\\test\\presentation\\presentation_15.png, Document Type: presentation (3590940605.py:process_row:31)\n",
      "2024-08-14 10:37:12,444 - micro - MainProcess - ERROR    Error processing row 1084: <urlopen error [Errno 11001] getaddrinfo failed> (3590940605.py:process_row:54)\n",
      "2024-08-14 10:37:12,447 - micro - MainProcess - INFO     Processing row 1086: Full Path: utils\\data\\scanned\\test\\presentation\\presentation_16.png, Document Type: presentation (3590940605.py:process_row:31)\n",
      "2024-08-14 10:37:12,457 - micro - MainProcess - ERROR    Error processing row 1085: <urlopen error [Errno 11001] getaddrinfo failed> (3590940605.py:process_row:54)\n",
      "2024-08-14 10:37:12,462 - micro - MainProcess - ERROR    Error processing row 1086: <urlopen error [Errno 11001] getaddrinfo failed> (3590940605.py:process_row:54)\n",
      "2024-08-14 10:37:12,463 - micro - MainProcess - INFO     Processing row 1087: Full Path: utils\\data\\scanned\\test\\presentation\\presentation_17.png, Document Type: presentation (3590940605.py:process_row:31)\n",
      "2024-08-14 10:37:12,465 - micro - MainProcess - INFO     Processing row 1088: Full Path: utils\\data\\scanned\\test\\presentation\\presentation_18.png, Document Type: presentation (3590940605.py:process_row:31)\n",
      "2024-08-14 10:37:12,475 - micro - MainProcess - ERROR    Error processing row 1087: <urlopen error [Errno 11001] getaddrinfo failed> (3590940605.py:process_row:54)\n",
      "2024-08-14 10:37:12,479 - micro - MainProcess - INFO     Processing row 1089: Full Path: utils\\data\\scanned\\test\\presentation\\presentation_19.png, Document Type: presentation (3590940605.py:process_row:31)\n",
      "2024-08-14 10:37:12,479 - micro - MainProcess - ERROR    Error processing row 1088: <urlopen error [Errno 11001] getaddrinfo failed> (3590940605.py:process_row:54)\n",
      "2024-08-14 10:37:12,484 - micro - MainProcess - INFO     Processing row 1090: Full Path: utils\\data\\scanned\\test\\presentation\\presentation_20.png, Document Type: presentation (3590940605.py:process_row:31)\n",
      "2024-08-14 10:37:12,490 - micro - MainProcess - ERROR    Error processing row 1089: <urlopen error [Errno 11001] getaddrinfo failed> (3590940605.py:process_row:54)\n",
      "2024-08-14 10:37:12,494 - micro - MainProcess - INFO     Processing row 1091: Full Path: utils\\data\\scanned\\test\\presentation\\presentation_21.png, Document Type: presentation (3590940605.py:process_row:31)\n",
      "2024-08-14 10:37:12,498 - micro - MainProcess - ERROR    Error processing row 1090: <urlopen error [Errno 11001] getaddrinfo failed> (3590940605.py:process_row:54)\n",
      "2024-08-14 10:37:12,503 - micro - MainProcess - INFO     Processing row 1092: Full Path: utils\\data\\scanned\\test\\presentation\\presentation_22.png, Document Type: presentation (3590940605.py:process_row:31)\n",
      "2024-08-14 10:37:12,516 - micro - MainProcess - ERROR    Error processing row 1092: <urlopen error [Errno 11001] getaddrinfo failed> (3590940605.py:process_row:54)\n",
      "2024-08-14 10:37:12,516 - micro - MainProcess - ERROR    Error processing row 1091: <urlopen error [Errno 11001] getaddrinfo failed> (3590940605.py:process_row:54)\n",
      "2024-08-14 10:37:12,518 - micro - MainProcess - INFO     Processing row 1093: Full Path: utils\\data\\scanned\\test\\presentation\\presentation_23.png, Document Type: presentation (3590940605.py:process_row:31)\n",
      "2024-08-14 10:37:12,521 - micro - MainProcess - INFO     Processing row 1094: Full Path: utils\\data\\scanned\\test\\presentation\\presentation_24.png, Document Type: presentation (3590940605.py:process_row:31)\n",
      "2024-08-14 10:37:12,531 - micro - MainProcess - ERROR    Error processing row 1093: <urlopen error [Errno 11001] getaddrinfo failed> (3590940605.py:process_row:54)\n",
      "2024-08-14 10:37:12,535 - micro - MainProcess - INFO     Processing row 1095: Full Path: utils\\data\\scanned\\test\\presentation\\presentation_25.png, Document Type: presentation (3590940605.py:process_row:31)\n",
      "2024-08-14 10:37:12,539 - micro - MainProcess - ERROR    Error processing row 1094: <urlopen error [Errno 11001] getaddrinfo failed> (3590940605.py:process_row:54)\n",
      "2024-08-14 10:37:12,546 - micro - MainProcess - INFO     Processing row 1096: Full Path: utils\\data\\scanned\\test\\presentation\\presentation_26.png, Document Type: presentation (3590940605.py:process_row:31)\n",
      "2024-08-14 10:37:12,554 - micro - MainProcess - ERROR    Error processing row 1095: <urlopen error [Errno 11001] getaddrinfo failed> (3590940605.py:process_row:54)\n",
      "2024-08-14 10:37:12,556 - micro - MainProcess - ERROR    Error processing row 1096: <urlopen error [Errno 11001] getaddrinfo failed> (3590940605.py:process_row:54)\n",
      "2024-08-14 10:37:12,557 - micro - MainProcess - INFO     Processing row 1097: Full Path: utils\\data\\scanned\\test\\presentation\\presentation_27.png, Document Type: presentation (3590940605.py:process_row:31)\n",
      "2024-08-14 10:37:12,561 - micro - MainProcess - INFO     Processing row 1098: Full Path: utils\\data\\scanned\\test\\presentation\\presentation_28.png, Document Type: presentation (3590940605.py:process_row:31)\n",
      "2024-08-14 10:37:12,571 - micro - MainProcess - ERROR    Error processing row 1097: <urlopen error [Errno 11001] getaddrinfo failed> (3590940605.py:process_row:54)\n",
      "2024-08-14 10:37:12,576 - micro - MainProcess - ERROR    Error processing row 1098: <urlopen error [Errno 11001] getaddrinfo failed> (3590940605.py:process_row:54)\n",
      "2024-08-14 10:37:12,577 - micro - MainProcess - INFO     Processing row 1099: Full Path: utils\\data\\scanned\\test\\presentation\\presentation_29.png, Document Type: presentation (3590940605.py:process_row:31)\n",
      "2024-08-14 10:37:12,582 - micro - MainProcess - INFO     Processing row 1170: Full Path: utils\\data\\scanned\\test\\specification\\specification_0.png, Document Type: specification (3590940605.py:process_row:31)\n",
      "2024-08-14 10:37:12,594 - micro - MainProcess - ERROR    Error processing row 1099: <urlopen error [Errno 11001] getaddrinfo failed> (3590940605.py:process_row:54)\n",
      "2024-08-14 10:37:12,594 - micro - MainProcess - ERROR    Error processing row 1170: <urlopen error [Errno 11001] getaddrinfo failed> (3590940605.py:process_row:54)\n",
      "2024-08-14 10:37:12,598 - micro - MainProcess - INFO     Processing row 1171: Full Path: utils\\data\\scanned\\test\\specification\\specification_1.png, Document Type: specification (3590940605.py:process_row:31)\n",
      "2024-08-14 10:37:12,601 - micro - MainProcess - INFO     Processing row 1172: Full Path: utils\\data\\scanned\\test\\specification\\specification_2.png, Document Type: specification (3590940605.py:process_row:31)\n",
      "2024-08-14 10:37:12,610 - micro - MainProcess - ERROR    Error processing row 1171: <urlopen error [Errno 11001] getaddrinfo failed> (3590940605.py:process_row:54)\n",
      "2024-08-14 10:37:12,612 - micro - MainProcess - ERROR    Error processing row 1172: <urlopen error [Errno 11001] getaddrinfo failed> (3590940605.py:process_row:54)\n",
      "2024-08-14 10:37:12,613 - micro - MainProcess - INFO     Processing row 1173: Full Path: utils\\data\\scanned\\test\\specification\\specification_3.png, Document Type: specification (3590940605.py:process_row:31)\n",
      "2024-08-14 10:37:12,616 - micro - MainProcess - INFO     Processing row 1174: Full Path: utils\\data\\scanned\\test\\specification\\specification_4.png, Document Type: specification (3590940605.py:process_row:31)\n",
      "2024-08-14 10:37:12,671 - micro - MainProcess - ERROR    Error processing row 1174: <urlopen error [Errno 11001] getaddrinfo failed> (3590940605.py:process_row:54)\n",
      "2024-08-14 10:37:12,713 - micro - MainProcess - INFO     Processing row 1175: Full Path: utils\\data\\scanned\\test\\specification\\specification_5.png, Document Type: specification (3590940605.py:process_row:31)\n",
      "2024-08-14 10:37:12,716 - micro - MainProcess - ERROR    Error processing row 1173: <urlopen error [Errno 11001] getaddrinfo failed> (3590940605.py:process_row:54)\n",
      "2024-08-14 10:37:12,761 - micro - MainProcess - INFO     Processing row 1176: Full Path: utils\\data\\scanned\\test\\specification\\specification_6.png, Document Type: specification (3590940605.py:process_row:31)\n",
      "2024-08-14 10:37:12,768 - micro - MainProcess - ERROR    Error processing row 1175: <urlopen error [Errno 11001] getaddrinfo failed> (3590940605.py:process_row:54)\n",
      "2024-08-14 10:37:12,771 - micro - MainProcess - INFO     Processing row 1177: Full Path: utils\\data\\scanned\\test\\specification\\specification_7.png, Document Type: specification (3590940605.py:process_row:31)\n",
      "2024-08-14 10:37:12,804 - micro - MainProcess - ERROR    Error processing row 1177: <urlopen error [Errno 11001] getaddrinfo failed> (3590940605.py:process_row:54)\n",
      "2024-08-14 10:37:12,807 - micro - MainProcess - ERROR    Error processing row 1176: <urlopen error [Errno 11001] getaddrinfo failed> (3590940605.py:process_row:54)\n",
      "2024-08-14 10:37:12,809 - micro - MainProcess - INFO     Processing row 1178: Full Path: utils\\data\\scanned\\test\\specification\\specification_8.png, Document Type: specification (3590940605.py:process_row:31)\n",
      "2024-08-14 10:37:12,814 - micro - MainProcess - INFO     Processing row 1179: Full Path: utils\\data\\scanned\\test\\specification\\specification_9.png, Document Type: specification (3590940605.py:process_row:31)\n",
      "2024-08-14 10:37:12,826 - micro - MainProcess - ERROR    Error processing row 1178: <urlopen error [Errno 11001] getaddrinfo failed> (3590940605.py:process_row:54)\n",
      "2024-08-14 10:37:12,829 - micro - MainProcess - INFO     Processing row 1180: Full Path: utils\\data\\scanned\\test\\specification\\specification_10.png, Document Type: specification (3590940605.py:process_row:31)\n",
      "2024-08-14 10:37:12,830 - micro - MainProcess - ERROR    Error processing row 1179: <urlopen error [Errno 11001] getaddrinfo failed> (3590940605.py:process_row:54)\n",
      "2024-08-14 10:37:12,835 - micro - MainProcess - INFO     Processing row 1181: Full Path: utils\\data\\scanned\\test\\specification\\specification_11.png, Document Type: specification (3590940605.py:process_row:31)\n",
      "2024-08-14 10:37:12,844 - micro - MainProcess - ERROR    Error processing row 1180: <urlopen error [Errno 11001] getaddrinfo failed> (3590940605.py:process_row:54)\n",
      "2024-08-14 10:37:12,848 - micro - MainProcess - INFO     Processing row 1182: Full Path: utils\\data\\scanned\\test\\specification\\specification_12.png, Document Type: specification (3590940605.py:process_row:31)\n",
      "2024-08-14 10:37:12,862 - micro - MainProcess - ERROR    Error processing row 1181: <urlopen error [Errno 11001] getaddrinfo failed> (3590940605.py:process_row:54)\n",
      "2024-08-14 10:37:12,866 - micro - MainProcess - INFO     Processing row 1183: Full Path: utils\\data\\scanned\\test\\specification\\specification_13.png, Document Type: specification (3590940605.py:process_row:31)\n",
      "2024-08-14 10:37:12,873 - micro - MainProcess - ERROR    Error processing row 1182: <urlopen error [Errno 11001] getaddrinfo failed> (3590940605.py:process_row:54)\n",
      "2024-08-14 10:37:12,875 - micro - MainProcess - INFO     Processing row 1184: Full Path: utils\\data\\scanned\\test\\specification\\specification_14.png, Document Type: specification (3590940605.py:process_row:31)\n",
      "2024-08-14 10:37:12,881 - micro - MainProcess - ERROR    Error processing row 1183: <urlopen error [Errno 11001] getaddrinfo failed> (3590940605.py:process_row:54)\n",
      "2024-08-14 10:37:12,884 - micro - MainProcess - INFO     Processing row 1185: Full Path: utils\\data\\scanned\\test\\specification\\specification_15.png, Document Type: specification (3590940605.py:process_row:31)\n",
      "2024-08-14 10:37:12,892 - micro - MainProcess - ERROR    Error processing row 1184: <urlopen error [Errno 11001] getaddrinfo failed> (3590940605.py:process_row:54)\n",
      "2024-08-14 10:37:12,897 - micro - MainProcess - INFO     Processing row 1186: Full Path: utils\\data\\scanned\\test\\specification\\specification_16.png, Document Type: specification (3590940605.py:process_row:31)\n",
      "2024-08-14 10:37:12,897 - micro - MainProcess - ERROR    Error processing row 1185: <urlopen error [Errno 11001] getaddrinfo failed> (3590940605.py:process_row:54)\n",
      "2024-08-14 10:37:12,903 - micro - MainProcess - INFO     Processing row 1187: Full Path: utils\\data\\scanned\\test\\specification\\specification_17.png, Document Type: specification (3590940605.py:process_row:31)\n",
      "2024-08-14 10:37:12,910 - micro - MainProcess - ERROR    Error processing row 1186: <urlopen error [Errno 11001] getaddrinfo failed> (3590940605.py:process_row:54)\n",
      "2024-08-14 10:37:12,912 - micro - MainProcess - ERROR    Error processing row 1187: <urlopen error [Errno 11001] getaddrinfo failed> (3590940605.py:process_row:54)\n",
      "2024-08-14 10:37:12,914 - micro - MainProcess - INFO     Processing row 1188: Full Path: utils\\data\\scanned\\test\\specification\\specification_18.png, Document Type: specification (3590940605.py:process_row:31)\n",
      "2024-08-14 10:37:12,917 - micro - MainProcess - INFO     Processing row 1189: Full Path: utils\\data\\scanned\\test\\specification\\specification_19.png, Document Type: specification (3590940605.py:process_row:31)\n",
      "2024-08-14 10:37:12,928 - micro - MainProcess - ERROR    Error processing row 1188: <urlopen error [Errno 11001] getaddrinfo failed> (3590940605.py:process_row:54)\n",
      "2024-08-14 10:37:12,932 - micro - MainProcess - ERROR    Error processing row 1189: <urlopen error [Errno 11001] getaddrinfo failed> (3590940605.py:process_row:54)\n",
      "2024-08-14 10:37:12,934 - micro - MainProcess - INFO     Processing row 1190: Full Path: utils\\data\\scanned\\test\\specification\\specification_20.png, Document Type: specification (3590940605.py:process_row:31)\n",
      "2024-08-14 10:37:12,939 - micro - MainProcess - INFO     Processing row 1191: Full Path: utils\\data\\scanned\\test\\specification\\specification_21.png, Document Type: specification (3590940605.py:process_row:31)\n",
      "2024-08-14 10:37:12,956 - micro - MainProcess - ERROR    Error processing row 1190: <urlopen error [Errno 11001] getaddrinfo failed> (3590940605.py:process_row:54)\n",
      "2024-08-14 10:37:12,959 - micro - MainProcess - ERROR    Error processing row 1191: <urlopen error [Errno 11001] getaddrinfo failed> (3590940605.py:process_row:54)\n",
      "2024-08-14 10:37:12,965 - micro - MainProcess - INFO     Processing row 1193: Full Path: utils\\data\\scanned\\test\\specification\\specification_23.png, Document Type: specification (3590940605.py:process_row:31)\n",
      "2024-08-14 10:37:12,960 - micro - MainProcess - INFO     Processing row 1192: Full Path: utils\\data\\scanned\\test\\specification\\specification_22.png, Document Type: specification (3590940605.py:process_row:31)\n",
      "2024-08-14 10:37:12,982 - micro - MainProcess - ERROR    Error processing row 1193: <urlopen error [Errno 11001] getaddrinfo failed> (3590940605.py:process_row:54)\n",
      "2024-08-14 10:37:12,982 - micro - MainProcess - ERROR    Error processing row 1192: <urlopen error [Errno 11001] getaddrinfo failed> (3590940605.py:process_row:54)\n",
      "2024-08-14 10:37:12,985 - micro - MainProcess - INFO     Processing row 1194: Full Path: utils\\data\\scanned\\test\\specification\\specification_24.png, Document Type: specification (3590940605.py:process_row:31)\n",
      "2024-08-14 10:37:12,988 - micro - MainProcess - INFO     Processing row 1195: Full Path: utils\\data\\scanned\\test\\specification\\specification_25.png, Document Type: specification (3590940605.py:process_row:31)\n",
      "2024-08-14 10:37:12,998 - micro - MainProcess - ERROR    Error processing row 1194: <urlopen error [Errno 11001] getaddrinfo failed> (3590940605.py:process_row:54)\n",
      "2024-08-14 10:37:13,002 - micro - MainProcess - INFO     Processing row 1196: Full Path: utils\\data\\scanned\\test\\specification\\specification_26.png, Document Type: specification (3590940605.py:process_row:31)\n",
      "2024-08-14 10:37:13,004 - micro - MainProcess - ERROR    Error processing row 1195: <urlopen error [Errno 11001] getaddrinfo failed> (3590940605.py:process_row:54)\n",
      "2024-08-14 10:37:13,007 - micro - MainProcess - INFO     Processing row 1197: Full Path: utils\\data\\scanned\\test\\specification\\specification_27.png, Document Type: specification (3590940605.py:process_row:31)\n",
      "2024-08-14 10:37:13,013 - micro - MainProcess - ERROR    Error processing row 1196: <urlopen error [Errno 11001] getaddrinfo failed> (3590940605.py:process_row:54)\n",
      "2024-08-14 10:37:13,015 - micro - MainProcess - INFO     Processing row 1198: Full Path: utils\\data\\scanned\\test\\specification\\specification_28.png, Document Type: specification (3590940605.py:process_row:31)\n",
      "2024-08-14 10:37:13,023 - micro - MainProcess - ERROR    Error processing row 1197: <urlopen error [Errno 11001] getaddrinfo failed> (3590940605.py:process_row:54)\n",
      "2024-08-14 10:37:13,035 - micro - MainProcess - INFO     Processing row 1199: Full Path: utils\\data\\scanned\\test\\specification\\specification_29.png, Document Type: specification (3590940605.py:process_row:31)\n",
      "2024-08-14 10:37:13,040 - micro - MainProcess - ERROR    Error processing row 1198: <urlopen error [Errno 11001] getaddrinfo failed> (3590940605.py:process_row:54)\n",
      "2024-08-14 10:37:13,048 - micro - MainProcess - INFO     Processing row 1270: Full Path: utils\\data\\scanned\\test\\email\\email_0.png, Document Type: email (3590940605.py:process_row:31)\n",
      "2024-08-14 10:37:13,055 - micro - MainProcess - ERROR    Error processing row 1199: <urlopen error [Errno 11001] getaddrinfo failed> (3590940605.py:process_row:54)\n",
      "2024-08-14 10:37:13,057 - micro - MainProcess - ERROR    Error processing row 1270: <urlopen error [Errno 11001] getaddrinfo failed> (3590940605.py:process_row:54)\n",
      "2024-08-14 10:37:13,059 - micro - MainProcess - INFO     Processing row 1271: Full Path: utils\\data\\scanned\\test\\email\\email_1.png, Document Type: email (3590940605.py:process_row:31)\n",
      "2024-08-14 10:37:13,062 - micro - MainProcess - INFO     Processing row 1272: Full Path: utils\\data\\scanned\\test\\email\\email_2.png, Document Type: email (3590940605.py:process_row:31)\n",
      "2024-08-14 10:37:13,074 - micro - MainProcess - ERROR    Error processing row 1271: <urlopen error [Errno 11001] getaddrinfo failed> (3590940605.py:process_row:54)\n",
      "2024-08-14 10:37:13,075 - micro - MainProcess - ERROR    Error processing row 1272: <urlopen error [Errno 11001] getaddrinfo failed> (3590940605.py:process_row:54)\n",
      "2024-08-14 10:37:13,077 - micro - MainProcess - INFO     Processing row 1273: Full Path: utils\\data\\scanned\\test\\email\\email_3.png, Document Type: email (3590940605.py:process_row:31)\n",
      "2024-08-14 10:37:13,081 - micro - MainProcess - INFO     Processing row 1274: Full Path: utils\\data\\scanned\\test\\email\\email_4.png, Document Type: email (3590940605.py:process_row:31)\n",
      "2024-08-14 10:37:13,090 - micro - MainProcess - ERROR    Error processing row 1273: <urlopen error [Errno 11001] getaddrinfo failed> (3590940605.py:process_row:54)\n",
      "2024-08-14 10:37:13,093 - micro - MainProcess - ERROR    Error processing row 1274: <urlopen error [Errno 11001] getaddrinfo failed> (3590940605.py:process_row:54)\n",
      "2024-08-14 10:37:13,094 - micro - MainProcess - INFO     Processing row 1275: Full Path: utils\\data\\scanned\\test\\email\\email_5.png, Document Type: email (3590940605.py:process_row:31)\n",
      "2024-08-14 10:37:13,096 - micro - MainProcess - INFO     Processing row 1276: Full Path: utils\\data\\scanned\\test\\email\\email_6.png, Document Type: email (3590940605.py:process_row:31)\n",
      "2024-08-14 10:37:13,106 - micro - MainProcess - ERROR    Error processing row 1275: <urlopen error [Errno 11001] getaddrinfo failed> (3590940605.py:process_row:54)\n",
      "2024-08-14 10:37:13,109 - micro - MainProcess - INFO     Processing row 1277: Full Path: utils\\data\\scanned\\test\\email\\email_7.png, Document Type: email (3590940605.py:process_row:31)\n",
      "2024-08-14 10:37:13,114 - micro - MainProcess - ERROR    Error processing row 1276: <urlopen error [Errno 11001] getaddrinfo failed> (3590940605.py:process_row:54)\n",
      "2024-08-14 10:37:13,116 - micro - MainProcess - INFO     Processing row 1278: Full Path: utils\\data\\scanned\\test\\email\\email_8.png, Document Type: email (3590940605.py:process_row:31)\n",
      "2024-08-14 10:37:13,122 - micro - MainProcess - ERROR    Error processing row 1277: <urlopen error [Errno 11001] getaddrinfo failed> (3590940605.py:process_row:54)\n",
      "2024-08-14 10:37:13,124 - micro - MainProcess - INFO     Processing row 1279: Full Path: utils\\data\\scanned\\test\\email\\email_9.png, Document Type: email (3590940605.py:process_row:31)\n",
      "2024-08-14 10:37:13,132 - micro - MainProcess - ERROR    Error processing row 1278: <urlopen error [Errno 11001] getaddrinfo failed> (3590940605.py:process_row:54)\n",
      "2024-08-14 10:37:13,137 - micro - MainProcess - INFO     Processing row 1280: Full Path: utils\\data\\scanned\\test\\email\\email_10.png, Document Type: email (3590940605.py:process_row:31)\n",
      "2024-08-14 10:37:13,139 - micro - MainProcess - ERROR    Error processing row 1279: <urlopen error [Errno 11001] getaddrinfo failed> (3590940605.py:process_row:54)\n",
      "2024-08-14 10:37:13,144 - micro - MainProcess - INFO     Processing row 1281: Full Path: utils\\data\\scanned\\test\\email\\email_11.png, Document Type: email (3590940605.py:process_row:31)\n",
      "2024-08-14 10:37:13,150 - micro - MainProcess - ERROR    Error processing row 1280: <urlopen error [Errno 11001] getaddrinfo failed> (3590940605.py:process_row:54)\n",
      "2024-08-14 10:37:13,155 - micro - MainProcess - INFO     Processing row 1282: Full Path: utils\\data\\scanned\\test\\email\\email_12.png, Document Type: email (3590940605.py:process_row:31)\n",
      "2024-08-14 10:37:13,157 - micro - MainProcess - ERROR    Error processing row 1281: <urlopen error [Errno 11001] getaddrinfo failed> (3590940605.py:process_row:54)\n",
      "2024-08-14 10:37:13,161 - micro - MainProcess - INFO     Processing row 1283: Full Path: utils\\data\\scanned\\test\\email\\email_13.png, Document Type: email (3590940605.py:process_row:31)\n",
      "2024-08-14 10:37:13,175 - micro - MainProcess - ERROR    Error processing row 1283: <urlopen error [Errno 11001] getaddrinfo failed> (3590940605.py:process_row:54)\n",
      "2024-08-14 10:37:13,177 - micro - MainProcess - ERROR    Error processing row 1282: <urlopen error [Errno 11001] getaddrinfo failed> (3590940605.py:process_row:54)\n",
      "2024-08-14 10:37:13,180 - micro - MainProcess - INFO     Processing row 1284: Full Path: utils\\data\\scanned\\test\\email\\email_14.png, Document Type: email (3590940605.py:process_row:31)\n",
      "2024-08-14 10:37:13,182 - micro - MainProcess - INFO     Processing row 1285: Full Path: utils\\data\\scanned\\test\\email\\email_15.png, Document Type: email (3590940605.py:process_row:31)\n",
      "2024-08-14 10:37:13,191 - micro - MainProcess - ERROR    Error processing row 1284: <urlopen error [Errno 11001] getaddrinfo failed> (3590940605.py:process_row:54)\n",
      "2024-08-14 10:37:13,194 - micro - MainProcess - ERROR    Error processing row 1285: <urlopen error [Errno 11001] getaddrinfo failed> (3590940605.py:process_row:54)\n",
      "2024-08-14 10:37:13,195 - micro - MainProcess - INFO     Processing row 1286: Full Path: utils\\data\\scanned\\test\\email\\email_16.png, Document Type: email (3590940605.py:process_row:31)\n",
      "2024-08-14 10:37:13,201 - micro - MainProcess - INFO     Processing row 1287: Full Path: utils\\data\\scanned\\test\\email\\email_17.png, Document Type: email (3590940605.py:process_row:31)\n",
      "2024-08-14 10:37:13,212 - micro - MainProcess - ERROR    Error processing row 1286: <urlopen error [Errno 11001] getaddrinfo failed> (3590940605.py:process_row:54)\n",
      "2024-08-14 10:37:13,213 - micro - MainProcess - INFO     Processing row 1288: Full Path: utils\\data\\scanned\\test\\email\\email_18.png, Document Type: email (3590940605.py:process_row:31)\n",
      "2024-08-14 10:37:13,222 - micro - MainProcess - ERROR    Error processing row 1287: <urlopen error [Errno 11001] getaddrinfo failed> (3590940605.py:process_row:54)\n",
      "2024-08-14 10:37:13,224 - micro - MainProcess - INFO     Processing row 1289: Full Path: utils\\data\\scanned\\test\\email\\email_19.png, Document Type: email (3590940605.py:process_row:31)\n",
      "2024-08-14 10:37:13,229 - micro - MainProcess - ERROR    Error processing row 1288: <urlopen error [Errno 11001] getaddrinfo failed> (3590940605.py:process_row:54)\n",
      "2024-08-14 10:37:13,233 - micro - MainProcess - INFO     Processing row 1290: Full Path: utils\\data\\scanned\\test\\email\\email_20.png, Document Type: email (3590940605.py:process_row:31)\n",
      "2024-08-14 10:37:13,234 - micro - MainProcess - ERROR    Error processing row 1289: <urlopen error [Errno 11001] getaddrinfo failed> (3590940605.py:process_row:54)\n",
      "2024-08-14 10:37:13,238 - micro - MainProcess - INFO     Processing row 1291: Full Path: utils\\data\\scanned\\test\\email\\email_21.png, Document Type: email (3590940605.py:process_row:31)\n",
      "2024-08-14 10:37:13,244 - micro - MainProcess - ERROR    Error processing row 1290: <urlopen error [Errno 11001] getaddrinfo failed> (3590940605.py:process_row:54)\n",
      "2024-08-14 10:37:13,247 - micro - MainProcess - INFO     Processing row 1292: Full Path: utils\\data\\scanned\\test\\email\\email_22.png, Document Type: email (3590940605.py:process_row:31)\n",
      "2024-08-14 10:37:13,251 - micro - MainProcess - ERROR    Error processing row 1291: <urlopen error [Errno 11001] getaddrinfo failed> (3590940605.py:process_row:54)\n",
      "2024-08-14 10:37:13,255 - micro - MainProcess - INFO     Processing row 1293: Full Path: utils\\data\\scanned\\test\\email\\email_23.png, Document Type: email (3590940605.py:process_row:31)\n",
      "2024-08-14 10:37:13,261 - micro - MainProcess - ERROR    Error processing row 1292: <urlopen error [Errno 11001] getaddrinfo failed> (3590940605.py:process_row:54)\n",
      "2024-08-14 10:37:13,263 - micro - MainProcess - INFO     Processing row 1294: Full Path: utils\\data\\scanned\\test\\email\\email_24.png, Document Type: email (3590940605.py:process_row:31)\n",
      "2024-08-14 10:37:13,269 - micro - MainProcess - ERROR    Error processing row 1293: <urlopen error [Errno 11001] getaddrinfo failed> (3590940605.py:process_row:54)\n",
      "2024-08-14 10:37:13,273 - micro - MainProcess - ERROR    Error processing row 1294: <urlopen error [Errno 11001] getaddrinfo failed> (3590940605.py:process_row:54)\n",
      "2024-08-14 10:37:13,275 - micro - MainProcess - INFO     Processing row 1295: Full Path: utils\\data\\scanned\\test\\email\\email_25.png, Document Type: email (3590940605.py:process_row:31)\n",
      "2024-08-14 10:37:13,277 - micro - MainProcess - INFO     Processing row 1296: Full Path: utils\\data\\scanned\\test\\email\\email_26.png, Document Type: email (3590940605.py:process_row:31)\n",
      "2024-08-14 10:37:13,288 - micro - MainProcess - ERROR    Error processing row 1295: <urlopen error [Errno 11001] getaddrinfo failed> (3590940605.py:process_row:54)\n",
      "2024-08-14 10:37:13,291 - micro - MainProcess - ERROR    Error processing row 1296: <urlopen error [Errno 11001] getaddrinfo failed> (3590940605.py:process_row:54)\n",
      "2024-08-14 10:37:13,291 - micro - MainProcess - INFO     Processing row 1297: Full Path: utils\\data\\scanned\\test\\email\\email_27.png, Document Type: email (3590940605.py:process_row:31)\n",
      "2024-08-14 10:37:13,294 - micro - MainProcess - INFO     Processing row 1298: Full Path: utils\\data\\scanned\\test\\email\\email_28.png, Document Type: email (3590940605.py:process_row:31)\n",
      "2024-08-14 10:37:13,303 - micro - MainProcess - ERROR    Error processing row 1297: <urlopen error [Errno 11001] getaddrinfo failed> (3590940605.py:process_row:54)\n",
      "2024-08-14 10:37:13,306 - micro - MainProcess - INFO     Processing row 1299: Full Path: utils\\data\\scanned\\test\\email\\email_29.png, Document Type: email (3590940605.py:process_row:31)\n",
      "2024-08-14 10:37:13,306 - micro - MainProcess - ERROR    Error processing row 1298: <urlopen error [Errno 11001] getaddrinfo failed> (3590940605.py:process_row:54)\n",
      "2024-08-14 10:37:13,311 - micro - MainProcess - INFO     Processing row 1370: Full Path: utils\\data\\scanned\\test\\letter\\letter_0.png, Document Type: letter (3590940605.py:process_row:31)\n",
      "2024-08-14 10:37:13,318 - micro - MainProcess - ERROR    Error processing row 1299: <urlopen error [Errno 11001] getaddrinfo failed> (3590940605.py:process_row:54)\n",
      "2024-08-14 10:37:13,322 - micro - MainProcess - ERROR    Error processing row 1370: <urlopen error [Errno 11001] getaddrinfo failed> (3590940605.py:process_row:54)\n",
      "2024-08-14 10:37:13,323 - micro - MainProcess - INFO     Processing row 1371: Full Path: utils\\data\\scanned\\test\\letter\\letter_1.png, Document Type: letter (3590940605.py:process_row:31)\n",
      "2024-08-14 10:37:13,325 - micro - MainProcess - INFO     Processing row 1372: Full Path: utils\\data\\scanned\\test\\letter\\letter_2.png, Document Type: letter (3590940605.py:process_row:31)\n",
      "2024-08-14 10:37:13,335 - micro - MainProcess - ERROR    Error processing row 1371: <urlopen error [Errno 11001] getaddrinfo failed> (3590940605.py:process_row:54)\n",
      "2024-08-14 10:37:13,336 - micro - MainProcess - ERROR    Error processing row 1372: <urlopen error [Errno 11001] getaddrinfo failed> (3590940605.py:process_row:54)\n",
      "2024-08-14 10:37:13,337 - micro - MainProcess - INFO     Processing row 1373: Full Path: utils\\data\\scanned\\test\\letter\\letter_3.png, Document Type: letter (3590940605.py:process_row:31)\n",
      "2024-08-14 10:37:13,339 - micro - MainProcess - INFO     Processing row 1374: Full Path: utils\\data\\scanned\\test\\letter\\letter_4.png, Document Type: letter (3590940605.py:process_row:31)\n",
      "2024-08-14 10:37:13,349 - micro - MainProcess - ERROR    Error processing row 1373: <urlopen error [Errno 11001] getaddrinfo failed> (3590940605.py:process_row:54)\n",
      "2024-08-14 10:37:13,353 - micro - MainProcess - ERROR    Error processing row 1374: <urlopen error [Errno 11001] getaddrinfo failed> (3590940605.py:process_row:54)\n",
      "2024-08-14 10:37:13,354 - micro - MainProcess - INFO     Processing row 1375: Full Path: utils\\data\\scanned\\test\\letter\\letter_5.png, Document Type: letter (3590940605.py:process_row:31)\n",
      "2024-08-14 10:37:13,356 - micro - MainProcess - INFO     Processing row 1376: Full Path: utils\\data\\scanned\\test\\letter\\letter_6.png, Document Type: letter (3590940605.py:process_row:31)\n",
      "2024-08-14 10:37:13,367 - micro - MainProcess - ERROR    Error processing row 1375: <urlopen error [Errno 11001] getaddrinfo failed> (3590940605.py:process_row:54)\n",
      "2024-08-14 10:37:13,370 - micro - MainProcess - INFO     Processing row 1377: Full Path: utils\\data\\scanned\\test\\letter\\letter_7.png, Document Type: letter (3590940605.py:process_row:31)\n",
      "2024-08-14 10:37:13,370 - micro - MainProcess - ERROR    Error processing row 1376: <urlopen error [Errno 11001] getaddrinfo failed> (3590940605.py:process_row:54)\n",
      "2024-08-14 10:37:13,377 - micro - MainProcess - INFO     Processing row 1378: Full Path: utils\\data\\scanned\\test\\letter\\letter_8.png, Document Type: letter (3590940605.py:process_row:31)\n",
      "2024-08-14 10:37:13,386 - micro - MainProcess - ERROR    Error processing row 1377: <urlopen error [Errno 11001] getaddrinfo failed> (3590940605.py:process_row:54)\n",
      "2024-08-14 10:37:13,388 - micro - MainProcess - INFO     Processing row 1379: Full Path: utils\\data\\scanned\\test\\letter\\letter_9.png, Document Type: letter (3590940605.py:process_row:31)\n",
      "2024-08-14 10:37:13,394 - micro - MainProcess - ERROR    Error processing row 1378: <urlopen error [Errno 11001] getaddrinfo failed> (3590940605.py:process_row:54)\n",
      "2024-08-14 10:37:13,396 - micro - MainProcess - INFO     Processing row 1380: Full Path: utils\\data\\scanned\\test\\letter\\letter_10.png, Document Type: letter (3590940605.py:process_row:31)\n",
      "2024-08-14 10:37:13,408 - micro - MainProcess - ERROR    Error processing row 1379: <urlopen error [Errno 11001] getaddrinfo failed> (3590940605.py:process_row:54)\n",
      "2024-08-14 10:37:13,412 - micro - MainProcess - INFO     Processing row 1381: Full Path: utils\\data\\scanned\\test\\letter\\letter_11.png, Document Type: letter (3590940605.py:process_row:31)\n",
      "2024-08-14 10:37:13,434 - micro - MainProcess - ERROR    Error processing row 1380: <urlopen error [Errno 11001] getaddrinfo failed> (3590940605.py:process_row:54)\n",
      "2024-08-14 10:37:13,438 - micro - MainProcess - INFO     Processing row 1382: Full Path: utils\\data\\scanned\\test\\letter\\letter_12.png, Document Type: letter (3590940605.py:process_row:31)\n",
      "2024-08-14 10:37:13,444 - micro - MainProcess - ERROR    Error processing row 1381: <urlopen error [Errno 11001] getaddrinfo failed> (3590940605.py:process_row:54)\n",
      "2024-08-14 10:37:13,449 - micro - MainProcess - INFO     Processing row 1383: Full Path: utils\\data\\scanned\\test\\letter\\letter_13.png, Document Type: letter (3590940605.py:process_row:31)\n",
      "2024-08-14 10:37:13,468 - micro - MainProcess - ERROR    Error processing row 1382: <urlopen error [Errno 11001] getaddrinfo failed> (3590940605.py:process_row:54)\n",
      "2024-08-14 10:37:13,473 - micro - MainProcess - INFO     Processing row 1384: Full Path: utils\\data\\scanned\\test\\letter\\letter_14.png, Document Type: letter (3590940605.py:process_row:31)\n",
      "2024-08-14 10:37:13,542 - micro - MainProcess - ERROR    Error processing row 1383: <urlopen error [Errno 11001] getaddrinfo failed> (3590940605.py:process_row:54)\n",
      "2024-08-14 10:37:13,555 - micro - MainProcess - INFO     Processing row 1385: Full Path: utils\\data\\scanned\\test\\letter\\letter_15.png, Document Type: letter (3590940605.py:process_row:31)\n",
      "2024-08-14 10:37:13,559 - micro - MainProcess - ERROR    Error processing row 1384: <urlopen error [Errno 11001] getaddrinfo failed> (3590940605.py:process_row:54)\n",
      "2024-08-14 10:37:13,563 - micro - MainProcess - INFO     Processing row 1386: Full Path: utils\\data\\scanned\\test\\letter\\letter_16.png, Document Type: letter (3590940605.py:process_row:31)\n",
      "2024-08-14 10:37:13,577 - micro - MainProcess - ERROR    Error processing row 1386: <urlopen error [Errno 11001] getaddrinfo failed> (3590940605.py:process_row:54)\n",
      "2024-08-14 10:37:13,577 - micro - MainProcess - ERROR    Error processing row 1385: <urlopen error [Errno 11001] getaddrinfo failed> (3590940605.py:process_row:54)\n",
      "2024-08-14 10:37:13,579 - micro - MainProcess - INFO     Processing row 1387: Full Path: utils\\data\\scanned\\test\\letter\\letter_17.png, Document Type: letter (3590940605.py:process_row:31)\n",
      "2024-08-14 10:37:13,584 - micro - MainProcess - INFO     Processing row 1388: Full Path: utils\\data\\scanned\\test\\letter\\letter_18.png, Document Type: letter (3590940605.py:process_row:31)\n",
      "2024-08-14 10:37:13,597 - micro - MainProcess - ERROR    Error processing row 1387: <urlopen error [Errno 11001] getaddrinfo failed> (3590940605.py:process_row:54)\n",
      "2024-08-14 10:37:13,607 - micro - MainProcess - INFO     Processing row 1389: Full Path: utils\\data\\scanned\\test\\letter\\letter_19.png, Document Type: letter (3590940605.py:process_row:31)\n",
      "2024-08-14 10:37:13,606 - micro - MainProcess - ERROR    Error processing row 1388: <urlopen error [Errno 11001] getaddrinfo failed> (3590940605.py:process_row:54)\n",
      "2024-08-14 10:37:13,613 - micro - MainProcess - INFO     Processing row 1390: Full Path: utils\\data\\scanned\\test\\letter\\letter_20.png, Document Type: letter (3590940605.py:process_row:31)\n",
      "2024-08-14 10:37:13,622 - micro - MainProcess - ERROR    Error processing row 1389: <urlopen error [Errno 11001] getaddrinfo failed> (3590940605.py:process_row:54)\n",
      "2024-08-14 10:37:13,645 - micro - MainProcess - INFO     Processing row 1391: Full Path: utils\\data\\scanned\\test\\letter\\letter_21.png, Document Type: letter (3590940605.py:process_row:31)\n",
      "2024-08-14 10:37:13,653 - micro - MainProcess - ERROR    Error processing row 1390: <urlopen error [Errno 11001] getaddrinfo failed> (3590940605.py:process_row:54)\n",
      "2024-08-14 10:37:13,654 - micro - MainProcess - INFO     Processing row 1392: Full Path: utils\\data\\scanned\\test\\letter\\letter_22.png, Document Type: letter (3590940605.py:process_row:31)\n",
      "2024-08-14 10:37:13,659 - micro - MainProcess - ERROR    Error processing row 1391: <urlopen error [Errno 11001] getaddrinfo failed> (3590940605.py:process_row:54)\n",
      "2024-08-14 10:37:13,662 - micro - MainProcess - INFO     Processing row 1393: Full Path: utils\\data\\scanned\\test\\letter\\letter_23.png, Document Type: letter (3590940605.py:process_row:31)\n",
      "2024-08-14 10:37:13,668 - micro - MainProcess - ERROR    Error processing row 1392: <urlopen error [Errno 11001] getaddrinfo failed> (3590940605.py:process_row:54)\n",
      "2024-08-14 10:37:13,672 - micro - MainProcess - INFO     Processing row 1394: Full Path: utils\\data\\scanned\\test\\letter\\letter_24.png, Document Type: letter (3590940605.py:process_row:31)\n",
      "2024-08-14 10:37:13,672 - micro - MainProcess - ERROR    Error processing row 1393: <urlopen error [Errno 11001] getaddrinfo failed> (3590940605.py:process_row:54)\n",
      "2024-08-14 10:37:13,678 - micro - MainProcess - INFO     Processing row 1395: Full Path: utils\\data\\scanned\\test\\letter\\letter_25.png, Document Type: letter (3590940605.py:process_row:31)\n",
      "2024-08-14 10:37:13,685 - micro - MainProcess - ERROR    Error processing row 1394: <urlopen error [Errno 11001] getaddrinfo failed> (3590940605.py:process_row:54)\n",
      "2024-08-14 10:37:13,687 - micro - MainProcess - INFO     Processing row 1396: Full Path: utils\\data\\scanned\\test\\letter\\letter_26.png, Document Type: letter (3590940605.py:process_row:31)\n",
      "2024-08-14 10:37:13,698 - micro - MainProcess - ERROR    Error processing row 1395: <urlopen error [Errno 11001] getaddrinfo failed> (3590940605.py:process_row:54)\n",
      "2024-08-14 10:37:13,702 - micro - MainProcess - INFO     Processing row 1397: Full Path: utils\\data\\scanned\\test\\letter\\letter_27.png, Document Type: letter (3590940605.py:process_row:31)\n",
      "2024-08-14 10:37:13,702 - micro - MainProcess - ERROR    Error processing row 1396: <urlopen error [Errno 11001] getaddrinfo failed> (3590940605.py:process_row:54)\n",
      "2024-08-14 10:37:13,709 - micro - MainProcess - INFO     Processing row 1398: Full Path: utils\\data\\scanned\\test\\letter\\letter_28.png, Document Type: letter (3590940605.py:process_row:31)\n",
      "2024-08-14 10:37:13,717 - micro - MainProcess - ERROR    Error processing row 1397: <urlopen error [Errno 11001] getaddrinfo failed> (3590940605.py:process_row:54)\n",
      "2024-08-14 10:37:13,719 - micro - MainProcess - INFO     Processing row 1399: Full Path: utils\\data\\scanned\\test\\letter\\letter_29.png, Document Type: letter (3590940605.py:process_row:31)\n",
      "2024-08-14 10:37:13,730 - micro - MainProcess - ERROR    Error processing row 1398: <urlopen error [Errno 11001] getaddrinfo failed> (3590940605.py:process_row:54)\n",
      "2024-08-14 10:37:13,734 - micro - MainProcess - INFO     Processing row 1470: Full Path: utils\\data\\scanned\\test\\advertisement\\advertisement_0.png, Document Type: advertisement (3590940605.py:process_row:31)\n",
      "2024-08-14 10:37:13,734 - micro - MainProcess - ERROR    Error processing row 1399: <urlopen error [Errno 11001] getaddrinfo failed> (3590940605.py:process_row:54)\n",
      "2024-08-14 10:37:13,738 - micro - MainProcess - INFO     Processing row 1471: Full Path: utils\\data\\scanned\\test\\advertisement\\advertisement_1.png, Document Type: advertisement (3590940605.py:process_row:31)\n",
      "2024-08-14 10:37:13,748 - micro - MainProcess - ERROR    Error processing row 1470: <urlopen error [Errno 11001] getaddrinfo failed> (3590940605.py:process_row:54)\n",
      "2024-08-14 10:37:13,753 - micro - MainProcess - INFO     Processing row 1472: Full Path: utils\\data\\scanned\\test\\advertisement\\advertisement_2.png, Document Type: advertisement (3590940605.py:process_row:31)\n",
      "2024-08-14 10:37:13,760 - micro - MainProcess - ERROR    Error processing row 1471: <urlopen error [Errno 11001] getaddrinfo failed> (3590940605.py:process_row:54)\n",
      "2024-08-14 10:37:13,764 - micro - MainProcess - INFO     Processing row 1473: Full Path: utils\\data\\scanned\\test\\advertisement\\advertisement_3.png, Document Type: advertisement (3590940605.py:process_row:31)\n",
      "2024-08-14 10:37:13,770 - micro - MainProcess - ERROR    Error processing row 1472: <urlopen error [Errno 11001] getaddrinfo failed> (3590940605.py:process_row:54)\n",
      "2024-08-14 10:37:13,773 - micro - MainProcess - INFO     Processing row 1474: Full Path: utils\\data\\scanned\\test\\advertisement\\advertisement_4.png, Document Type: advertisement (3590940605.py:process_row:31)\n",
      "2024-08-14 10:37:13,782 - micro - MainProcess - ERROR    Error processing row 1473: <urlopen error [Errno 11001] getaddrinfo failed> (3590940605.py:process_row:54)\n",
      "2024-08-14 10:37:13,782 - micro - MainProcess - ERROR    Error processing row 1474: <urlopen error [Errno 11001] getaddrinfo failed> (3590940605.py:process_row:54)\n",
      "2024-08-14 10:37:13,784 - micro - MainProcess - INFO     Processing row 1475: Full Path: utils\\data\\scanned\\test\\advertisement\\advertisement_5.png, Document Type: advertisement (3590940605.py:process_row:31)\n",
      "2024-08-14 10:37:13,787 - micro - MainProcess - INFO     Processing row 1476: Full Path: utils\\data\\scanned\\test\\advertisement\\advertisement_6.png, Document Type: advertisement (3590940605.py:process_row:31)\n",
      "2024-08-14 10:37:13,802 - micro - MainProcess - ERROR    Error processing row 1475: <urlopen error [Errno 11001] getaddrinfo failed> (3590940605.py:process_row:54)\n",
      "2024-08-14 10:37:13,803 - micro - MainProcess - INFO     Processing row 1477: Full Path: utils\\data\\scanned\\test\\advertisement\\advertisement_7.png, Document Type: advertisement (3590940605.py:process_row:31)\n",
      "2024-08-14 10:37:13,804 - micro - MainProcess - ERROR    Error processing row 1476: <urlopen error [Errno 11001] getaddrinfo failed> (3590940605.py:process_row:54)\n",
      "2024-08-14 10:37:13,810 - micro - MainProcess - INFO     Processing row 1478: Full Path: utils\\data\\scanned\\test\\advertisement\\advertisement_8.png, Document Type: advertisement (3590940605.py:process_row:31)\n",
      "2024-08-14 10:37:13,815 - micro - MainProcess - ERROR    Error processing row 1477: <urlopen error [Errno 11001] getaddrinfo failed> (3590940605.py:process_row:54)\n",
      "2024-08-14 10:37:13,819 - micro - MainProcess - INFO     Processing row 1479: Full Path: utils\\data\\scanned\\test\\advertisement\\advertisement_9.png, Document Type: advertisement (3590940605.py:process_row:31)\n",
      "2024-08-14 10:37:13,828 - micro - MainProcess - ERROR    Error processing row 1478: <urlopen error [Errno 11001] getaddrinfo failed> (3590940605.py:process_row:54)\n",
      "2024-08-14 10:37:13,834 - micro - MainProcess - INFO     Processing row 1480: Full Path: utils\\data\\scanned\\test\\advertisement\\advertisement_10.png, Document Type: advertisement (3590940605.py:process_row:31)\n",
      "2024-08-14 10:37:13,834 - micro - MainProcess - ERROR    Error processing row 1479: <urlopen error [Errno 11001] getaddrinfo failed> (3590940605.py:process_row:54)\n",
      "2024-08-14 10:37:13,840 - micro - MainProcess - INFO     Processing row 1481: Full Path: utils\\data\\scanned\\test\\advertisement\\advertisement_11.png, Document Type: advertisement (3590940605.py:process_row:31)\n",
      "2024-08-14 10:37:13,848 - micro - MainProcess - ERROR    Error processing row 1480: <urlopen error [Errno 11001] getaddrinfo failed> (3590940605.py:process_row:54)\n",
      "2024-08-14 10:37:13,853 - micro - MainProcess - INFO     Processing row 1482: Full Path: utils\\data\\scanned\\test\\advertisement\\advertisement_12.png, Document Type: advertisement (3590940605.py:process_row:31)\n",
      "2024-08-14 10:37:13,863 - micro - MainProcess - ERROR    Error processing row 1481: <urlopen error [Errno 11001] getaddrinfo failed> (3590940605.py:process_row:54)\n",
      "2024-08-14 10:37:13,867 - micro - MainProcess - INFO     Processing row 1483: Full Path: utils\\data\\scanned\\test\\advertisement\\advertisement_13.png, Document Type: advertisement (3590940605.py:process_row:31)\n",
      "2024-08-14 10:37:13,867 - micro - MainProcess - ERROR    Error processing row 1482: <urlopen error [Errno 11001] getaddrinfo failed> (3590940605.py:process_row:54)\n",
      "2024-08-14 10:37:13,872 - micro - MainProcess - INFO     Processing row 1484: Full Path: utils\\data\\scanned\\test\\advertisement\\advertisement_14.png, Document Type: advertisement (3590940605.py:process_row:31)\n",
      "2024-08-14 10:37:13,878 - micro - MainProcess - ERROR    Error processing row 1483: <urlopen error [Errno 11001] getaddrinfo failed> (3590940605.py:process_row:54)\n",
      "2024-08-14 10:37:13,884 - micro - MainProcess - INFO     Processing row 1485: Full Path: utils\\data\\scanned\\test\\advertisement\\advertisement_15.png, Document Type: advertisement (3590940605.py:process_row:31)\n",
      "2024-08-14 10:37:13,887 - micro - MainProcess - ERROR    Error processing row 1484: <urlopen error [Errno 11001] getaddrinfo failed> (3590940605.py:process_row:54)\n",
      "2024-08-14 10:37:13,909 - micro - MainProcess - INFO     Processing row 1486: Full Path: utils\\data\\scanned\\test\\advertisement\\advertisement_16.png, Document Type: advertisement (3590940605.py:process_row:31)\n",
      "2024-08-14 10:37:13,935 - micro - MainProcess - ERROR    Error processing row 1485: <urlopen error [Errno 11001] getaddrinfo failed> (3590940605.py:process_row:54)\n",
      "2024-08-14 10:37:13,938 - micro - MainProcess - INFO     Processing row 1487: Full Path: utils\\data\\scanned\\test\\advertisement\\advertisement_17.png, Document Type: advertisement (3590940605.py:process_row:31)\n",
      "2024-08-14 10:37:14,013 - micro - MainProcess - ERROR    Error processing row 1486: <urlopen error [Errno 11001] getaddrinfo failed> (3590940605.py:process_row:54)\n",
      "2024-08-14 10:37:14,017 - micro - MainProcess - INFO     Processing row 1488: Full Path: utils\\data\\scanned\\test\\advertisement\\advertisement_18.png, Document Type: advertisement (3590940605.py:process_row:31)\n",
      "2024-08-14 10:37:14,024 - micro - MainProcess - ERROR    Error processing row 1487: <urlopen error [Errno 11001] getaddrinfo failed> (3590940605.py:process_row:54)\n",
      "2024-08-14 10:37:14,028 - micro - MainProcess - INFO     Processing row 1489: Full Path: utils\\data\\scanned\\test\\advertisement\\advertisement_19.png, Document Type: advertisement (3590940605.py:process_row:31)\n",
      "2024-08-14 10:37:14,038 - micro - MainProcess - ERROR    Error processing row 1488: <urlopen error [Errno 11001] getaddrinfo failed> (3590940605.py:process_row:54)\n",
      "2024-08-14 10:37:14,041 - micro - MainProcess - INFO     Processing row 1490: Full Path: utils\\data\\scanned\\test\\advertisement\\advertisement_20.png, Document Type: advertisement (3590940605.py:process_row:31)\n",
      "2024-08-14 10:37:14,048 - micro - MainProcess - ERROR    Error processing row 1489: <urlopen error [Errno 11001] getaddrinfo failed> (3590940605.py:process_row:54)\n",
      "2024-08-14 10:37:14,052 - micro - MainProcess - INFO     Processing row 1491: Full Path: utils\\data\\scanned\\test\\advertisement\\advertisement_21.png, Document Type: advertisement (3590940605.py:process_row:31)\n",
      "2024-08-14 10:37:14,057 - micro - MainProcess - ERROR    Error processing row 1490: <urlopen error [Errno 11001] getaddrinfo failed> (3590940605.py:process_row:54)\n",
      "2024-08-14 10:37:14,059 - micro - MainProcess - INFO     Processing row 1492: Full Path: utils\\data\\scanned\\test\\advertisement\\advertisement_22.png, Document Type: advertisement (3590940605.py:process_row:31)\n",
      "2024-08-14 10:37:14,076 - micro - MainProcess - ERROR    Error processing row 1491: <urlopen error [Errno 11001] getaddrinfo failed> (3590940605.py:process_row:54)\n",
      "2024-08-14 10:37:14,088 - micro - MainProcess - ERROR    Error processing row 1492: <urlopen error [Errno 11001] getaddrinfo failed> (3590940605.py:process_row:54)\n",
      "2024-08-14 10:37:14,089 - micro - MainProcess - INFO     Processing row 1493: Full Path: utils\\data\\scanned\\test\\advertisement\\advertisement_23.png, Document Type: advertisement (3590940605.py:process_row:31)\n",
      "2024-08-14 10:37:14,094 - micro - MainProcess - INFO     Processing row 1494: Full Path: utils\\data\\scanned\\test\\advertisement\\advertisement_24.png, Document Type: advertisement (3590940605.py:process_row:31)\n",
      "2024-08-14 10:37:14,105 - micro - MainProcess - ERROR    Error processing row 1493: <urlopen error [Errno 11001] getaddrinfo failed> (3590940605.py:process_row:54)\n",
      "2024-08-14 10:37:14,109 - micro - MainProcess - INFO     Processing row 1495: Full Path: utils\\data\\scanned\\test\\advertisement\\advertisement_25.png, Document Type: advertisement (3590940605.py:process_row:31)\n",
      "2024-08-14 10:37:14,110 - micro - MainProcess - ERROR    Error processing row 1494: <urlopen error [Errno 11001] getaddrinfo failed> (3590940605.py:process_row:54)\n",
      "2024-08-14 10:37:14,116 - micro - MainProcess - INFO     Processing row 1496: Full Path: utils\\data\\scanned\\test\\advertisement\\advertisement_26.png, Document Type: advertisement (3590940605.py:process_row:31)\n",
      "2024-08-14 10:37:14,121 - micro - MainProcess - ERROR    Error processing row 1495: <urlopen error [Errno 11001] getaddrinfo failed> (3590940605.py:process_row:54)\n",
      "2024-08-14 10:37:14,123 - micro - MainProcess - INFO     Processing row 1497: Full Path: utils\\data\\scanned\\test\\advertisement\\advertisement_27.png, Document Type: advertisement (3590940605.py:process_row:31)\n",
      "2024-08-14 10:37:14,143 - micro - MainProcess - ERROR    Error processing row 1496: <urlopen error [Errno 11001] getaddrinfo failed> (3590940605.py:process_row:54)\n",
      "2024-08-14 10:37:14,143 - micro - MainProcess - ERROR    Error processing row 1497: <urlopen error [Errno 11001] getaddrinfo failed> (3590940605.py:process_row:54)\n",
      "2024-08-14 10:37:14,145 - micro - MainProcess - INFO     Processing row 1498: Full Path: utils\\data\\scanned\\test\\advertisement\\advertisement_28.png, Document Type: advertisement (3590940605.py:process_row:31)\n",
      "2024-08-14 10:37:14,148 - micro - MainProcess - INFO     Processing row 1499: Full Path: utils\\data\\scanned\\test\\advertisement\\advertisement_29.png, Document Type: advertisement (3590940605.py:process_row:31)\n",
      "2024-08-14 10:37:14,162 - micro - MainProcess - ERROR    Error processing row 1498: <urlopen error [Errno 11001] getaddrinfo failed> (3590940605.py:process_row:54)\n",
      "2024-08-14 10:37:14,164 - micro - MainProcess - ERROR    Error processing row 1499: <urlopen error [Errno 11001] getaddrinfo failed> (3590940605.py:process_row:54)\n",
      "2024-08-14 10:37:14,166 - micro - MainProcess - INFO     Processing row 1570: Full Path: utils\\data\\scanned\\test\\memo\\memo_0.png, Document Type: memo (3590940605.py:process_row:31)\n",
      "2024-08-14 10:37:14,169 - micro - MainProcess - INFO     Processing row 1571: Full Path: utils\\data\\scanned\\test\\memo\\memo_1.png, Document Type: memo (3590940605.py:process_row:31)\n",
      "2024-08-14 10:37:14,179 - micro - MainProcess - ERROR    Error processing row 1570: <urlopen error [Errno 11001] getaddrinfo failed> (3590940605.py:process_row:54)\n",
      "2024-08-14 10:37:14,181 - micro - MainProcess - ERROR    Error processing row 1571: <urlopen error [Errno 11001] getaddrinfo failed> (3590940605.py:process_row:54)\n",
      "2024-08-14 10:37:14,181 - micro - MainProcess - INFO     Processing row 1572: Full Path: utils\\data\\scanned\\test\\memo\\memo_2.png, Document Type: memo (3590940605.py:process_row:31)\n",
      "2024-08-14 10:37:14,184 - micro - MainProcess - INFO     Processing row 1573: Full Path: utils\\data\\scanned\\test\\memo\\memo_3.png, Document Type: memo (3590940605.py:process_row:31)\n",
      "2024-08-14 10:37:14,195 - micro - MainProcess - ERROR    Error processing row 1572: <urlopen error [Errno 11001] getaddrinfo failed> (3590940605.py:process_row:54)\n",
      "2024-08-14 10:37:14,196 - micro - MainProcess - ERROR    Error processing row 1573: <urlopen error [Errno 11001] getaddrinfo failed> (3590940605.py:process_row:54)\n",
      "2024-08-14 10:37:14,198 - micro - MainProcess - INFO     Processing row 1574: Full Path: utils\\data\\scanned\\test\\memo\\memo_4.png, Document Type: memo (3590940605.py:process_row:31)\n",
      "2024-08-14 10:37:14,203 - micro - MainProcess - INFO     Processing row 1575: Full Path: utils\\data\\scanned\\test\\memo\\memo_5.png, Document Type: memo (3590940605.py:process_row:31)\n",
      "2024-08-14 10:37:14,214 - micro - MainProcess - ERROR    Error processing row 1574: <urlopen error [Errno 11001] getaddrinfo failed> (3590940605.py:process_row:54)\n",
      "2024-08-14 10:37:14,216 - micro - MainProcess - ERROR    Error processing row 1575: <urlopen error [Errno 11001] getaddrinfo failed> (3590940605.py:process_row:54)\n",
      "2024-08-14 10:37:14,217 - micro - MainProcess - INFO     Processing row 1576: Full Path: utils\\data\\scanned\\test\\memo\\memo_6.png, Document Type: memo (3590940605.py:process_row:31)\n",
      "2024-08-14 10:37:14,220 - micro - MainProcess - INFO     Processing row 1577: Full Path: utils\\data\\scanned\\test\\memo\\memo_7.png, Document Type: memo (3590940605.py:process_row:31)\n",
      "2024-08-14 10:37:14,232 - micro - MainProcess - ERROR    Error processing row 1576: <urlopen error [Errno 11001] getaddrinfo failed> (3590940605.py:process_row:54)\n",
      "2024-08-14 10:37:14,234 - micro - MainProcess - ERROR    Error processing row 1577: <urlopen error [Errno 11001] getaddrinfo failed> (3590940605.py:process_row:54)\n",
      "2024-08-14 10:37:14,235 - micro - MainProcess - INFO     Processing row 1578: Full Path: utils\\data\\scanned\\test\\memo\\memo_8.png, Document Type: memo (3590940605.py:process_row:31)\n",
      "2024-08-14 10:37:14,239 - micro - MainProcess - INFO     Processing row 1579: Full Path: utils\\data\\scanned\\test\\memo\\memo_9.png, Document Type: memo (3590940605.py:process_row:31)\n",
      "2024-08-14 10:37:14,249 - micro - MainProcess - ERROR    Error processing row 1578: <urlopen error [Errno 11001] getaddrinfo failed> (3590940605.py:process_row:54)\n",
      "2024-08-14 10:37:14,253 - micro - MainProcess - ERROR    Error processing row 1579: <urlopen error [Errno 11001] getaddrinfo failed> (3590940605.py:process_row:54)\n",
      "2024-08-14 10:37:14,253 - micro - MainProcess - INFO     Processing row 1580: Full Path: utils\\data\\scanned\\test\\memo\\memo_10.png, Document Type: memo (3590940605.py:process_row:31)\n",
      "2024-08-14 10:37:14,256 - micro - MainProcess - INFO     Processing row 1581: Full Path: utils\\data\\scanned\\test\\memo\\memo_11.png, Document Type: memo (3590940605.py:process_row:31)\n",
      "2024-08-14 10:37:14,280 - micro - MainProcess - ERROR    Error processing row 1580: <urlopen error [Errno 11001] getaddrinfo failed> (3590940605.py:process_row:54)\n",
      "2024-08-14 10:37:14,282 - micro - MainProcess - ERROR    Error processing row 1581: <urlopen error [Errno 11001] getaddrinfo failed> (3590940605.py:process_row:54)\n",
      "2024-08-14 10:37:14,283 - micro - MainProcess - INFO     Processing row 1582: Full Path: utils\\data\\scanned\\test\\memo\\memo_12.png, Document Type: memo (3590940605.py:process_row:31)\n",
      "2024-08-14 10:37:14,287 - micro - MainProcess - INFO     Processing row 1583: Full Path: utils\\data\\scanned\\test\\memo\\memo_13.png, Document Type: memo (3590940605.py:process_row:31)\n",
      "2024-08-14 10:37:14,298 - micro - MainProcess - ERROR    Error processing row 1582: <urlopen error [Errno 11001] getaddrinfo failed> (3590940605.py:process_row:54)\n",
      "2024-08-14 10:37:14,302 - micro - MainProcess - INFO     Processing row 1584: Full Path: utils\\data\\scanned\\test\\memo\\memo_14.png, Document Type: memo (3590940605.py:process_row:31)\n",
      "2024-08-14 10:37:14,303 - micro - MainProcess - ERROR    Error processing row 1583: <urlopen error [Errno 11001] getaddrinfo failed> (3590940605.py:process_row:54)\n",
      "2024-08-14 10:37:14,306 - micro - MainProcess - INFO     Processing row 1585: Full Path: utils\\data\\scanned\\test\\memo\\memo_15.png, Document Type: memo (3590940605.py:process_row:31)\n",
      "2024-08-14 10:37:14,313 - micro - MainProcess - ERROR    Error processing row 1584: <urlopen error [Errno 11001] getaddrinfo failed> (3590940605.py:process_row:54)\n",
      "2024-08-14 10:37:14,319 - micro - MainProcess - INFO     Processing row 1586: Full Path: utils\\data\\scanned\\test\\memo\\memo_16.png, Document Type: memo (3590940605.py:process_row:31)\n",
      "2024-08-14 10:37:14,320 - micro - MainProcess - ERROR    Error processing row 1585: <urlopen error [Errno 11001] getaddrinfo failed> (3590940605.py:process_row:54)\n",
      "2024-08-14 10:37:14,324 - micro - MainProcess - INFO     Processing row 1587: Full Path: utils\\data\\scanned\\test\\memo\\memo_17.png, Document Type: memo (3590940605.py:process_row:31)\n",
      "2024-08-14 10:37:14,332 - micro - MainProcess - ERROR    Error processing row 1586: <urlopen error [Errno 11001] getaddrinfo failed> (3590940605.py:process_row:54)\n",
      "2024-08-14 10:37:14,336 - micro - MainProcess - INFO     Processing row 1588: Full Path: utils\\data\\scanned\\test\\memo\\memo_18.png, Document Type: memo (3590940605.py:process_row:31)\n",
      "2024-08-14 10:37:14,336 - micro - MainProcess - ERROR    Error processing row 1587: <urlopen error [Errno 11001] getaddrinfo failed> (3590940605.py:process_row:54)\n",
      "2024-08-14 10:37:14,342 - micro - MainProcess - INFO     Processing row 1589: Full Path: utils\\data\\scanned\\test\\memo\\memo_19.png, Document Type: memo (3590940605.py:process_row:31)\n",
      "2024-08-14 10:37:14,349 - micro - MainProcess - ERROR    Error processing row 1588: <urlopen error [Errno 11001] getaddrinfo failed> (3590940605.py:process_row:54)\n",
      "2024-08-14 10:37:14,351 - micro - MainProcess - INFO     Processing row 1590: Full Path: utils\\data\\scanned\\test\\memo\\memo_20.png, Document Type: memo (3590940605.py:process_row:31)\n",
      "2024-08-14 10:37:14,359 - micro - MainProcess - ERROR    Error processing row 1589: <urlopen error [Errno 11001] getaddrinfo failed> (3590940605.py:process_row:54)\n",
      "2024-08-14 10:37:14,363 - micro - MainProcess - INFO     Processing row 1591: Full Path: utils\\data\\scanned\\test\\memo\\memo_21.png, Document Type: memo (3590940605.py:process_row:31)\n",
      "2024-08-14 10:37:14,364 - micro - MainProcess - ERROR    Error processing row 1590: <urlopen error [Errno 11001] getaddrinfo failed> (3590940605.py:process_row:54)\n",
      "2024-08-14 10:37:14,368 - micro - MainProcess - INFO     Processing row 1592: Full Path: utils\\data\\scanned\\test\\memo\\memo_22.png, Document Type: memo (3590940605.py:process_row:31)\n",
      "2024-08-14 10:37:14,374 - micro - MainProcess - ERROR    Error processing row 1591: <urlopen error [Errno 11001] getaddrinfo failed> (3590940605.py:process_row:54)\n",
      "2024-08-14 10:37:14,379 - micro - MainProcess - ERROR    Error processing row 1592: <urlopen error [Errno 11001] getaddrinfo failed> (3590940605.py:process_row:54)\n",
      "2024-08-14 10:37:14,380 - micro - MainProcess - INFO     Processing row 1593: Full Path: utils\\data\\scanned\\test\\memo\\memo_23.png, Document Type: memo (3590940605.py:process_row:31)\n",
      "2024-08-14 10:37:14,383 - micro - MainProcess - INFO     Processing row 1594: Full Path: utils\\data\\scanned\\test\\memo\\memo_24.png, Document Type: memo (3590940605.py:process_row:31)\n",
      "2024-08-14 10:37:14,392 - micro - MainProcess - ERROR    Error processing row 1593: <urlopen error [Errno 11001] getaddrinfo failed> (3590940605.py:process_row:54)\n",
      "2024-08-14 10:37:14,393 - micro - MainProcess - ERROR    Error processing row 1594: <urlopen error [Errno 11001] getaddrinfo failed> (3590940605.py:process_row:54)\n",
      "2024-08-14 10:37:14,394 - micro - MainProcess - INFO     Processing row 1595: Full Path: utils\\data\\scanned\\test\\memo\\memo_25.png, Document Type: memo (3590940605.py:process_row:31)\n",
      "2024-08-14 10:37:14,397 - micro - MainProcess - INFO     Processing row 1596: Full Path: utils\\data\\scanned\\test\\memo\\memo_26.png, Document Type: memo (3590940605.py:process_row:31)\n",
      "2024-08-14 10:37:14,406 - micro - MainProcess - ERROR    Error processing row 1595: <urlopen error [Errno 11001] getaddrinfo failed> (3590940605.py:process_row:54)\n",
      "2024-08-14 10:37:14,411 - micro - MainProcess - ERROR    Error processing row 1596: <urlopen error [Errno 11001] getaddrinfo failed> (3590940605.py:process_row:54)\n",
      "2024-08-14 10:37:14,411 - micro - MainProcess - INFO     Processing row 1597: Full Path: utils\\data\\scanned\\test\\memo\\memo_27.png, Document Type: memo (3590940605.py:process_row:31)\n",
      "2024-08-14 10:37:14,414 - micro - MainProcess - INFO     Processing row 1598: Full Path: utils\\data\\scanned\\test\\memo\\memo_28.png, Document Type: memo (3590940605.py:process_row:31)\n",
      "2024-08-14 10:37:14,427 - micro - MainProcess - ERROR    Error processing row 1597: <urlopen error [Errno 11001] getaddrinfo failed> (3590940605.py:process_row:54)\n",
      "2024-08-14 10:37:14,432 - micro - MainProcess - INFO     Processing row 1599: Full Path: utils\\data\\scanned\\test\\memo\\memo_29.png, Document Type: memo (3590940605.py:process_row:31)\n",
      "2024-08-14 10:37:14,433 - micro - MainProcess - ERROR    Error processing row 1598: <urlopen error [Errno 11001] getaddrinfo failed> (3590940605.py:process_row:54)\n",
      "2024-08-14 10:37:14,440 - micro - MainProcess - ERROR    Error processing row 1599: <urlopen error [Errno 11001] getaddrinfo failed> (3590940605.py:process_row:54)\n"
     ]
    }
   ],
   "source": [
    "import numpy as np\n",
    "from concurrent.futures import ThreadPoolExecutor, as_completed\n",
    "import threading\n",
    "from tabulate import tabulate\n",
    "import time\n",
    "\n",
    "y_true_list = []\n",
    "y_pred_list = []\n",
    "list_lock = threading.Lock()\n",
    "error_count = 0\n",
    "successful_times = []\n",
    "\n",
    "\n",
    "def process_row(index, row):\n",
    "    \"\"\"\n",
    "    Process a single row to generate chat response and return the true and predicted labels.\n",
    "\n",
    "    Parameters:\n",
    "    index (int): The index of the row.\n",
    "    row (pd.Series): The row data.\n",
    "\n",
    "    Returns:\n",
    "    tuple: A tuple containing the true label and predicted label.\n",
    "    \"\"\"\n",
    "    global error_count\n",
    "    start_time = time.time()\n",
    "    try:\n",
    "        full_path = row[\"location\"]\n",
    "        document_type = row[\"label\"]\n",
    "\n",
    "        logger.info(\n",
    "            f\"Processing row {index}: Full Path: {full_path}, Document Type: {document_type}\"\n",
    "        )\n",
    "\n",
    "        result_phi = phi_3_vision_inference(\n",
    "            prompt=CLASSIFICATION_PROMPT, image_path=full_path\n",
    "        )\n",
    "\n",
    "        if result_phi is None:\n",
    "            logger.warning(\n",
    "                f\"Result is None for index {index}. File location: {full_path}\"\n",
    "            )\n",
    "            error_count += 1\n",
    "            return (None, None)\n",
    "        else:\n",
    "            cleaned_result_4o = result_phi[\"output\"]\n",
    "            end_time = time.time()\n",
    "            successful_times.append(end_time - start_time)\n",
    "            logger.info(\n",
    "                f\"Successfully processed row {index} in {end_time - start_time:.4f} seconds.\"\n",
    "            )\n",
    "            return (document_type, cleaned_result_4o)\n",
    "    except Exception as e:\n",
    "        logger.error(f\"Error processing row {index}: {e}\")\n",
    "        error_count += 1\n",
    "        return (None, None)\n",
    "\n",
    "\n",
    "with ThreadPoolExecutor(max_workers=2) as executor:\n",
    "    futures = {\n",
    "        executor.submit(process_row, index, row): index\n",
    "        for index, row in df_test.iterrows()\n",
    "    }\n",
    "\n",
    "    for future in as_completed(futures):\n",
    "        true_label, pred_label = future.result()\n",
    "        if true_label is not None and pred_label is not None:\n",
    "            with list_lock:\n",
    "                y_true_list.append(true_label)\n",
    "                y_pred_list.append(pred_label)\n",
    "\n",
    "# Convert the lists to numpy arrays\n",
    "y_true = np.array(y_true_list)\n",
    "y_pred = np.array(y_pred_list)"
   ]
  },
  {
   "cell_type": "code",
   "execution_count": 11,
   "metadata": {},
   "outputs": [
    {
     "name": "stderr",
     "output_type": "stream",
     "text": [
      "2024-08-14 10:37:14,469 - micro - MainProcess - ERROR    No successful execution times recorded. (time.py:calculate_statistics:84)\n"
     ]
    }
   ],
   "source": [
    "from utils.time import calculate_statistics\n",
    "\n",
    "calculate_statistics(successful_times, error_count)"
   ]
  },
  {
   "cell_type": "code",
   "execution_count": 12,
   "metadata": {},
   "outputs": [
    {
     "data": {
      "text/plain": [
       "array([], dtype=float64)"
      ]
     },
     "execution_count": 12,
     "metadata": {},
     "output_type": "execute_result"
    }
   ],
   "source": [
    "y_true"
   ]
  },
  {
   "cell_type": "code",
   "execution_count": 13,
   "metadata": {},
   "outputs": [
    {
     "data": {
      "text/plain": [
       "array([], dtype=float64)"
      ]
     },
     "execution_count": 13,
     "metadata": {},
     "output_type": "execute_result"
    }
   ],
   "source": [
    "y_pred"
   ]
  },
  {
   "cell_type": "code",
   "execution_count": 14,
   "metadata": {},
   "outputs": [
    {
     "ename": "TypeError",
     "evalue": "evaluate_model() missing 1 required positional argument: 'labels'",
     "output_type": "error",
     "traceback": [
      "\u001b[1;31m---------------------------------------------------------------------------\u001b[0m",
      "\u001b[1;31mTypeError\u001b[0m                                 Traceback (most recent call last)",
      "Cell \u001b[1;32mIn[14], line 4\u001b[0m\n\u001b[0;32m      1\u001b[0m \u001b[38;5;28;01mfrom\u001b[39;00m \u001b[38;5;21;01msrc\u001b[39;00m\u001b[38;5;21;01m.\u001b[39;00m\u001b[38;5;21;01mevaluations\u001b[39;00m \u001b[38;5;28;01mimport\u001b[39;00m ml\n\u001b[0;32m      3\u001b[0m \u001b[38;5;66;03m# Evaluate the model with the simulated data\u001b[39;00m\n\u001b[1;32m----> 4\u001b[0m metrics, conf_matrix, class_report \u001b[38;5;241m=\u001b[39m \u001b[43mml\u001b[49m\u001b[38;5;241;43m.\u001b[39;49m\u001b[43mevaluate_model\u001b[49m\u001b[43m(\u001b[49m\n\u001b[0;32m      5\u001b[0m \u001b[43m    \u001b[49m\u001b[43my_true\u001b[49m\u001b[43m,\u001b[49m\u001b[43m \u001b[49m\u001b[43my_pred\u001b[49m\u001b[43m,\u001b[49m\u001b[43m \u001b[49m\u001b[43mshow_visualization\u001b[49m\u001b[38;5;241;43m=\u001b[39;49m\u001b[38;5;28;43;01mTrue\u001b[39;49;00m\n\u001b[0;32m      6\u001b[0m \u001b[43m)\u001b[49m\n",
      "\u001b[1;31mTypeError\u001b[0m: evaluate_model() missing 1 required positional argument: 'labels'"
     ]
    }
   ],
   "source": [
    "from src.evaluations import ml\n",
    "\n",
    "# Evaluate the model with the simulated data\n",
    "metrics, conf_matrix, class_report = ml.evaluate_model(\n",
    "    y_true, y_pred, show_visualization=True\n",
    ")"
   ]
  },
  {
   "cell_type": "markdown",
   "metadata": {},
   "source": [
    "## Conclusion\n",
    "\n",
    "Laveraging GPT-4 Omni with multimodality provides better out-of-the-box scores across all classes and offers improved latency compared to the previous method using Document Intelligence OCR and passing text to GPT-4 Omni. Some calculations could be refined with additional layers and performance engineering. So far, the multimodal method with GPT-4 Omni seems to be more performant in terms of quality and latency. In contrast, Phi-3 Vision requires fine-tuning to achieve similar performance, especially with the calculations. We will be addressing the fine-tuning here."
   ]
  }
 ],
 "metadata": {
  "kernelspec": {
   "display_name": "document-intelligence",
   "language": "python",
   "name": "python3"
  },
  "language_info": {
   "codemirror_mode": {
    "name": "ipython",
    "version": 3
   },
   "file_extension": ".py",
   "mimetype": "text/x-python",
   "name": "python",
   "nbconvert_exporter": "python",
   "pygments_lexer": "ipython3",
   "version": "3.9.18"
  }
 },
 "nbformat": 4,
 "nbformat_minor": 2
}
