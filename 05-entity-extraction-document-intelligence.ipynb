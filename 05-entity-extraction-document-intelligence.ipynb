{
 "cells": [
  {
   "cell_type": "markdown",
   "metadata": {},
   "source": [
    "## 📋 Table of Contents\n",
    "\n",
    "This notebook guides you through the following sections:\n",
    "\n",
    "1. [**NER and Summarization of Labeled Documents (`Invoice`) with GPT-4o Multimodality + Pydantic**](#optical-character-recognition-ocr-with-gpt-4o-multipack): We are using GPT-4o multimodality and the `instructor` library along with Pydantic to extract necessary data, provide summaries, and run validation for classified invoices."
   ]
  },
  {
   "cell_type": "code",
   "execution_count": 1,
   "metadata": {},
   "outputs": [
    {
     "name": "stdout",
     "output_type": "stream",
     "text": [
      "Directory changed to C:\\Users\\pablosal\\Desktop\\gbb-ai-smart-document-processing\n"
     ]
    }
   ],
   "source": [
    "import os\n",
    "\n",
    "# Define the target directory\n",
    "target_directory = r\"C:\\Users\\pablosal\\Desktop\\gbb-ai-smart-document-processing\"  # change your directory here\n",
    "\n",
    "# Check if the directory exists\n",
    "if os.path.exists(target_directory):\n",
    "    # Change the current working directory\n",
    "    os.chdir(target_directory)\n",
    "    print(f\"Directory changed to {os.getcwd()}\")\n",
    "else:\n",
    "    print(f\"Directory {target_directory} does not exist.\")"
   ]
  },
  {
   "cell_type": "code",
   "execution_count": 2,
   "metadata": {},
   "outputs": [
    {
     "name": "stderr",
     "output_type": "stream",
     "text": [
      "c:\\Users\\pablosal\\AppData\\Local\\anaconda3\\envs\\document-intelligence\\lib\\site-packages\\tqdm\\auto.py:21: TqdmWarning: IProgress not found. Please update jupyter and ipywidgets. See https://ipywidgets.readthedocs.io/en/stable/user_install.html\n",
      "  from .autonotebook import tqdm as notebook_tqdm\n"
     ]
    }
   ],
   "source": [
    "import instructor\n",
    "from openai import AzureOpenAI\n",
    "import os\n",
    "\n",
    "# Initialize the AzureOpenAI client\n",
    "client = instructor.from_openai(AzureOpenAI(\n",
    "    azure_endpoint=os.getenv(\"AZURE_OPENAI_ENDPOINT\"),\n",
    "    api_version=os.getenv(\"DEPLOYMENT_VERSION\"),\n",
    "    api_key=os.getenv(\"OPENAI_API_KEY\"),\n",
    "))"
   ]
  },
  {
   "cell_type": "code",
   "execution_count": 3,
   "metadata": {},
   "outputs": [
    {
     "name": "stderr",
     "output_type": "stream",
     "text": [
      "C:\\Users\\pablosal\\AppData\\Local\\Temp\\ipykernel_31432\\2633541655.py:21: PydanticDeprecatedSince20: Pydantic V1 style `@root_validator` validators are deprecated. You should migrate to Pydantic V2 style `@model_validator` validators, see the migration guide for more details. Deprecated in Pydantic V2.0 to be removed in V3.0. See Pydantic V2 Migration Guide at https://errors.pydantic.dev/2.8/migration/\n",
      "  @root_validator(pre=True)\n"
     ]
    }
   ],
   "source": [
    "import base64\n",
    "import os\n",
    "from pydantic import BaseModel, Field, ValidationError, root_validator\n",
    "from typing import Optional, List, Dict\n",
    "\n",
    "# Define the Pydantic models for items and invoices\n",
    "class Item(BaseModel):\n",
    "    name: str\n",
    "    price: float\n",
    "    quantity: int\n",
    "\n",
    "class Invoice(BaseModel):\n",
    "    items: List[Item]\n",
    "    total: float\n",
    "    reference_number: str\n",
    "    signature_on_document: str\n",
    "    origin_address: str\n",
    "    destination_address: str\n",
    "    summary: Optional[str] = None \n",
    "\n",
    "    @root_validator(pre=True)\n",
    "    def check_total_and_reference_number(cls, values):\n",
    "        items = values.get('items', [])\n",
    "        total = values.get('total')\n",
    "        reference_number = values.get('reference_number')\n",
    "        \n",
    "        # Check if the total matches the sum of item prices\n",
    "        calculated_total = sum(item['price'] * item['quantity'] for item in items)\n",
    "        if calculated_total != total:\n",
    "            raise ValueError(\n",
    "                f\"Total {total} does not match the sum of item prices {calculated_total}\"\n",
    "            )\n",
    "        \n",
    "        # Check if the reference number is present\n",
    "        if not reference_number:\n",
    "            raise ValueError(\"Reference number is missing\")\n",
    "        \n",
    "        return values\n",
    "\n",
    "def extract_receipt(file_path: str) -> Invoice:\n",
    "    with open(file_path, \"rb\") as image_file:\n",
    "        image_bytes = image_file.read()\n",
    "\n",
    "    # Encode the image in base64\n",
    "    encoded_image = base64.b64encode(image_bytes).decode(\"utf-8\")\n",
    "\n",
    "    # Create the user message with the encoded image\n",
    "    user_message = {\n",
    "        \"role\": \"user\",\n",
    "        \"content\": [\n",
    "            {\n",
    "         \"type\": \"image_url\",\n",
    "\"image_url\": {\n",
    "    \"url\": f\"data:image/jpeg;base64,{encoded_image}\",\n",
    "},\n",
    "},\n",
    "{\n",
    "    \"type\": \"text\",\n",
    "    \"text\": (\n",
    "        \"You will be analyzing an image of an invoice and extracting specific details from it. \"\n",
    "        \"When I provide an image, all further input from the 'Instructor:' will be related to extracting information from that image.\\n\\n\"\n",
    "        \"## Details to Extract:\\n\"\n",
    "        \"1. **Items**: For each item listed on the invoice, extract the following:\\n\"\n",
    "        \"   - **Name**: The name or description of the item.\\n\"\n",
    "        \"   - **Price**: The price of the item.\\n\"\n",
    "        \"   - **Quantity**: The quantity of the item.\\n\\n\"\n",
    "        \"2. **Total Amount**: Extract the total amount listed on the invoice.\\n\\n\"\n",
    "        \"3. **Signature**: Extract any signature present on the invoice. If no signature is present, indicate 'No signature present'.\\n\\n\"\n",
    "        \"4. **Origin Address**: Extract the origin address from the invoice.\\n\\n\"\n",
    "        \"5. **Destination Address**: Extract the destination address from the invoice.\\n\\n\"\n",
    "        \"6. **Reference Number**: Extract the reference number from the invoice. Ensure the reference number is correctly identified and extracted.\\n\\n\"\n",
    "        \"7. **Summary**: Provide a summary of the document, describing in detail what the document is about and some of the key details.\\n\\n\"\n",
    "        \"## Formatting Guidelines:\\n\"\n",
    "        \"Ensure the extracted information is clearly formatted as follows:\\n\\n\"\n",
    "        \"### Items:\\n\"\n",
    "        \"- **Item 1**: Name, Price, Quantity\\n\"\n",
    "        \"- **Item 2**: Name, Price, Quantity\\n\"\n",
    "        \"- (and so on for each item)\\n\\n\"\n",
    "        \"### Total Amount:\\n\"\n",
    "        \"- **Total Amount**: [Total Amount]\\n\\n\"\n",
    "        \"### Signature:\\n\"\n",
    "        \"- **Signature**: [Signature or 'No signature present']\\n\\n\"\n",
    "        \"### Origin Address:\\n\"\n",
    "        \"- **Origin Address**: [Origin Address]\\n\\n\"\n",
    "        \"### Destination Address:\\n\"\n",
    "        \"- **Destination Address**: [Destination Address]\\n\\n\"\n",
    "        \"### Reference Number:\\n\"\n",
    "        \"- **Reference Number**: [Reference Number]\\n\\n\"\n",
    "        \"### Summary:\\n\"\n",
    "        \"- **Summary**: [Summary]\\n\\n\"\n",
    "        \"## Accuracy:\\n\"\n",
    "        \"Ensure all details are accurate and clearly labeled. Double-check the extracted information to ensure it matches the details in the invoice image. \"\n",
    "        \"Pay special attention to the reference number to ensure it is correctly identified and extracted.\"\n",
    "    ),\n",
    " },\n",
    " ],\n",
    " }\n",
    "\n",
    "    result = client.chat.completions.create(\n",
    "        model=os.getenv(\"DEPLOYMENT_ID\"),\n",
    "        max_tokens=4000,\n",
    "        response_model=Invoice,\n",
    "        temperature=0,\n",
    "        messages=[user_message],\n",
    "    )\n",
    "\n",
    "    # Parse the result and return as Invoice\n",
    "    if result:\n",
    "        try:\n",
    "            receipt_data = result.model_dump()\n",
    "            receipt = Invoice(**receipt_data)\n",
    "            return receipt\n",
    "        except ValidationError as e:\n",
    "            print(f\"Error in parsing receipt details: {e}\")\n",
    "            raise\n",
    "    else:\n",
    "        raise ValueError(\"No response from the Azure OpenAI service\")\n"
   ]
  },
  {
   "cell_type": "code",
   "execution_count": 4,
   "metadata": {},
   "outputs": [
    {
     "name": "stdout",
     "output_type": "stream",
     "text": [
      "Extracted Items: [Item(name='HP Folie DIN A4, 50 St. mit Schutzhülle für HP PaintJet', price=125.28, quantity=2), Item(name='HP Einzelblätter DIN A4, 200 Blatt f. HP DeskJet 500C u. HP PaintJet', price=43.83, quantity=5)]\n",
      "Extracted Total Amount: 469.71\n",
      "Extracted Reference Number: 93980\n"
     ]
    }
   ],
   "source": [
    "# Example usage\n",
    "file_path = r\"C:\\Users\\pablosal\\Desktop\\gbb-ai-smart-document-processing\\utils\\data\\scanned\\test\\invoice\\invoice_4.png\"\n",
    "try:\n",
    "    invoice_data = extract_receipt(file_path)\n",
    "    print(\"Extracted Items:\", invoice_data.items)\n",
    "    print(\"Extracted Total Amount:\", invoice_data.total)\n",
    "    print(\"Extracted Reference Number:\", invoice_data.reference_number)\n",
    "except Exception as e:\n",
    "    print(f\"An error occurred: {e}\")"
   ]
  },
  {
   "cell_type": "code",
   "execution_count": 6,
   "metadata": {},
   "outputs": [
    {
     "name": "stdout",
     "output_type": "stream",
     "text": [
      "{\n",
      "    \"id\": \"93980\",\n",
      "    \"content\": \"\",\n",
      "    \"content_vector\": [],\n",
      "    \"total\": 469.71,\n",
      "    \"reference_number\": \"93980\",\n",
      "    \"signature_on_document\": \"No signature present\",\n",
      "    \"origin_address\": \"OHLBERG GmbH, Unterrather Str. 42, W-4000 D\\u00fcsseldorf 30\",\n",
      "    \"destination_address\": \"INBIFO Institut f. biologische Forschung GmbH, Fuggerstr. 3, 5000 K\\u00f6ln 90\",\n",
      "    \"items_purchased\": [\n",
      "        {\n",
      "            \"list_item\": \"HP Folie DIN A4, 50 St. mit Schutzh\\u00fclle f\\u00fcr HP PaintJet, 125.28, 2\"\n",
      "        },\n",
      "        {\n",
      "            \"list_item\": \"HP Einzelbl\\u00e4tter DIN A4, 200 Blatt f. HP DeskJet 500C u. HP PaintJet, 43.83, 5\"\n",
      "        }\n",
      "    ]\n",
      "}\n"
     ]
    }
   ],
   "source": [
    "import json\n",
    "from typing import Any\n",
    "\n",
    "\n",
    "def invoice_to_json(invoice: Invoice) -> str:\n",
    "    invoice_dict = invoice.dict()\n",
    "\n",
    "    json_object = {\n",
    "        \"id\": invoice_dict.get(\"reference_number\"),\n",
    "        \"content\": \"\",  \n",
    "        \"content_vector\": [],\n",
    "        \"total\": invoice_dict.get(\"total\"),\n",
    "        \"reference_number\": invoice_dict.get(\"reference_number\"),\n",
    "        \"signature_on_document\": invoice_dict.get(\"signature_on_document\"),\n",
    "        \"origin_address\": invoice_dict.get(\"origin_address\"),\n",
    "        \"destination_address\": invoice_dict.get(\"destination_address\"),\n",
    "        \"items_purchased\": [\n",
    "            {\"list_item\": f\"{item.name}, {item.price}, {item.quantity}\"}\n",
    "            for item in invoice.items\n",
    "        ],\n",
    "    }\n",
    "\n",
    "    return json.dumps(json_object, indent=4)\n",
    "\n",
    "json_output = invoice_to_json(invoice_data)\n",
    "print(json_output)"
   ]
  }
 ],
 "metadata": {
  "kernelspec": {
   "display_name": "document-intelligence",
   "language": "python",
   "name": "python3"
  },
  "language_info": {
   "codemirror_mode": {
    "name": "ipython",
    "version": 3
   },
   "file_extension": ".py",
   "mimetype": "text/x-python",
   "name": "python",
   "nbconvert_exporter": "python",
   "pygments_lexer": "ipython3",
   "version": "3.9.18"
  }
 },
 "nbformat": 4,
 "nbformat_minor": 2
}
